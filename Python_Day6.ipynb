{
  "nbformat": 4,
  "nbformat_minor": 0,
  "metadata": {
    "colab": {
      "name": "Python_Day6.ipynb",
      "provenance": []
    },
    "kernelspec": {
      "name": "python3",
      "display_name": "Python 3"
    },
    "language_info": {
      "name": "python"
    }
  },
  "cells": [
    {
      "cell_type": "code",
      "source": [
        "# Loops\n",
        "\n",
        "A=[4,5,6]\n",
        "#A=\"eepak is my Name\"\n",
        "#print(range(5))\n",
        "for i in A:\n",
        "  print(i)\n",
        "        \n",
        "\n",
        "i=0\n",
        "while (i<10):\n",
        "  print(i)\n",
        "  i=i+1\n",
        "\n"
      ],
      "metadata": {
        "colab": {
          "base_uri": "https://localhost:8080/"
        },
        "id": "yKU2OCBlIsVh",
        "outputId": "d8be9aa4-d64d-4740-ad96-b8185aa2fd93"
      },
      "execution_count": null,
      "outputs": [
        {
          "output_type": "stream",
          "name": "stdout",
          "text": [
            "4\n",
            "5\n",
            "6\n",
            "0\n",
            "1\n",
            "2\n",
            "3\n",
            "4\n",
            "5\n",
            "6\n",
            "7\n",
            "8\n",
            "9\n"
          ]
        }
      ]
    },
    {
      "cell_type": "code",
      "source": [
        "# Get number of employees ina company from user\n",
        "# For individual employee, Get information such as\n",
        "# Name, Experience, Current salary, Working Days\n",
        "# if the value input of any employee for working hours is less than 30 \n",
        "# You need to save the recordss in a dict. Full time, parttime\n",
        "\n",
        "NumEmp=int(input(\"Total Employees: \"))\n",
        "FlTim=[]\n",
        "PrtTim=[]\n",
        "for i in range(NumEmp):\n",
        "  Name=input(\"Enter Emp Name of Emp Number \"+str(i+1)+\"- \")\n",
        "  Exp=float(input(\"Enter Experience of Emp Number \"+str(i+1)+\"- \"))\n",
        "  Sal=float(input(\"Enter Current Salary of Emp Number \"+str(i+1)+\"- \"))\n",
        "  Dys=int(input(\"Enter Working days of Emp Number \"+str(i+1)+\"- \"))\n",
        "  if Dys>=30:\n",
        "    FlTim.append([Name,Exp,Sal,Dys])\n",
        "  else:\n",
        "    PrtTim.append([Name,Exp,Sal,Dys])\n",
        "\n",
        "print(FlTim)\n",
        "print(PrtTim)    \n"
      ],
      "metadata": {
        "colab": {
          "base_uri": "https://localhost:8080/"
        },
        "id": "t3ZjUc-vKrEg",
        "outputId": "74a1f408-4e0d-4bc6-b9c5-30b3ab5bf653"
      },
      "execution_count": null,
      "outputs": [
        {
          "output_type": "stream",
          "name": "stdout",
          "text": [
            "Total Employees: 3\n",
            "Enter Emp Name of Emp Number 1- Deepak\n",
            "Enter Experience of Emp Number 1- 5\n",
            "Enter Current Salary of Emp Number 1- 15000\n",
            "Enter Working days of Emp Number 1- 35\n",
            "Enter Emp Name of Emp Number 2- Karan\n",
            "Enter Experience of Emp Number 2- 7\n",
            "Enter Current Salary of Emp Number 2- 14000\n",
            "Enter Working days of Emp Number 2- 36\n",
            "Enter Emp Name of Emp Number 3- yogesh\n",
            "Enter Experience of Emp Number 3- 10\n",
            "Enter Current Salary of Emp Number 3- 45000\n",
            "Enter Working days of Emp Number 3- 20\n",
            "[['Deepak', 5.0, 15000.0, 35], ['Karan', 7.0, 14000.0, 36]]\n",
            "[['yogesh', 10.0, 45000.0, 20]]\n"
          ]
        }
      ]
    },
    {
      "cell_type": "markdown",
      "source": [
        ""
      ],
      "metadata": {
        "id": "NeL9LK6cMfv-"
      }
    },
    {
      "cell_type": "code",
      "source": [
        "Info={\"Fulltime\":FlTim,\"Parttime\":PrtTim}\n",
        "print(Info)\n",
        "\n",
        "print(Info[\"Fulltime\"])"
      ],
      "metadata": {
        "colab": {
          "base_uri": "https://localhost:8080/"
        },
        "id": "x_5RH2PQMdck",
        "outputId": "db80f594-5221-4523-e318-f0899a1ea476"
      },
      "execution_count": null,
      "outputs": [
        {
          "output_type": "stream",
          "name": "stdout",
          "text": [
            "{'Fulltime': [['Deepak', 5.0, 15000.0, 35], ['Karan', 7.0, 14000.0, 36]], 'Parttime': [['yogesh', 10.0, 45000.0, 20]]}\n",
            "[['Deepak', 5.0, 15000.0, 35], ['Karan', 7.0, 14000.0, 36]]\n"
          ]
        }
      ]
    },
    {
      "cell_type": "code",
      "source": [
        ""
      ],
      "metadata": {
        "id": "LdkM2wOVMbbN"
      },
      "execution_count": null,
      "outputs": []
    },
    {
      "cell_type": "code",
      "source": [
        "# COntrol Statements in Loops, Break, continue, pass\n",
        "A='Fuel for students'\n",
        "for i in A:\n",
        "  if i==\"e\":\n",
        "    break\n",
        "  print(i)  \n"
      ],
      "metadata": {
        "colab": {
          "base_uri": "https://localhost:8080/"
        },
        "id": "WCCMGNIgL2Di",
        "outputId": "bbad59b3-8d31-4173-fe26-d145948a2b5b"
      },
      "execution_count": null,
      "outputs": [
        {
          "output_type": "stream",
          "name": "stdout",
          "text": [
            "F\n",
            "u\n"
          ]
        }
      ]
    },
    {
      "cell_type": "code",
      "source": [
        "A='Fuel for students'\n",
        "for i in A:\n",
        "  if i==\"e\":\n",
        "    continue\n",
        "  print(i)  \n"
      ],
      "metadata": {
        "id": "Jqs029XlQwtp"
      },
      "execution_count": null,
      "outputs": []
    },
    {
      "cell_type": "code",
      "source": [
        "A='Fuel for students'\n",
        "for i in A:\n",
        "  if i==\"e\":\n",
        "    pass\n",
        "  print(i)  \n"
      ],
      "metadata": {
        "colab": {
          "base_uri": "https://localhost:8080/"
        },
        "id": "FBnBXypAQ0r_",
        "outputId": "1e386595-ecaf-4db8-9344-ef43bbea2f3b"
      },
      "execution_count": null,
      "outputs": [
        {
          "output_type": "stream",
          "name": "stdout",
          "text": [
            "F\n",
            "u\n",
            "e\n",
            "l\n",
            " \n",
            "f\n",
            "o\n",
            "r\n",
            " \n",
            "s\n",
            "t\n",
            "u\n",
            "d\n",
            "e\n",
            "n\n",
            "t\n",
            "s\n"
          ]
        }
      ]
    },
    {
      "cell_type": "code",
      "source": [
        ""
      ],
      "metadata": {
        "id": "T-2WfS1ZRIHu"
      },
      "execution_count": null,
      "outputs": []
    },
    {
      "cell_type": "markdown",
      "source": [
        "### Task\n",
        "Get a list of integer elements in a single line\n",
        "  - print elements at even location\n",
        "  - print last 5 elements of list, if any element is greater than 10 stop printing\n",
        "  - print even numbers of the list\n",
        "\n",
        "\n",
        "  "
      ],
      "metadata": {
        "id": "b6OH21HVSYAP"
      }
    },
    {
      "cell_type": "code",
      "source": [
        "\n",
        "MainData=list(map(int,input(\"Enter Elements seperated by comma: \").split(\",\")))\n",
        "while len(MainData)!=10:\n",
        "  print(\"Count Given By You is Not Satifactorty\")\n",
        "  print(\"Please Try Again\")\n",
        "  MainData=list(map(int,input(\"Enter Elements seperated by comma: \").split(\",\")))\n",
        "else:\n",
        "  print(\"You are in Else Block SO i waill run once\")\n",
        "  print(\"Please Try Again\")\n",
        "  MainData=list(map(int,input(\"Enter Elements seperated by comma: \").split(\",\")))\n",
        "\n"
      ],
      "metadata": {
        "colab": {
          "base_uri": "https://localhost:8080/",
          "height": 339
        },
        "id": "nN5rpvVsZ1Ib",
        "outputId": "c68a61d0-6f15-4ac3-cf58-59a0f1014082"
      },
      "execution_count": null,
      "outputs": [
        {
          "name": "stdout",
          "output_type": "stream",
          "text": [
            "Enter Elements seperated by comma: 1,2,3,5\n",
            "Count Given By You is Not Satifactorty\n",
            "Please Try Again\n",
            "Enter Elements seperated by comma: 1,2,3,4,5,6,7,8,9,1\n",
            "You are in Else Block SO i waill run once\n",
            "Please Try Again\n",
            "Enter Elements seperated by comma: 1,2,4,5,\n"
          ]
        },
        {
          "output_type": "error",
          "ename": "ValueError",
          "evalue": "ignored",
          "traceback": [
            "\u001b[0;31m---------------------------------------------------------------------------\u001b[0m",
            "\u001b[0;31mValueError\u001b[0m                                Traceback (most recent call last)",
            "\u001b[0;32m<ipython-input-39-5578973b61d4>\u001b[0m in \u001b[0;36m<module>\u001b[0;34m()\u001b[0m\n\u001b[1;32m      8\u001b[0m   \u001b[0mprint\u001b[0m\u001b[0;34m(\u001b[0m\u001b[0;34m\"You are in Else Block SO i waill run once\"\u001b[0m\u001b[0;34m)\u001b[0m\u001b[0;34m\u001b[0m\u001b[0;34m\u001b[0m\u001b[0m\n\u001b[1;32m      9\u001b[0m   \u001b[0mprint\u001b[0m\u001b[0;34m(\u001b[0m\u001b[0;34m\"Please Try Again\"\u001b[0m\u001b[0;34m)\u001b[0m\u001b[0;34m\u001b[0m\u001b[0;34m\u001b[0m\u001b[0m\n\u001b[0;32m---> 10\u001b[0;31m   \u001b[0mMainData\u001b[0m\u001b[0;34m=\u001b[0m\u001b[0mlist\u001b[0m\u001b[0;34m(\u001b[0m\u001b[0mmap\u001b[0m\u001b[0;34m(\u001b[0m\u001b[0mint\u001b[0m\u001b[0;34m,\u001b[0m\u001b[0minput\u001b[0m\u001b[0;34m(\u001b[0m\u001b[0;34m\"Enter Elements seperated by comma: \"\u001b[0m\u001b[0;34m)\u001b[0m\u001b[0;34m.\u001b[0m\u001b[0msplit\u001b[0m\u001b[0;34m(\u001b[0m\u001b[0;34m\",\"\u001b[0m\u001b[0;34m)\u001b[0m\u001b[0;34m)\u001b[0m\u001b[0;34m)\u001b[0m\u001b[0;34m\u001b[0m\u001b[0;34m\u001b[0m\u001b[0m\n\u001b[0m\u001b[1;32m     11\u001b[0m \u001b[0;34m\u001b[0m\u001b[0m\n",
            "\u001b[0;31mValueError\u001b[0m: invalid literal for int() with base 10: ''"
          ]
        }
      ]
    },
    {
      "cell_type": "code",
      "source": [
        "MainData=list(map(int,input(\"Enter Elements seperated by comma: \").split(\",\")))\n",
        "print(MainData)\n",
        "#task 1\n",
        "#for i in range(len(MainData)):\n",
        "#  if i%2 == 0:\n",
        "#    print(MainData[i])\n",
        "\n",
        "# Task 2\n",
        "Myreq=MainData[-5:]\n",
        "for i in Myreq:   # element basis\n",
        "  if i>10:\n",
        "    continue\n",
        "  print(i)  \n",
        "\n",
        "# Task 2 Way 2\n",
        "for i in range(len(MainData)):   # index basis with no slicing\n",
        "  if i>=(len(MainData)-5):\n",
        "    Temp=MainData[i]\n",
        "    if Temp>10:\n",
        "      break\n",
        "    print(Temp)  \n",
        "\n",
        "\n",
        "# task 3\n",
        "for i in MainData:\n",
        "  if i%2 == 0:\n",
        "    print(i)"
      ],
      "metadata": {
        "colab": {
          "base_uri": "https://localhost:8080/"
        },
        "id": "Elynhc8lTvo_",
        "outputId": "adf52578-4bc4-4d54-ac1d-5b72b4b83f83"
      },
      "execution_count": null,
      "outputs": [
        {
          "output_type": "stream",
          "name": "stdout",
          "text": [
            "Enter Elements seperated by comma: 4\n",
            "[4]\n",
            "4\n",
            "4\n",
            "4\n"
          ]
        }
      ]
    },
    {
      "cell_type": "code",
      "source": [
        "#1\n",
        "#2 2\n",
        "#3 3 3\n",
        "#4 4 4 4\n",
        "\n",
        "for i in range(5):\n",
        "  for j in range(i):\n",
        "    print(i,end=\" \")\n",
        "  print(\"\\n\")  "
      ],
      "metadata": {
        "colab": {
          "base_uri": "https://localhost:8080/"
        },
        "id": "vrv_mktWcuER",
        "outputId": "dd229490-d56b-4740-90fc-1c385db94159"
      },
      "execution_count": null,
      "outputs": [
        {
          "output_type": "stream",
          "name": "stdout",
          "text": [
            "\n",
            "\n",
            "1 \n",
            "\n",
            "2 2 \n",
            "\n",
            "3 3 3 \n",
            "\n",
            "4 4 4 4 \n",
            "\n"
          ]
        }
      ]
    },
    {
      "cell_type": "code",
      "source": [
        "1\n",
        "12\n",
        "123\n",
        "1234\n",
        "12345\n",
        "123456"
      ],
      "metadata": {
        "id": "16ox002wf3Yy"
      },
      "execution_count": null,
      "outputs": []
    }
  ]
}