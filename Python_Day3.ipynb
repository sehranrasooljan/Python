{
  "nbformat": 4,
  "nbformat_minor": 0,
  "metadata": {
    "colab": {
      "name": "Python_Day3.ipynb",
      "provenance": [],
      "collapsed_sections": []
    },
    "kernelspec": {
      "name": "python3",
      "display_name": "Python 3"
    },
    "language_info": {
      "name": "python"
    }
  },
  "cells": [
    {
      "cell_type": "markdown",
      "source": [
        "# **Tasks**\n",
        "## 1) WAP by using string \"Changing 1s Ideas into 100's Reality\", show results as per following cases\n",
        "- Check whether the string has \"ea\" is in it or not\n",
        "- Find index of \"a\"\n",
        "- Check whether the string has alphabets only, or alphanumeric\n",
        "- Reverse the format of given string by changing capital to lower and lower to capital  \n",
        "\n",
        "## 2) WAP having 2 inputs from user, both as 2 words, check following condition and show results\n",
        "- Print whether both input are same or not\n",
        "- Print last letter of first string concatinated with first word of first string\n",
        "- Get last word of String 1, and embed it to string 2 after second word\n",
        "\n",
        "## 3) WAP with a string \"abc hello where is this Chandigarh situated abc\" print string between first a and last a, without giving manual index, use only functions. "
      ],
      "metadata": {
        "id": "r3JcY3AzP2M-"
      }
    },
    {
      "cell_type": "code",
      "source": [
        "Inp=\"Changing 1s Ideas into 100's Reality\"\n",
        "print(\"ea\" in Inp)\n",
        "print(Inp.index(\"a\"))\n",
        "print(Inp.isalpha())\n",
        "print(Inp.isalnum())\n",
        "print(Inp.swapcase())\n",
        "\n",
        "print(\"Inp456\".isalnum())\n",
        "print(\"456\".isalnum())\n",
        "print(\"Inp\".isalnum())\n"
      ],
      "metadata": {
        "id": "pZATbz1RRbZR"
      },
      "execution_count": null,
      "outputs": []
    },
    {
      "cell_type": "code",
      "source": [
        "Str1=input(\"Enter Ist String: \")\n",
        "Str2=input(\"Enter 2nd String: \")\n",
        "print(\"Both Entered words are Same ? \",Str1==Str2)"
      ],
      "metadata": {
        "colab": {
          "base_uri": "https://localhost:8080/"
        },
        "id": "bE5OBz78e9Id",
        "outputId": "0b5c4a50-5d58-4974-d05b-aa5c9e2ccf57"
      },
      "execution_count": null,
      "outputs": [
        {
          "output_type": "stream",
          "name": "stdout",
          "text": [
            "Enter Ist String: Deepak\n",
            "Enter 2nd String: Deepak\n",
            "Both Entered words are Same ?  True\n"
          ]
        }
      ]
    },
    {
      "cell_type": "code",
      "source": [
        "Str1=\"Hello Friends\"\n",
        "A=Str1[-1]\n",
        "B=Str1.find(\" \")\n",
        "print(A+Str1[0:B])"
      ],
      "metadata": {
        "colab": {
          "base_uri": "https://localhost:8080/"
        },
        "id": "BoI6ou-NjKvZ",
        "outputId": "7bade7bb-8740-4f37-a281-5580fd70abbc"
      },
      "execution_count": null,
      "outputs": [
        {
          "output_type": "stream",
          "name": "stdout",
          "text": [
            "sHello\n"
          ]
        }
      ]
    },
    {
      "cell_type": "code",
      "source": [
        "## LIST\n",
        "A=\"Hi I am here to Teach YOu\"\n",
        "B=A.split(\" \")\n",
        "print(B)\n",
        "print(type(B))"
      ],
      "metadata": {
        "colab": {
          "base_uri": "https://localhost:8080/"
        },
        "id": "DbO8Y0Enjv3_",
        "outputId": "7500e6bb-265c-49f2-a553-2c6d546d99bb"
      },
      "execution_count": null,
      "outputs": [
        {
          "output_type": "stream",
          "name": "stdout",
          "text": [
            "['Hi', 'I', 'am', 'here', 'to', 'Teach', 'YOu']\n",
            "<class 'list'>\n"
          ]
        }
      ]
    },
    {
      "cell_type": "code",
      "source": [
        "A=[3,4,5,6,7]\n",
        "print(A)\n",
        "A=[3,4,5.0,'6',7,'A']\n",
        "print(A)"
      ],
      "metadata": {
        "colab": {
          "base_uri": "https://localhost:8080/"
        },
        "id": "utLc-WENlfPb",
        "outputId": "b2dd6bd0-6864-4eb3-8484-565506c47d9a"
      },
      "execution_count": null,
      "outputs": [
        {
          "output_type": "stream",
          "name": "stdout",
          "text": [
            "[3, 4, 5, 6, 7]\n",
            "[3, 4, 5.0, '6', 7, 'A']\n"
          ]
        }
      ]
    },
    {
      "cell_type": "code",
      "source": [
        "A=[3,4,5.0,'6',7,'A']\n",
        "print(A[0])\n",
        "\n",
        "# create 1 list with 5 elements, and print last 2 elements using negative index\n",
        "print(A[-2:])"
      ],
      "metadata": {
        "colab": {
          "base_uri": "https://localhost:8080/"
        },
        "id": "EhLv1olyl85A",
        "outputId": "9660f60a-6431-4ac2-928c-67b9f3b7baa3"
      },
      "execution_count": null,
      "outputs": [
        {
          "output_type": "stream",
          "name": "stdout",
          "text": [
            "3\n",
            "[7, 'A']\n"
          ]
        }
      ]
    },
    {
      "cell_type": "code",
      "source": [
        "A=[3,4,5.0,'6',7,'A']\n",
        "A[2]=\"Deepak\"\n",
        "B=A[2]\n",
        "print(B[1:3])"
      ],
      "metadata": {
        "colab": {
          "base_uri": "https://localhost:8080/"
        },
        "id": "w_Y9z8c5nj5s",
        "outputId": "95766cd2-230a-407a-d050-9c1d2d0f201f"
      },
      "execution_count": null,
      "outputs": [
        {
          "output_type": "stream",
          "name": "stdout",
          "text": [
            "ee\n"
          ]
        }
      ]
    },
    {
      "cell_type": "code",
      "source": [
        "A=['ram','rakesh','satbir','Krishan','Boss']\n",
        "B=['Kran']\n",
        "D='Karan'\n",
        "#append \n",
        "#extend \n",
        "#insert \n",
        "\n",
        "                #append :used to add elements in string\n",
        "A.append(\"Karan\")\n",
        "print(A)\n",
        "A.append([\"Karan\",'Arjun'])\n",
        "print(A)\n",
        "print(A[-1])"
      ],
      "metadata": {
        "colab": {
          "base_uri": "https://localhost:8080/"
        },
        "id": "CSVFk50erGLU",
        "outputId": "511e82e0-2ab0-4586-d08b-a3eeef97da93"
      },
      "execution_count": null,
      "outputs": [
        {
          "output_type": "stream",
          "name": "stdout",
          "text": [
            "['ram', 'rakesh', 'satbir', 'Krishan', 'Boss', 'Karan']\n",
            "['ram', 'rakesh', 'satbir', 'Krishan', 'Boss', 'Karan', ['Karan', 'Arjun']]\n",
            "['Karan', 'Arjun']\n",
            "['ram', 'rakesh', 'satbir', 'Krishan', 'Boss', 'K', 'a', 'r', 'a', 'n']\n"
          ]
        }
      ]
    },
    {
      "cell_type": "code",
      "source": [
        "#extend : It also add items in list but it works itrately\n",
        "A=['ram','rakesh','satbir','Krishan','Boss']\n",
        "A.extend(\"Karan\")\n",
        "print(A)\n",
        "\n",
        "A=['ram','rakesh','satbir','Krishan','Boss']\n",
        "A.extend([\"Karan\",'Arjun'])\n",
        "print(A)"
      ],
      "metadata": {
        "colab": {
          "base_uri": "https://localhost:8080/"
        },
        "id": "46tNjpXPsZ-Z",
        "outputId": "e88a4463-c72a-4128-f934-8bbdc72a569b"
      },
      "execution_count": null,
      "outputs": [
        {
          "output_type": "stream",
          "name": "stdout",
          "text": [
            "['ram', 'rakesh', 'satbir', 'Krishan', 'Boss', 'K', 'a', 'r', 'a', 'n']\n",
            "['ram', 'rakesh', 'satbir', 'Krishan', 'Boss', 'Karan', 'Arjun']\n"
          ]
        }
      ]
    },
    {
      "cell_type": "code",
      "source": [
        "#insert : it insert data at paticular index\n",
        "A=['ram','rakesh','satbir','Krishan','Boss']\n",
        "A.insert(2,\"Deepak\")\n",
        "print(A)"
      ],
      "metadata": {
        "colab": {
          "base_uri": "https://localhost:8080/"
        },
        "id": "lQq6murls2zC",
        "outputId": "c7f08d00-7c94-484e-b60e-d618e0f99047"
      },
      "execution_count": null,
      "outputs": [
        {
          "output_type": "stream",
          "name": "stdout",
          "text": [
            "['ram', 'rakesh', 'Deepak', 'satbir', 'Krishan', 'Boss']\n"
          ]
        }
      ]
    },
    {
      "cell_type": "code",
      "source": [
        "# Q) Replace at 4 index\n",
        "A=['ram','rakesh','satbir','Krishan','Boss']\n",
        "A[4]=\"Deepak\"\n",
        "print(A)"
      ],
      "metadata": {
        "id": "zPSxs59ztSh3"
      },
      "execution_count": null,
      "outputs": []
    },
    {
      "cell_type": "code",
      "source": [
        "#inert at 5th insex and 10 index\n",
        "A=['ram','rakesh','satbir','Krishan','Boss']\n",
        "A.insert(5,\"Deepak\")\n",
        "print(A)\n",
        "A.insert(10,\"Deepak\") # it wil insert at the end no matter what is the last index\n",
        "print(A)"
      ],
      "metadata": {
        "colab": {
          "base_uri": "https://localhost:8080/"
        },
        "id": "N4psAlZbttLp",
        "outputId": "d98f4026-42f3-4607-94db-2e1bbb544dc9"
      },
      "execution_count": null,
      "outputs": [
        {
          "output_type": "stream",
          "name": "stdout",
          "text": [
            "['ram', 'rakesh', 'satbir', 'Krishan', 'Boss', 'Deepak']\n",
            "['ram', 'rakesh', 'satbir', 'Krishan', 'Boss', 'Deepak', 'Deepak']\n"
          ]
        }
      ]
    },
    {
      "cell_type": "code",
      "source": [
        "#delete\n",
        "A=['ram','rakesh','satbir','Krishan','Boss']\n",
        "del A[0]\n",
        "print(A)"
      ],
      "metadata": {
        "colab": {
          "base_uri": "https://localhost:8080/"
        },
        "id": "Gklt7v5GuIfp",
        "outputId": "a6f471b3-3d70-40a6-a04c-d4c78679805f"
      },
      "execution_count": null,
      "outputs": [
        {
          "output_type": "stream",
          "name": "stdout",
          "text": [
            "['rakesh', 'satbir', 'Krishan', 'Boss']\n"
          ]
        }
      ]
    },
    {
      "cell_type": "code",
      "source": [
        "A='Big Boss'\n",
        "del A[0]\n",
        "print(A)"
      ],
      "metadata": {
        "id": "gqRkYaayuTYp"
      },
      "execution_count": null,
      "outputs": []
    },
    {
      "cell_type": "code",
      "source": [
        "A=['ram','rakesh','satbir','Krishan','Boss']\n",
        "del A\n",
        "print(A)"
      ],
      "metadata": {
        "id": "DBxUkrV4ugjo"
      },
      "execution_count": null,
      "outputs": []
    },
    {
      "cell_type": "code",
      "source": [
        "A='Big Boss'\n",
        "del A\n",
        "print(A)"
      ],
      "metadata": {
        "id": "2cDDVtPCu0jK"
      },
      "execution_count": null,
      "outputs": []
    },
    {
      "cell_type": "code",
      "source": [
        "# remove : here we can remove/delete by giving acurate name of that element\n",
        "A=['ram','rakesh','satbir','Krishan','Boss']\n",
        "A.remove(\"rakesh\")\n",
        "print(A)\n",
        "A.remove(1)\n",
        "print(A)\n"
      ],
      "metadata": {
        "id": "G1t6Ud49vAm-"
      },
      "execution_count": null,
      "outputs": []
    },
    {
      "cell_type": "code",
      "source": [
        "print(A.pop())"
      ],
      "metadata": {
        "colab": {
          "base_uri": "https://localhost:8080/"
        },
        "id": "ifcOBKFXvdYP",
        "outputId": "da3f41c1-866d-4a68-e6d7-72e0220323bb"
      },
      "execution_count": null,
      "outputs": [
        {
          "output_type": "stream",
          "name": "stdout",
          "text": [
            "Boss\n"
          ]
        }
      ]
    },
    {
      "cell_type": "markdown",
      "source": [
        "Get Name of employee,\n",
        "Salary,\n",
        "Total working days,\n",
        "Pay for additional days,\n",
        "and add this information to a list with a calculated values of = \n",
        "Salary+Additional days*Pay for aditional days"
      ],
      "metadata": {
        "id": "-fI6T6KUwekd"
      }
    },
    {
      "cell_type": "code",
      "source": [
        "Name=input(\"Enter Name: \")\n",
        "Sal=int(input(\"Enter Salary: \"))\n",
        "Day=int(input(\"Enter Working Days: \"))\n",
        "Pday=int(input(\"Enter Pay for Overday: \"))\n",
        "CalVal=Sal+(Day-30)*Pday\n",
        "Name2=input(\"Enter Name: \")\n",
        "Sal2=int(input(\"Enter Salary: \"))\n",
        "Day2=int(input(\"Enter Working Days: \"))\n",
        "Pday2=int(input(\"Enter Pay for Overday: \"))\n",
        "CalVal2=Sal2+(Day2-30)*Pday2\n",
        "Info=[Name,Sal,Day,Pday,CalVal,Name2,Sal2,Day2,Pday2,CalVal2]\n",
        "print(Info)\n"
      ],
      "metadata": {
        "id": "CAcJJuDovu6K"
      },
      "execution_count": null,
      "outputs": []
    },
    {
      "cell_type": "code",
      "source": [
        "A=[4,7,1,2,9]\n",
        "print(max(A))\n",
        "A=['Za','Asd','Bhsd','rakes','Noo','Aa']\n",
        "print(max(A))\n",
        "print(min(A))\n",
        "A.sort()\n",
        "print(A)"
      ],
      "metadata": {
        "colab": {
          "base_uri": "https://localhost:8080/"
        },
        "id": "UEIAvXU90s0h",
        "outputId": "f21ca443-7bba-4605-90cb-0e169db6de9e"
      },
      "execution_count": null,
      "outputs": [
        {
          "output_type": "stream",
          "name": "stdout",
          "text": [
            "9\n",
            "rakes\n",
            "Aa\n",
            "['Aa', 'Asd', 'Bhsd', 'Noo', 'Za', 'rakes']\n"
          ]
        }
      ]
    },
    {
      "cell_type": "code",
      "source": [
        "A=['Za','Asd','Bhsd','rakes','Noo']\n",
        "B=A\n",
        "#B.pop()\n",
        "#print(B)\n",
        "C=B.pop()\n",
        "print(C)\n",
        "print(B)\n",
        "print(A)"
      ],
      "metadata": {
        "colab": {
          "base_uri": "https://localhost:8080/"
        },
        "id": "4FL0BuN51ylV",
        "outputId": "400121d7-665e-47a3-e25a-45442967425a"
      },
      "execution_count": null,
      "outputs": [
        {
          "output_type": "stream",
          "name": "stdout",
          "text": [
            "Noo\n",
            "['Za', 'Asd', 'Bhsd', 'rakes']\n",
            "['Za', 'Asd', 'Bhsd', 'rakes']\n"
          ]
        }
      ]
    },
    {
      "cell_type": "code",
      "source": [
        "A=['Za','Asd','Bhsd','rakes','Noo']\n",
        "B=A.copy()\n",
        "C=B.pop()\n",
        "print(C)\n",
        "print(B)\n",
        "print(A)\n"
      ],
      "metadata": {
        "colab": {
          "base_uri": "https://localhost:8080/"
        },
        "id": "g6r_zjXI06C3",
        "outputId": "880d46d2-c8ea-47a5-83c8-65ef6d8dda15"
      },
      "execution_count": null,
      "outputs": [
        {
          "output_type": "stream",
          "name": "stdout",
          "text": [
            "Noo\n",
            "['Za', 'Asd', 'Bhsd', 'rakes']\n",
            "['Za', 'Asd', 'Bhsd', 'rakes', 'Noo']\n"
          ]
        }
      ]
    }
  ]
}