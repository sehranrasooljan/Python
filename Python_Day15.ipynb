{
  "nbformat": 4,
  "nbformat_minor": 0,
  "metadata": {
    "colab": {
      "name": "Python15_Code.ipynb",
      "provenance": [],
      "collapsed_sections": []
    },
    "kernelspec": {
      "name": "python3",
      "display_name": "Python 3"
    },
    "language_info": {
      "name": "python"
    }
  },
  "cells": [
    {
      "cell_type": "code",
      "source": [
        "# WAP to collect data of students in form of \n",
        "# dataframe having index as names given by user\n",
        "# and columns as attrributes as follow:\n",
        "# Age, Contact, Email, Semester, Average Marks till now, \n",
        "# Branch, PLacement status\n",
        "\n",
        "# Count of Students\n",
        "#      Age, Contact, Email, Sem, AMarks, Branch, Pstatus\n",
        "# Deep 12   45646    sa@gml  5    455     ece       P\n",
        "# Aksh 45    44546   sa@da   6    444     cse       Np"
      ],
      "metadata": {
        "id": "KaWb9vryWPg-"
      },
      "execution_count": null,
      "outputs": []
    },
    {
      "cell_type": "code",
      "execution_count": null,
      "metadata": {
        "id": "ylBXQ6arVGk_"
      },
      "outputs": [],
      "source": [
        "import pandas as pd\n",
        "import numpy as np\n",
        "Cnt=int(input(\"Count: \"))\n",
        "nam=[]\n",
        "age=[]\n",
        "cntct=[]\n",
        "eml=[]\n",
        "sem=[]\n",
        "amrk=[]\n",
        "branc=[]\n",
        "pstatus=[]\n",
        "for num in range(Cnt):\n",
        "  nam.append(input(\"ENter Name: \"))\n",
        "  age.append(input(\"ENter age: \"))\n",
        "  cntct.append(input(\"ENter cntct: \"))\n",
        "  eml.append(input(\"ENter eml: \"))\n",
        "  sem.append(input(\"ENter sem: \"))\n",
        "  amrk.append(input(\"ENter marks: \"))\n",
        "  branc.append(input(\"ENter branch: \"))\n",
        "  pstatus.append(input(\"ENter status: \"))\n",
        "\n",
        "Info={\"Age\":age,\"Contact\":cntct,\"Email\":eml,\"Sem\":sem,\"Avg Mark\":amrk,\"Branch\":branc,\n",
        "      \"PlaceS\":pstatus}\n",
        "FRecords=pd.DataFrame(Info,index=nam)\n",
        "print(FRecords)      "
      ]
    },
    {
      "cell_type": "code",
      "source": [
        "# Accessing elements in Dataframe\n",
        "print(FRecords)      \n",
        "print(FRecords[\"Contact\"][\"deepaj\"])"
      ],
      "metadata": {
        "id": "OityRiVyYksi"
      },
      "execution_count": null,
      "outputs": []
    },
    {
      "cell_type": "code",
      "source": [
        "print(FRecords.loc[\"deepaj\"])"
      ],
      "metadata": {
        "id": "O6KkTXliZecO"
      },
      "execution_count": null,
      "outputs": []
    },
    {
      "cell_type": "code",
      "source": [
        "print(FRecords.loc[\"deepaj\"])\n",
        "print(FRecords.loc[\"deepaj\"].Contact)"
      ],
      "metadata": {
        "id": "cw5nCZgBaKmd"
      },
      "execution_count": null,
      "outputs": []
    },
    {
      "cell_type": "code",
      "source": [
        "print(FRecords.iloc[0])"
      ],
      "metadata": {
        "id": "cn8dg9bSabRd"
      },
      "execution_count": null,
      "outputs": []
    },
    {
      "cell_type": "code",
      "source": [
        "print(FRecords[\"Contact\"][0])"
      ],
      "metadata": {
        "id": "UvQfQdlSamIM"
      },
      "execution_count": null,
      "outputs": []
    },
    {
      "cell_type": "code",
      "source": [
        "tmp=np.random.randint(5,150,(3,4))\n",
        "Mydf=pd.DataFrame(tmp)\n",
        "Mydf.index=[\"A\",\"B\",\"C\"]\n",
        "Mydf.columns=[\"Age\",\"Marks\",\"Id\",\"Sem\"]\n",
        "print(Mydf)\n",
        "print('----------------------------')\n",
        "print([Mydf[\"Marks\"][\"B\"],Mydf[\"Id\"][\"B\"],Mydf[\"Sem\"][\"B\"]])\n",
        "print([Mydf.loc[\"B\"].Marks,Mydf.loc[\"B\"].Id])\n",
        "print([Mydf.iloc[1].Marks,Mydf.iloc[1].Id])\n"
      ],
      "metadata": {
        "id": "8QFXcGaTbCg7"
      },
      "execution_count": null,
      "outputs": []
    },
    {
      "cell_type": "code",
      "source": [
        "print(Mydf)\n",
        "Mydf[\"Psts\"]=[\"P\",\"F\",\"S\"]\n",
        "print(Mydf)\n"
      ],
      "metadata": {
        "id": "GDVwqpJJfp3Q"
      },
      "execution_count": null,
      "outputs": []
    },
    {
      "cell_type": "code",
      "source": [
        "tmp=np.random.randint(5,150,(3,4))\n",
        "Newdf=pd.DataFrame(tmp)\n",
        "Newdf.index=[\"A\",\"B\",\"C\"]\n",
        "Newdf.columns=[\"Age\",\"Marks\",\"Id\",\"Sem\"]\n",
        "print(Newdf)\n",
        "print(Mydf)"
      ],
      "metadata": {
        "colab": {
          "base_uri": "https://localhost:8080/"
        },
        "id": "ddiDdDkTgIWP",
        "outputId": "097789a1-051e-4cf6-e615-dd0a898f54fd"
      },
      "execution_count": null,
      "outputs": [
        {
          "output_type": "stream",
          "name": "stdout",
          "text": [
            "   Age  Marks   Id  Sem\n",
            "A   25     53  149   13\n",
            "B   13    129   99   71\n",
            "C   71    112   60  124\n",
            "   Age  Marks  Id  Sem Psts\n",
            "A  149     12   9   11    P\n",
            "B    9     28  81  130    F\n",
            "C   79    117  26  133    S\n"
          ]
        }
      ]
    },
    {
      "cell_type": "code",
      "source": [
        "#print(Newdf+Mydf)\n",
        "Newdf=Newdf.append(Mydf)\n",
        "print(Newdf)"
      ],
      "metadata": {
        "id": "B9U1lX3JgXgW"
      },
      "execution_count": null,
      "outputs": []
    },
    {
      "cell_type": "code",
      "source": [
        "Newdf=Newdf.append([4,5,6])\n",
        "print(Newdf)"
      ],
      "metadata": {
        "id": "U3Xkl2Vshgg8"
      },
      "execution_count": null,
      "outputs": []
    },
    {
      "cell_type": "code",
      "source": [
        "tmp=np.random.randint(5,150,(3,4))\n",
        "Newdf=pd.DataFrame(tmp)\n",
        "Newdf.index=[\"A\",\"B\",\"C\"]\n",
        "Newdf.columns=[\"Age\",\"Marks\",\"Id\",\"Sem\"]\n",
        "print(Newdf)"
      ],
      "metadata": {
        "colab": {
          "base_uri": "https://localhost:8080/"
        },
        "id": "tfGzvuGxiYmN",
        "outputId": "969f78b5-bb30-45f0-9dd4-8c09e886d0a3"
      },
      "execution_count": null,
      "outputs": [
        {
          "output_type": "stream",
          "name": "stdout",
          "text": [
            "   Age  Marks   Id  Sem\n",
            "A   37     58   68   89\n",
            "B  122     32  134   16\n",
            "C   23     42  106   43\n"
          ]
        }
      ]
    },
    {
      "cell_type": "code",
      "source": [
        "print(Newdf[\"Age\"])\n",
        "print(Newdf[\"Marks\"])\n",
        "Newdf[\"Total\"]=Newdf[\"Age\"]+Newdf[\"Marks\"]\n",
        "print(Newdf)"
      ],
      "metadata": {
        "colab": {
          "base_uri": "https://localhost:8080/"
        },
        "id": "kUZxq9ugkP01",
        "outputId": "7dc0869e-cdd5-4f17-9c04-2b3f36b0dcff"
      },
      "execution_count": null,
      "outputs": [
        {
          "output_type": "stream",
          "name": "stdout",
          "text": [
            "A     37\n",
            "B    122\n",
            "C     23\n",
            "Name: Age, dtype: int64\n",
            "A    58\n",
            "B    32\n",
            "C    42\n",
            "Name: Marks, dtype: int64\n",
            "   Age  Marks   Id  Sem  Total\n",
            "A   37     58   68   89     95\n",
            "B  122     32  134   16    154\n",
            "C   23     42  106   43     65\n"
          ]
        }
      ]
    },
    {
      "cell_type": "code",
      "source": [
        "print(Newdf)\n",
        "Newdf.insert(2,\"Branch\",[\"ECE\",\"ECE\",\"Mech\"])\n",
        "print(Newdf)\n",
        "# error case bcz Branch already exist\n",
        "#Newdf.insert(2,\"Branch\",[\"ECE\",\"ECE\",\"Mech\"])\n",
        "#print(Newdf)\n"
      ],
      "metadata": {
        "colab": {
          "base_uri": "https://localhost:8080/"
        },
        "id": "0XtmFdxtmEGw",
        "outputId": "257bc146-bfbc-4cad-fab7-bd97cbd841aa"
      },
      "execution_count": null,
      "outputs": [
        {
          "output_type": "stream",
          "name": "stdout",
          "text": [
            "   Age  Marks   Id  Sem  Total\n",
            "A   37     58   68   89     95\n",
            "B  122     32  134   16    154\n",
            "C   23     42  106   43     65\n",
            "   Age  Marks Branch   Id  Sem  Total\n",
            "A   37     58    ECE   68   89     95\n",
            "B  122     32    ECE  134   16    154\n",
            "C   23     42   Mech  106   43     65\n"
          ]
        }
      ]
    },
    {
      "cell_type": "code",
      "source": [
        "Newdf.insert(3,\"Branch4\",[\"ECE\",\"ECE\",\"Mech\"])\n",
        "print(Newdf)"
      ],
      "metadata": {
        "colab": {
          "base_uri": "https://localhost:8080/"
        },
        "id": "rhUOD2HznM44",
        "outputId": "2d2305c1-d72f-4b12-ac24-ae38e87d7609"
      },
      "execution_count": null,
      "outputs": [
        {
          "output_type": "stream",
          "name": "stdout",
          "text": [
            "   Age  Marks Branch Branch4 Branch2 Branch1   Id  Sem  Total\n",
            "A   37     58    ECE     ECE     ECE     ECE   68   89     95\n",
            "B  122     32    ECE     ECE     ECE     ECE  134   16    154\n",
            "C   23     42   Mech    Mech    Mech    Mech  106   43     65\n"
          ]
        }
      ]
    },
    {
      "cell_type": "code",
      "source": [
        "print(Newdf.drop([\"B\"]))"
      ],
      "metadata": {
        "colab": {
          "base_uri": "https://localhost:8080/"
        },
        "id": "Dz1oaZlInefv",
        "outputId": "8941ae72-a56f-4110-aef9-9a3975e6be4a"
      },
      "execution_count": null,
      "outputs": [
        {
          "output_type": "stream",
          "name": "stdout",
          "text": [
            "   Age  Marks Branch Branch4 Branch2 Branch1   Id  Sem  Total\n",
            "A   37     58    ECE     ECE     ECE     ECE   68   89     95\n",
            "C   23     42   Mech    Mech    Mech    Mech  106   43     65\n"
          ]
        }
      ]
    },
    {
      "cell_type": "code",
      "source": [
        "print(Newdf.drop([\"Branch4\"],axis=1))"
      ],
      "metadata": {
        "colab": {
          "base_uri": "https://localhost:8080/"
        },
        "id": "5ueUnEUSnwIa",
        "outputId": "5792ff5c-753b-47c4-d804-06c16a927c23"
      },
      "execution_count": null,
      "outputs": [
        {
          "output_type": "stream",
          "name": "stdout",
          "text": [
            "   Age  Marks Branch Branch2 Branch1   Id  Sem  Total\n",
            "A   37     58    ECE     ECE     ECE   68   89     95\n",
            "B  122     32    ECE     ECE     ECE  134   16    154\n",
            "C   23     42   Mech    Mech    Mech  106   43     65\n"
          ]
        }
      ]
    },
    {
      "cell_type": "code",
      "source": [
        "print(Newdf.pop(\"Branch2\"))\n",
        "print(Newdf)"
      ],
      "metadata": {
        "id": "PtAL68wIoVCS"
      },
      "execution_count": null,
      "outputs": []
    },
    {
      "cell_type": "code",
      "source": [
        "# Banking Task\n",
        "Name=[\"Deep\",\"Akash\",\"Neha\",\"Sumit\",\"Rahul\"]   \n",
        "A={\"Userid\":[114477,112255,116688,224411,665544],\n",
        "   \"Password\":[12345,45678,787878,454545,969696],\n",
        "   \"Balance\":[40000,25000,12000,47000,100000]}\n",
        "MyData=pd.DataFrame(A,index=Name)\n",
        "print(MyData)   "
      ],
      "metadata": {
        "colab": {
          "base_uri": "https://localhost:8080/"
        },
        "id": "Uv4rGVV8q4Yp",
        "outputId": "efdef3f1-0a00-4ad0-ffdc-7f62d664639c"
      },
      "execution_count": null,
      "outputs": [
        {
          "output_type": "stream",
          "name": "stdout",
          "text": [
            "       Userid  Password  Balance\n",
            "Deep   114477     12345    40000\n",
            "Akash  112255     45678    25000\n",
            "Neha   116688    787878    12000\n",
            "Sumit  224411    454545    47000\n",
            "Rahul  665544    969696   100000\n"
          ]
        }
      ]
    },
    {
      "cell_type": "code",
      "source": [
        "# Get user input as Login ior not\n",
        "#if Logion get name and match it with index\n",
        "# if match than get Uid and pass\n",
        "# if not tell him user not exist\n",
        "\n",
        "while True:\n",
        "  print(\"Type Login To Access You Account\")\n",
        "  print(\"Type Exit To Exit Our Application\")\n",
        "  Inp=input(\"Enter Your Option: \").lower()\n",
        "  if Inp==\"login\" or Inp==\"exit\":\n",
        "    break\n",
        "\n",
        "if Inp==\"login\":\n",
        "  print(\"Welcome To Our Portal\")\n",
        "  Nam=input(\"Enter your Name: \")\n",
        "  if Nam in MyData.index:\n",
        "    Uid=int(input(\"Enter Your User Id: \"))\n",
        "    if Uid==MyData[\"Userid\"][Nam]:\n",
        "      Pass=int(input(\"Enter Your Password: \"))\n",
        "      if Pass==MyData[\"Password\"][Nam]:\n",
        "        print(\"You Are Login Now\")\n",
        "        print(\"Enter 1 for adding amount\")\n",
        "        print(\"Enter 2 for deleting account\")\n",
        "        print(\"Enter 3 for renaming account\")\n",
        "        print(\"Enter 4 for exit\")\n",
        "        opt=input(\"Enter your Choice: \")\n",
        "        if opt==\"1\":\n",
        "          namt=int(input(\"Enter Amount YOu want to deposit\"))\n",
        "          MyData[\"Balance\"][Nam]+=namt\n",
        "          print(\"Your New Balance \",MyData[\"Balance\"][Nam])\n",
        "        elif opt==\"2\":\n",
        "          MyData.drop(Nam,axis=0,inplace=True)\n",
        "          print(MyData)\n",
        "        elif opt==\"3\":\n",
        "          nwnm=input(\"Enter New Name: \")\n",
        "          MyData.rename(index={Nam:nwnm},inplace=True)\n",
        "          print(MyData)\n",
        "        else:\n",
        "          print(\"You are Exit Now Run Me Again\")\n",
        "\n",
        "      else:\n",
        "        print(\"Entered Password Is wrong\")  \n",
        "    else:\n",
        "      print(\"Wrong uSer iD\")  \n",
        "  else:\n",
        "    print(\"User Does Not Exist Try Again\")\n"
      ],
      "metadata": {
        "colab": {
          "base_uri": "https://localhost:8080/"
        },
        "id": "8PabPFKVr84q",
        "outputId": "a421a088-83ea-4f41-c1fe-6d18a9b9489e"
      },
      "execution_count": null,
      "outputs": [
        {
          "output_type": "stream",
          "name": "stdout",
          "text": [
            "Type Login To Access You Account\n",
            "Type Exit To Exit Our Application\n",
            "Enter Your Option: login\n",
            "Welcome To Our Portal\n",
            "Enter your Name: Akash\n",
            "Enter Your User Id: 112255\n",
            "Enter Your Password: 45678\n",
            "You Are Login Now\n",
            "Enter 1 for adding amount\n",
            "Enter 2 for deleting account\n",
            "Enter 3 for renaming account\n",
            "Enter 4 for exit\n",
            "Enter your Choice: 3\n",
            "Enter New Name: Gaurav\n",
            "        Userid  Password  Balance\n",
            "Deep    114477     12345    40000\n",
            "Gaurav  112255     45678    25000\n",
            "Neha    116688    787878    12000\n",
            "Sumit   224411    454545    47000\n",
            "Rahul   665544    969696   100000\n"
          ]
        }
      ]
    },
    {
      "cell_type": "code",
      "source": [
        "print(MyData)\n",
        "MyData.rename(index={\"Neha\":\"Sachin\"},inplace=True)\n",
        "MyData.rename(columns={\"Userid\":\"UID\"},inplace=True)\n",
        "print(MyData)\n"
      ],
      "metadata": {
        "colab": {
          "base_uri": "https://localhost:8080/"
        },
        "id": "YFnFuskZz2SI",
        "outputId": "f28d9f14-0011-46c3-b921-f4887b4f245f"
      },
      "execution_count": null,
      "outputs": [
        {
          "output_type": "stream",
          "name": "stdout",
          "text": [
            "        Userid  Password  Balance\n",
            "Deep    114477     12345    40000\n",
            "Akash   112255     45678    29500\n",
            "Sachin  116688    787878    12000\n",
            "Sumit   224411    454545    47000\n",
            "Rahul   665544    969696   100000\n",
            "           UID  Password  Balance\n",
            "Deep    114477     12345    40000\n",
            "Akash   112255     45678    29500\n",
            "Sachin  116688    787878    12000\n",
            "Sumit   224411    454545    47000\n",
            "Rahul   665544    969696   100000\n"
          ]
        }
      ]
    }
  ]
}