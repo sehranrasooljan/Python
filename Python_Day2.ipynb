{
  "nbformat": 4,
  "nbformat_minor": 0,
  "metadata": {
    "colab": {
      "name": "Python_Day-2.ipynb",
      "provenance": []
    },
    "kernelspec": {
      "name": "python3",
      "display_name": "Python 3"
    },
    "language_info": {
      "name": "python"
    }
  },
  "cells": [
    {
      "cell_type": "code",
      "execution_count": null,
      "metadata": {
        "colab": {
          "base_uri": "https://localhost:8080/"
        },
        "id": "7a7s5XxzWGXt",
        "outputId": "a5480ba9-7edf-4bd3-bae7-da8831803f0d"
      },
      "outputs": [
        {
          "output_type": "stream",
          "name": "stdout",
          "text": [
            "<class 'str'>\n",
            "my name is Sehran\n"
          ]
        }
      ],
      "source": [
        "Data=(\"my name is Sehran\")\n",
        "print(type(Data))\n",
        "print(Data)\n"
      ]
    },
    {
      "cell_type": "code",
      "source": [
        "element=input(\" Please enter your string \")\n",
        "print(element[2])"
      ],
      "metadata": {
        "colab": {
          "base_uri": "https://localhost:8080/"
        },
        "id": "il1ews7qXsaG",
        "outputId": "da5132b9-75cd-4330-811c-8fd6ff0f67a9"
      },
      "execution_count": null,
      "outputs": [
        {
          "output_type": "stream",
          "name": "stdout",
          "text": [
            " Please enter your string fyfhfxgfx\n",
            "f\n"
          ]
        }
      ]
    },
    {
      "cell_type": "code",
      "source": [
        "222#take a string from user and take three positions\n",
        "content=input(\"Please enter your string \")\n",
        "index1 = int(input(\"enter the index of charecter\"))\n",
        "index2 = int(input(\"enter the index of charecter\"))\n",
        "index3 = int(input(\"enter the index of charecter\"))\n"
      ],
      "metadata": {
        "colab": {
          "base_uri": "https://localhost:8080/"
        },
        "id": "MAWoBkUEWZE8",
        "outputId": "a907b38c-988b-462f-8753-d9fcd651e4da"
      },
      "execution_count": null,
      "outputs": [
        {
          "output_type": "stream",
          "name": "stdout",
          "text": [
            "Please enter your string mbbksbdkj\n",
            "enter the index of charecter22\n",
            "enter the index of charecter22\n",
            "enter the index of charecter1\n",
            "\n"
          ]
        }
      ]
    },
    {
      "cell_type": "code",
      "source": [
        "\n",
        "# rawdata=input(\"enter  your string\")\n",
        "# indx1 = int(input(\"enter the start index\"))\n",
        "# indx2 = int(input(\"enter the end index \"))\n",
        "# print(rawdata[indx1:indx2+1])\n",
        "\n",
        "\n"
      ],
      "metadata": {
        "colab": {
          "base_uri": "https://localhost:8080/"
        },
        "id": "Ddym3JhaaoqH",
        "outputId": "1110f3bc-841d-4314-88e5-54be865efde4"
      },
      "execution_count": null,
      "outputs": [
        {
          "output_type": "stream",
          "name": "stdout",
          "text": [
            "enter  your stringbsbksjdbkjd\n",
            "enter the start index22\n",
            "enter the end index 22\n",
            "\n"
          ]
        }
      ]
    },
    {
      "cell_type": "code",
      "source": [
        "abc=\"my name abu bakr\"\n",
        "print(abc[4:7])"
      ],
      "metadata": {
        "colab": {
          "base_uri": "https://localhost:8080/"
        },
        "id": "ArV_NflHd5Cs",
        "outputId": "01adef25-8d79-4531-c16f-5897b5a73462"
      },
      "execution_count": null,
      "outputs": [
        {
          "output_type": "stream",
          "name": "stdout",
          "text": [
            "ame\n"
          ]
        }
      ]
    },
    {
      "cell_type": "code",
      "source": [
        "str1=input(\"enter your string: \")\n",
        "count =len(str1)\n",
        "sec1=int (count/2)\n",
        "print(\"section 1 of string is : \",str1[:sec1])\n",
        "print(\"section 2 of string is : \",str1[sec1:])"
      ],
      "metadata": {
        "colab": {
          "base_uri": "https://localhost:8080/"
        },
        "id": "xrWeSbx2gcYm",
        "outputId": "f3075495-241f-4900-fbbe-b42269ab4518"
      },
      "execution_count": null,
      "outputs": [
        {
          "output_type": "stream",
          "name": "stdout",
          "text": [
            "enter your string: sehran\n",
            "section 1 of string is :  seh\n",
            "section 2 of string is :  ran\n"
          ]
        }
      ]
    },
    {
      "cell_type": "code",
      "source": [
        "a=\"asprients\"\n",
        "print( a[::-1])"
      ],
      "metadata": {
        "colab": {
          "base_uri": "https://localhost:8080/"
        },
        "id": "9BEjCP_tu6bH",
        "outputId": "1be8a0db-4f6c-4fd9-87b0-4535548487a7"
      },
      "execution_count": null,
      "outputs": [
        {
          "output_type": "stream",
          "name": "stdout",
          "text": [
            "stneirpsa\n"
          ]
        }
      ]
    },
    {
      "cell_type": "code",
      "source": [
        ""
      ],
      "metadata": {
        "id": "196jYJ3Zl4Jo"
      },
      "execution_count": null,
      "outputs": []
    }
  ]
}