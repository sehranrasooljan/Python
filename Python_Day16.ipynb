{
  "nbformat": 4,
  "nbformat_minor": 0,
  "metadata": {
    "colab": {
      "name": "Python16_Code.ipynb",
      "provenance": [],
      "collapsed_sections": []
    },
    "kernelspec": {
      "name": "python3",
      "display_name": "Python 3"
    },
    "language_info": {
      "name": "python"
    }
  },
  "cells": [
    {
      "cell_type": "code",
      "execution_count": null,
      "metadata": {
        "colab": {
          "base_uri": "https://localhost:8080/"
        },
        "id": "dlUYP80SmY-E",
        "outputId": "746acc47-8df5-44a6-b916-597554bff740"
      },
      "outputs": [
        {
          "output_type": "stream",
          "name": "stdout",
          "text": [
            "        Nike  Adidas  Lotto  Redtape  Woodland  Numero   UCB\n",
            "Store1  45.0    12.0    3.0     15.0       NaN     NaN   NaN\n",
            "Store2   NaN    26.0    NaN      NaN      78.0    89.0  16.0\n",
            "Store3   5.0     NaN   13.0      NaN       8.0     NaN  26.0\n"
          ]
        }
      ],
      "source": [
        "import pandas as pd\n",
        "import numpy as np\n",
        "\n",
        "# Create a dataframe having 3 rows \n",
        "# Representing 3 stores, and have shoes as items\n",
        "# enter any 5 brands differently in all 3 stores\n",
        "Item=[{\"Nike\":45,\"Adidas\":12,\"Lotto\":3,\"Redtape\":15},\n",
        "      {\"Woodland\":78,\"Adidas\":26,\"Numero\":89,\"UCB\":16},\n",
        "      {\"Woodland\":8,\"Nike\":5,\"Lotto\":13,\"UCB\":26}]\n",
        "StoreInfo=pd.DataFrame(Item)\n",
        "StoreInfo.index=[\"Store1\",\"Store2\",\"Store3\"]\n",
        "print(StoreInfo)"
      ]
    },
    {
      "cell_type": "code",
      "source": [
        "# WAP to count number of Nan Values in Above Given Df using Loops\n",
        "#print(StoreInfo)\n",
        "Count=0\n",
        "for i in StoreInfo.columns:\n",
        "  for j in StoreInfo.index:\n",
        "    if str(StoreInfo[i][j])=='nan':\n",
        "      Count+=1\n",
        "print(Count)\n"
      ],
      "metadata": {
        "id": "FD-Sp8ddstwc"
      },
      "execution_count": null,
      "outputs": []
    },
    {
      "cell_type": "code",
      "source": [
        "print(StoreInfo.isnull())\n",
        "print(np.sum(StoreInfo.isnull()))\n",
        "print(np.sum(np.sum(StoreInfo.isnull())))\n",
        "print(StoreInfo.isnull().sum().sum())"
      ],
      "metadata": {
        "id": "NhUmdQLwutBH"
      },
      "execution_count": null,
      "outputs": []
    },
    {
      "cell_type": "code",
      "source": [
        "print(StoreInfo)"
      ],
      "metadata": {
        "colab": {
          "base_uri": "https://localhost:8080/"
        },
        "id": "BGvEpbkmzCJB",
        "outputId": "16a33590-c502-4e39-8a7c-74bbf8575bb3"
      },
      "execution_count": null,
      "outputs": [
        {
          "output_type": "stream",
          "name": "stdout",
          "text": [
            "        Nike  Adidas  Lotto  Redtape  Woodland  Numero   UCB\n",
            "Store1  45.0    12.0    3.0     15.0       NaN     NaN   NaN\n",
            "Store2   NaN    26.0    NaN      NaN      78.0    89.0  16.0\n",
            "Store3   5.0     NaN   13.0      NaN       8.0     NaN  26.0\n"
          ]
        }
      ]
    },
    {
      "cell_type": "code",
      "source": [
        "print(StoreInfo.isna())"
      ],
      "metadata": {
        "id": "cS11Wyq0u9fK"
      },
      "execution_count": null,
      "outputs": []
    },
    {
      "cell_type": "code",
      "source": [
        "Info=np.sum(StoreInfo[[\"Adidas\",\"Redtape\",\"Numero\"]].isnull())\n",
        "print(Info)"
      ],
      "metadata": {
        "id": "y8JLJmqRx5MA"
      },
      "execution_count": null,
      "outputs": []
    },
    {
      "cell_type": "code",
      "source": [
        "A1=StoreInfo[[\"Nike\",\"Lotto\",\"Woodland\"]].size\n",
        "A=StoreInfo[[\"Nike\",\"Lotto\",\"Woodland\"]].isnull().sum().sum()\n",
        "print(A1-A)"
      ],
      "metadata": {
        "id": "RX5FUhGezFpy"
      },
      "execution_count": null,
      "outputs": []
    },
    {
      "cell_type": "code",
      "source": [
        "print(StoreInfo[[\"Nike\",\"Lotto\",\"Woodland\"]].count())\n",
        "print(StoreInfo[[\"Nike\",\"Lotto\",\"Woodland\"]].count().sum())"
      ],
      "metadata": {
        "id": "GqC9S23n0r7D"
      },
      "execution_count": null,
      "outputs": []
    },
    {
      "cell_type": "code",
      "source": [
        "# WAP to store stocks of fruits available in 3 stores\n",
        "# Mangos, Bananas, Lichis, Kiwis, Oranges\n",
        "# Count can be as per user defined\n",
        "# All the stores will not have all the above mnetioned fruits, \n",
        "# individual store will have only 3 fruits\n",
        "Item=[{\"Mangos\":45,\"Banana\":12,\"Kiwis\":3},\n",
        "      {\"Lichi\":78,\"Kiwis\":26,\"Oranges\":89},\n",
        "      {\"Oranges\":8,\"Banana\":5,\"Mangos\":13}]\n",
        "StoreInfo=pd.DataFrame(Item)\n",
        "StoreInfo.index=[\"Store1\",\"Store2\",\"Store3\"]\n",
        "print(StoreInfo)\n",
        "\n",
        "# Print count of Mangos available in store 1 and store 2\n",
        "print(StoreInfo[\"Mangos\"][[0,1]].sum())\n",
        "\n",
        "print(StoreInfo[\"Mangos\"][\"Store1\"]+StoreInfo[\"Mangos\"][\"Store2\"])\n"
      ],
      "metadata": {
        "colab": {
          "base_uri": "https://localhost:8080/"
        },
        "id": "vA-ifmNJ1Vcy",
        "outputId": "4341228e-d96c-4f49-f9d2-573517452794"
      },
      "execution_count": null,
      "outputs": [
        {
          "output_type": "stream",
          "name": "stdout",
          "text": [
            "        Mangos  Banana  Kiwis  Lichi  Oranges\n",
            "Store1    45.0    12.0    3.0    NaN      NaN\n",
            "Store2     NaN     NaN   26.0   78.0     89.0\n",
            "Store3    13.0     5.0    NaN    NaN      8.0\n",
            "45.0\n",
            "nan\n"
          ]
        }
      ]
    },
    {
      "cell_type": "code",
      "source": [
        "# Print name of fruit not available in store 3\n",
        "Temp=StoreInfo.loc[\"Store3\"]\n",
        "print(Temp)\n",
        "print(Temp.isna())\n",
        "print(Temp[Temp.isna()])\n",
        "print(list(Temp[Temp.isna()].index))"
      ],
      "metadata": {
        "id": "JnhMbNFu8ALm"
      },
      "execution_count": null,
      "outputs": []
    },
    {
      "cell_type": "code",
      "source": [
        "# print name of fruits available in both store 2 and 3\n",
        "Temp1=StoreInfo.loc[\"Store2\"]\n",
        "Temp1=Temp1[~Temp1.isna()]\n",
        "Temp2=StoreInfo.loc[\"Store3\"]\n",
        "Temp2=Temp2[~Temp2.isna()]\n",
        "print(Temp1.index)\n",
        "print(Temp2.index)\n",
        "A=list(Temp1.index)\n",
        "B=list(Temp2.index)\n",
        "print(A)\n",
        "print(B)\n",
        "print(np.intersect1d(A,B))"
      ],
      "metadata": {
        "id": "CfMvhSKu8CMi"
      },
      "execution_count": null,
      "outputs": []
    },
    {
      "cell_type": "code",
      "source": [
        "Temp1=StoreInfo.loc[\"Store2\"]\n",
        "print(Temp1.notna())\n",
        "print(~Temp1.isna())"
      ],
      "metadata": {
        "id": "4OU8jJx6B1PM"
      },
      "execution_count": null,
      "outputs": []
    },
    {
      "cell_type": "code",
      "source": [
        "# Dropna\n",
        "Item=[{\"Mangos\":45,\"Banana\":12,\"Kiwis\":3},\n",
        "      {\"Mangos\":78,\"Kiwis\":26,\"Banana\":89},\n",
        "      {\"Oranges\":8,\"Banana\":5,\"Mangos\":13,\"Kiwis\":26}]\n",
        "StoreInfo=pd.DataFrame(Item)\n",
        "StoreInfo.index=[\"Store1\",\"Store2\",\"Store3\"]\n",
        "print(StoreInfo)\n",
        "# Can Return To Variable\n",
        "StoreInfo=StoreInfo.dropna()\n",
        "print(StoreInfo)"
      ],
      "metadata": {
        "id": "l73FwpCF_mDJ"
      },
      "execution_count": null,
      "outputs": []
    },
    {
      "cell_type": "code",
      "source": [
        "# Dropna\n",
        "Item=[{\"Mangos\":45,\"Banana\":12,\"Kiwis\":3},\n",
        "      {\"Mangos\":78,\"Kiwis\":26,\"Banana\":89},\n",
        "      {\"Oranges\":8,\"Banana\":5,\"Mangos\":13,\"Kiwis\":26}]\n",
        "StoreInfo=pd.DataFrame(Item)\n",
        "StoreInfo.index=[\"Store1\",\"Store2\",\"Store3\"]\n",
        "print(StoreInfo)\n",
        "# Can update original variable by inplace = True\n",
        "StoreInfo.dropna(axis=1,inplace=True)\n",
        "print(StoreInfo)"
      ],
      "metadata": {
        "id": "8ETKp5bxELRe"
      },
      "execution_count": null,
      "outputs": []
    },
    {
      "cell_type": "code",
      "source": [
        "Item=[{\"Mangos\":45,\"Banana\":12,\"Kiwis\":3},\n",
        "      {\"Mangos\":78,\"Kiwis\":26,\"Banana\":89},\n",
        "      {\"Oranges\":8,\"Banana\":5,\"Mangos\":13}]\n",
        "StoreInfo=pd.DataFrame(Item)\n",
        "StoreInfo.index=[\"Store1\",\"Store2\",\"Store3\"]\n",
        "print(StoreInfo)\n",
        "\n",
        "# WAP to replace NAN values with 0 and print Dataframe\n",
        "StoreInfo[StoreInfo.isna()]=0\n",
        "print(StoreInfo)"
      ],
      "metadata": {
        "colab": {
          "base_uri": "https://localhost:8080/"
        },
        "id": "a0lqesVxETCX",
        "outputId": "899d988a-90e8-4ae5-cd0e-2820b5e2b328"
      },
      "execution_count": null,
      "outputs": [
        {
          "output_type": "stream",
          "name": "stdout",
          "text": [
            "        Mangos  Banana  Kiwis  Oranges\n",
            "Store1      45      12    3.0      NaN\n",
            "Store2      78      89   26.0      NaN\n",
            "Store3      13       5    NaN      8.0\n",
            "        Mangos  Banana  Kiwis  Oranges\n",
            "Store1      45      12    3.0      0.0\n",
            "Store2      78      89   26.0      0.0\n",
            "Store3      13       5    0.0      8.0\n"
          ]
        }
      ]
    },
    {
      "cell_type": "code",
      "source": [
        "Item=[{\"Mangos\":45,\"Banana\":12,\"Kiwis\":3},\n",
        "      {\"Mangos\":78,\"Kiwis\":26,\"Banana\":89},\n",
        "      {\"Oranges\":8,\"Banana\":5,\"Mangos\":13}]\n",
        "StoreInfo=pd.DataFrame(Item)\n",
        "StoreInfo.index=[\"Store1\",\"Store2\",\"Store3\"]\n",
        "print(StoreInfo)\n",
        "# WAP to replace nan value of a column \n",
        "# with its mean value of same column\n",
        "for i in StoreInfo.columns:\n",
        "  Temp=StoreInfo[i]\n",
        "  Temp[Temp.isna()]=Temp.mean() \n",
        "  StoreInfo[i]=Temp\n",
        "print(StoreInfo)\n"
      ],
      "metadata": {
        "id": "6NbBMmfLFQnd"
      },
      "execution_count": null,
      "outputs": []
    },
    {
      "cell_type": "code",
      "source": [
        "Item=[{\"Mangos\":45,\"Banana\":12,\"Kiwis\":3},\n",
        "      {\"Mangos\":78,\"Kiwis\":26,\"Banana\":89},\n",
        "      {\"Oranges\":8,\"Banana\":5,\"Mangos\":13}]\n",
        "StoreInfo=pd.DataFrame(Item)\n",
        "StoreInfo.index=[\"Store1\",\"Store2\",\"Store3\"]\n",
        "print(StoreInfo)\n",
        "\n",
        "print(StoreInfo.fillna(method=\"bfill\",axis=1))\n",
        "print(StoreInfo.fillna(method=\"ffill\",axis=1))"
      ],
      "metadata": {
        "id": "AsVZ-rABHj2u"
      },
      "execution_count": null,
      "outputs": []
    },
    {
      "cell_type": "code",
      "source": [
        "print(StoreInfo.fillna(method=\"bfill\",axis=0))"
      ],
      "metadata": {
        "id": "3LkmGKrXIVer"
      },
      "execution_count": null,
      "outputs": []
    },
    {
      "cell_type": "code",
      "source": [
        "Item=[{\"Mangos\":45,\"Banana\":12,\"Kiwis\":3},\n",
        "      {\"Mangos\":78,\"Kiwis\":26,\"Banana\":89},\n",
        "      {\"Oranges\":8,\"Banana\":5,\"Mangos\":13}]\n",
        "StoreInfo=pd.DataFrame(Item)\n",
        "StoreInfo.index=[\"Store1\",\"Store2\",\"Store3\"]\n",
        "print(StoreInfo)\n",
        "# WAP to fill NAN values using Column wise Back Fill \n",
        "# if Any value still left, replace it with max of its column\n",
        "StoreInfo.fillna(method=\"bfill\",axis=0,inplace=True)\n",
        "print(StoreInfo)\n",
        "for i in StoreInfo.columns:\n",
        "  Temp=StoreInfo[i]\n",
        "  Temp[Temp.isna()]=Temp.max()\n",
        "  StoreInfo[i]=Temp\n",
        "print(StoreInfo)  "
      ],
      "metadata": {
        "id": "qY0utVubItUj"
      },
      "execution_count": null,
      "outputs": []
    },
    {
      "cell_type": "code",
      "source": [
        "# WAP to have a function created by you\n",
        "# input of functions\n",
        "# dataframe to change and type and axis\n",
        "# if type==1 the function should work with logic of Bfill\n",
        "# if type==2 the function should work with logic of Ffill\n",
        "# return updated Dataframe\n"
      ],
      "metadata": {
        "id": "RtMfJzOTMKRL"
      },
      "execution_count": null,
      "outputs": []
    }
  ]
}