{
  "nbformat": 4,
  "nbformat_minor": 0,
  "metadata": {
    "colab": {
      "name": "Python_Day4.ipynb",
      "provenance": [],
      "collapsed_sections": []
    },
    "kernelspec": {
      "name": "python3",
      "display_name": "Python 3"
    },
    "language_info": {
      "name": "python"
    }
  },
  "cells": [
    {
      "cell_type": "code",
      "execution_count": null,
      "metadata": {
        "colab": {
          "base_uri": "https://localhost:8080/"
        },
        "id": "1a3EgsO1iOjh",
        "outputId": "3fdaef18-86a6-453d-e79f-fe46bc47810e"
      },
      "outputs": [
        {
          "output_type": "stream",
          "name": "stdout",
          "text": [
            "('Asd', 'qwe', '34', 540)\n",
            "<class 'tuple'>\n",
            "4\n"
          ]
        }
      ],
      "source": [
        "A=(\"Asd\",'qwe','34',540)\n",
        "print(A)\n",
        "print(type(A))\n",
        "print(len(A))"
      ]
    },
    {
      "cell_type": "code",
      "source": [
        "print(A[1:3])\n",
        "A[1]=\"Karan\"\n",
        "print(A)"
      ],
      "metadata": {
        "id": "MGAWSQ-WtEYw"
      },
      "execution_count": null,
      "outputs": []
    },
    {
      "cell_type": "code",
      "source": [
        "A=('a','b','c','d','e','f','g')\n",
        "# TYPE CASTING\n",
        "B=list(A)\n",
        "B[3]=B[3].upper()\n",
        "A=tuple(B)\n",
        "print(A)"
      ],
      "metadata": {
        "id": "D_ouqLjBuEPf"
      },
      "execution_count": null,
      "outputs": []
    },
    {
      "cell_type": "code",
      "source": [
        "A=(\"Deepak\",45,\"Raman\",\"12345\")\n",
        "B=\"Lovedeep\",\"EESPL\"\n",
        "C=A+B\n",
        "print(C)"
      ],
      "metadata": {
        "colab": {
          "base_uri": "https://localhost:8080/"
        },
        "id": "n_TIVtHqw7l3",
        "outputId": "81e1190c-da62-4a4e-a59e-430981561337"
      },
      "execution_count": null,
      "outputs": [
        {
          "output_type": "stream",
          "name": "stdout",
          "text": [
            "('Deepak', 45, 'Raman', '12345', 'Lovedeep', 'EESPL')\n"
          ]
        }
      ]
    },
    {
      "cell_type": "code",
      "source": [
        "A=(\"D3eepak\",)\n",
        "B=(\"Hello\",)\n",
        "C=A+B\n",
        "print(C)\n",
        "print(type(C))"
      ],
      "metadata": {
        "colab": {
          "base_uri": "https://localhost:8080/"
        },
        "id": "mt2euNOdyBtU",
        "outputId": "78d27776-dee9-4c2f-ae6e-3eaa7a0a469f"
      },
      "execution_count": null,
      "outputs": [
        {
          "output_type": "stream",
          "name": "stdout",
          "text": [
            "('D3eepak', 'Hello')\n",
            "<class 'tuple'>\n"
          ]
        }
      ]
    },
    {
      "cell_type": "code",
      "source": [
        "A='true',4,\"outpuy\"\n",
        "print(A)\n",
        "print(type(A))"
      ],
      "metadata": {
        "colab": {
          "base_uri": "https://localhost:8080/"
        },
        "id": "oSwc3ImIyXjq",
        "outputId": "5f8fc6cf-49b3-4956-9df3-60b55ba342dd"
      },
      "execution_count": null,
      "outputs": [
        {
          "output_type": "stream",
          "name": "stdout",
          "text": [
            "('true', 4, 'outpuy')\n",
            "<class 'tuple'>\n"
          ]
        }
      ]
    },
    {
      "cell_type": "code",
      "source": [
        "print(A)\n",
        "b=A[0]\n",
        "c=A[1]\n",
        "d=A[2]\n",
        "print(b)\n",
        "print(c)\n",
        "print(d)\n"
      ],
      "metadata": {
        "colab": {
          "base_uri": "https://localhost:8080/"
        },
        "id": "ypyPyo5Xynlw",
        "outputId": "08b0b157-38a6-4212-a159-352332e6b9f0"
      },
      "execution_count": null,
      "outputs": [
        {
          "output_type": "stream",
          "name": "stdout",
          "text": [
            "('true', 4, 'outpuy')\n",
            "true\n",
            "4\n",
            "outpuy\n"
          ]
        }
      ]
    },
    {
      "cell_type": "code",
      "source": [
        "A='asd','123',0,7,\"deepak\"\n",
        "a,*b,c=A\n",
        "print(a)\n",
        "print(b)\n",
        "print(c)\n"
      ],
      "metadata": {
        "colab": {
          "base_uri": "https://localhost:8080/"
        },
        "id": "NE1ApSWNy63u",
        "outputId": "ddcf14d4-53be-4f59-d0fc-b00bba27f9db"
      },
      "execution_count": null,
      "outputs": [
        {
          "output_type": "stream",
          "name": "stdout",
          "text": [
            "asd\n",
            "['123', 0, 7]\n",
            "deepak\n"
          ]
        }
      ]
    },
    {
      "cell_type": "code",
      "source": [
        "A=1,2,3,4\n",
        "B=[5,6,7,8]\n",
        "output=A+tuple(B)\n",
        "print(output)\n",
        "\n",
        "output2=output[0:3]+output[6:]\n",
        "print(output2)\n",
        "print(type(output2))\n",
        "#output2=1,2,3,6,7,8\n"
      ],
      "metadata": {
        "id": "xHRzp7Hg1aLn"
      },
      "execution_count": null,
      "outputs": []
    },
    {
      "cell_type": "code",
      "source": [
        "A=5\n",
        "B=45\n",
        "if A<B:\n",
        "  pass\n",
        "elif A<B:\n",
        "  print(\"A is equal to B\")\n",
        "else:\n",
        "  print(\"B is Greater\")\n",
        "\n",
        "\n",
        " \n"
      ],
      "metadata": {
        "id": "Sq1PYNIu3-RZ"
      },
      "execution_count": null,
      "outputs": []
    },
    {
      "cell_type": "markdown",
      "source": [
        "User input\n",
        "Name\n",
        "Budget\n",
        "Days \n",
        "%age of profit\n",
        "\n",
        "\n",
        "if Bud>50\n",
        "tuple= name,bud,day,value of profit\n",
        "if bud>30 along with less than 50\n",
        "list= name, bud, perday cost\n",
        "if bud<30\n",
        "print the project is of low budget\n",
        "\n",
        "####\n",
        "overall summary is \n",
        "Case1: Tuple either info/ empty \n",
        "Case2: List either info/ empty\n",
        "Case3: Message\n"
      ],
      "metadata": {
        "id": "40AfixjzAId5"
      }
    },
    {
      "cell_type": "code",
      "source": [
        "Nam=input(\"Enter Client Name: \")\n",
        "Bdgt=int(input(\"Enter Total Budget: \"))\n",
        "Dys =int(input(\"Enter Day To Complete Task: \"))\n",
        "Pper=float(input(\"Enter Expected Profit: \"))\n",
        "MyTuple=()\n",
        "MyList=[]\n",
        "\n",
        "# Main filteration starts\n",
        "if Bdgt>50000:\n",
        "   MyTuple=MyTuple+(Nam,Bdgt,Dys,Bdgt*Pper/100)\n",
        "elif 30000<Bdgt<=50000:\n",
        "   MyList=MyList+[Nam,Bdgt,Bdgt/Dys]\n",
        "else:\n",
        "  print(\"Client is of Low budget\")\n",
        "\n",
        "# Overall outcomes\n",
        "print(MyTuple)\n",
        "print(MyList)\n",
        "\n",
        "\n",
        "\n",
        "\n",
        "\n",
        "\n"
      ],
      "metadata": {
        "colab": {
          "base_uri": "https://localhost:8080/"
        },
        "id": "8Wx-tju76Jhc",
        "outputId": "9845bda1-3d28-4a3e-8b54-ac24e8833822"
      },
      "execution_count": null,
      "outputs": [
        {
          "output_type": "stream",
          "name": "stdout",
          "text": [
            "Enter Client Name: Rakesh\n",
            "Enter Total Budget: 10000\n",
            "Enter Day To Complete Task: 5\n",
            "Enter Expected Profit: 20\n",
            "Client is of Low budget\n",
            "()\n",
            "[]\n"
          ]
        }
      ]
    }
  ]
}