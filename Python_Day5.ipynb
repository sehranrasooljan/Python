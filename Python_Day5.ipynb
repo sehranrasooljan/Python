{
  "nbformat": 4,
  "nbformat_minor": 0,
  "metadata": {
    "colab": {
      "name": "Python_Day5.ipynb",
      "provenance": [],
      "collapsed_sections": []
    },
    "kernelspec": {
      "name": "python3",
      "display_name": "Python 3"
    },
    "language_info": {
      "name": "python"
    }
  },
  "cells": [
    {
      "cell_type": "markdown",
      "source": [
        "User input\n",
        "Name\n",
        "if name all alphabets\n",
        "   get Mobile Number\n",
        "   if Mobile number numeric as well as 10 digit\n",
        "   get adress\n",
        "   User input\n",
        "  Count=Howe many semester done till now\n",
        "  All sem marks= All markes till present semester\n",
        "  if marks length == Count semester   \n",
        "     Print average marks\n",
        "     aLL INFOR IN A LIST\n",
        "  else\n",
        "   input again\n",
        "else\n",
        "Get input again\n",
        "\n"
      ],
      "metadata": {
        "id": "r25Q_k33-V31"
      }
    },
    {
      "cell_type": "code",
      "execution_count": null,
      "metadata": {
        "id": "nhqQEKkRr9Db"
      },
      "outputs": [],
      "source": [
        "name=input(\"Enter Name: \")\n",
        "if name.isalpha():\n",
        "  Mnum=input(\"Enter Mobile Number: \")\n",
        "  if len(Mnum)>=10 and Mnum.isdigit():\n",
        "    Adress=input(\"Enter address: \")\n",
        "    Csem=input(\"Enter Current Sem: \")\n",
        "    PMrks=list(map(float,input(\"Enter Marks of Students\").split(',')))\n",
        "    if len(PMrks)==Csem:\n",
        "      print(\"You Average Marks are: \",sum(PMrks)/Csem)\n",
        "      # Add asll this to list\n",
        "      \n",
        "\n",
        "    else:\n",
        "      print(\"Try Again\")\n",
        "  else:\n",
        "    Mnum=input(\"Enter Mobile Number Again: \")\n",
        "else:\n",
        "  name=input(\"Enter Name again: \")"
      ]
    },
    {
      "cell_type": "code",
      "source": [
        "A=\"45454545\"\n",
        "print(A.isdigit())"
      ],
      "metadata": {
        "colab": {
          "base_uri": "https://localhost:8080/"
        },
        "id": "rJ00-BS27OzZ",
        "outputId": "5a9c093e-f8e2-43bd-a304-1a6bca941b29"
      },
      "execution_count": null,
      "outputs": [
        {
          "output_type": "stream",
          "name": "stdout",
          "text": [
            "True\n"
          ]
        }
      ]
    },
    {
      "cell_type": "code",
      "source": [
        "# Sets and Dict.\n",
        "A={1,2,3,4,5,6,7,'Asd',45.0}\n",
        "print(A)\n",
        "print(type(A))"
      ],
      "metadata": {
        "colab": {
          "base_uri": "https://localhost:8080/"
        },
        "id": "DbwbhAg17dym",
        "outputId": "1dcdbe06-61f6-4d67-c1a6-c070cb7f61e0"
      },
      "execution_count": null,
      "outputs": [
        {
          "output_type": "stream",
          "name": "stdout",
          "text": [
            "{1, 2, 3, 4, 5, 6, 7, 45.0, 'Asd'}\n",
            "<class 'set'>\n"
          ]
        }
      ]
    },
    {
      "cell_type": "code",
      "source": [
        "print(A)\n",
        "A.add(\"Hello\")\n",
        "print(A)\n",
        "A.update([\"Hello Abc\",\"45\"])\n",
        "print(A)"
      ],
      "metadata": {
        "colab": {
          "base_uri": "https://localhost:8080/"
        },
        "id": "nur_KFqq8__M",
        "outputId": "6b98edcd-aef8-471a-f26b-0e2435c94b3c"
      },
      "execution_count": null,
      "outputs": [
        {
          "output_type": "stream",
          "name": "stdout",
          "text": [
            "{1, 2, 3, 4, 5, 6, 7, 'H', 'e', 45.0, 'b', 'Hello', 'c', 'Asd', 'l', 'A', ' ', 'o'}\n",
            "{1, 2, 3, 4, 5, 6, 7, 'H', 'e', 45.0, 'b', 'Hello', 'c', 'Asd', 'l', 'A', ' ', 'o'}\n",
            "{1, 2, 3, 4, 5, 6, 7, 'H', 'e', '45', 'Asd', 'o', 45.0, 'b', 'c', 'l', 'A', ' ', 'Hello Abc', 'Hello'}\n"
          ]
        }
      ]
    },
    {
      "cell_type": "code",
      "source": [
        "A={1,2,3,4,5,6,7,'Asd',45.0}\n",
        "B={\"4\",\"7\"}\n",
        "print(A+B)"
      ],
      "metadata": {
        "colab": {
          "base_uri": "https://localhost:8080/",
          "height": 201
        },
        "id": "Z2cTZpK99zSq",
        "outputId": "1d293bba-e7f6-42a7-ea2d-6faa7d23262f"
      },
      "execution_count": null,
      "outputs": [
        {
          "output_type": "error",
          "ename": "TypeError",
          "evalue": "ignored",
          "traceback": [
            "\u001b[0;31m---------------------------------------------------------------------------\u001b[0m",
            "\u001b[0;31mTypeError\u001b[0m                                 Traceback (most recent call last)",
            "\u001b[0;32m<ipython-input-25-a3116b6485c7>\u001b[0m in \u001b[0;36m<module>\u001b[0;34m()\u001b[0m\n\u001b[1;32m      1\u001b[0m \u001b[0mA\u001b[0m\u001b[0;34m=\u001b[0m\u001b[0;34m{\u001b[0m\u001b[0;36m1\u001b[0m\u001b[0;34m,\u001b[0m\u001b[0;36m2\u001b[0m\u001b[0;34m,\u001b[0m\u001b[0;36m3\u001b[0m\u001b[0;34m,\u001b[0m\u001b[0;36m4\u001b[0m\u001b[0;34m,\u001b[0m\u001b[0;36m5\u001b[0m\u001b[0;34m,\u001b[0m\u001b[0;36m6\u001b[0m\u001b[0;34m,\u001b[0m\u001b[0;36m7\u001b[0m\u001b[0;34m,\u001b[0m\u001b[0;34m'Asd'\u001b[0m\u001b[0;34m,\u001b[0m\u001b[0;36m45.0\u001b[0m\u001b[0;34m}\u001b[0m\u001b[0;34m\u001b[0m\u001b[0;34m\u001b[0m\u001b[0m\n\u001b[1;32m      2\u001b[0m \u001b[0mB\u001b[0m\u001b[0;34m=\u001b[0m\u001b[0;34m{\u001b[0m\u001b[0;34m\"4\"\u001b[0m\u001b[0;34m,\u001b[0m\u001b[0;34m\"7\"\u001b[0m\u001b[0;34m}\u001b[0m\u001b[0;34m\u001b[0m\u001b[0;34m\u001b[0m\u001b[0m\n\u001b[0;32m----> 3\u001b[0;31m \u001b[0mprint\u001b[0m\u001b[0;34m(\u001b[0m\u001b[0mA\u001b[0m\u001b[0;34m+\u001b[0m\u001b[0mB\u001b[0m\u001b[0;34m)\u001b[0m\u001b[0;34m\u001b[0m\u001b[0;34m\u001b[0m\u001b[0m\n\u001b[0m",
            "\u001b[0;31mTypeError\u001b[0m: unsupported operand type(s) for +: 'set' and 'set'"
          ]
        }
      ]
    },
    {
      "cell_type": "markdown",
      "source": [
        "Get a number of Names from user\n",
        "Get a Ages of given names from user\n",
        "check if count of names and Ages are same or not if yes, print one name, 1 age, second name second age and so on\n",
        "\n",
        "Not:\n",
        "The output must not have any repetition of names\n"
      ],
      "metadata": {
        "id": "cOHU7Daq_xlD"
      }
    },
    {
      "cell_type": "code",
      "source": [
        "Nam=input(\"Enter Names\").split(',')\n",
        "Age=input(\"Enter Ages\").split(',')\n",
        "if len(set(Nam))==len(Age):\n",
        "  Out=[Nam,Age]\n",
        "  print(Out)\n",
        "else:\n",
        "  print(\"Excessive Inputs Given\")\n"
      ],
      "metadata": {
        "id": "OTal7XkiBxpV"
      },
      "execution_count": null,
      "outputs": []
    },
    {
      "cell_type": "code",
      "source": [
        "A={1,2,3,4,5,6,7,'Asd',45.0}\n",
        "print(A)\n",
        "#A.remove('1')\n",
        "print(A)\n",
        "A.discard(\"2\")\n",
        "print(A)\n",
        "A.pop()\n",
        "print(A)\n",
        "A.clear()\n",
        "print(A)\n",
        "del A\n",
        "print(A)"
      ],
      "metadata": {
        "id": "0FP52DcADXjL"
      },
      "execution_count": null,
      "outputs": []
    },
    {
      "cell_type": "code",
      "source": [
        "A={\"Aadi\",\"BMW\",\"Thar\",\"Maruti\"}\n",
        "B={\"Mercedes\",\"BMW\",\"Nexon\",\"Wrangler\"}\n",
        "C=A.union(B)\n",
        "print(C)\n",
        "C=A | B\n",
        "print(C)\n",
        "\n",
        "# INtersection\n",
        "C=A & B\n",
        "print(C)\n",
        "C=A.intersection(B)\n",
        "print(C)"
      ],
      "metadata": {
        "colab": {
          "base_uri": "https://localhost:8080/"
        },
        "id": "yqii2i45DjV1",
        "outputId": "1d854e7e-e9e2-4b71-c8e1-a7961052eef1"
      },
      "execution_count": null,
      "outputs": [
        {
          "output_type": "stream",
          "name": "stdout",
          "text": [
            "{'Nexon', 'Wrangler', 'Mercedes', 'BMW', 'Aadi', 'Maruti', 'Thar'}\n",
            "{'Nexon', 'Wrangler', 'Mercedes', 'BMW', 'Aadi', 'Maruti', 'Thar'}\n",
            "{'BMW'}\n",
            "{'BMW'}\n"
          ]
        }
      ]
    },
    {
      "cell_type": "code",
      "source": [
        "# Dictonaries\n",
        "Myinfo={\"Name\":[\"A\",\"B\",\"C\"],\"Num\":[1,2,8,7],0:[2,3,4]}\n",
        "print(Myinfo)\n",
        "print(Myinfo[0])\n",
        "print(Myinfo[\"Name\"])\n",
        "Myinfo[\"Adress\"]=\"Chandigarh sector 22\"\n",
        "print(Myinfo)"
      ],
      "metadata": {
        "id": "OHik4IH0Ht8b"
      },
      "execution_count": null,
      "outputs": []
    },
    {
      "cell_type": "code",
      "source": [
        "# Functions in Dict\n",
        "Myinfo={\"Name\":[\"A\",\"B\",\"C\"],\"Num\":[1,2,8,7],\"Play\":[2,3,4]}\n",
        "#Myinfo[\"Name\"]=[1,2,3]\n",
        "print(Myinfo)\n",
        "\n",
        "# update\n",
        "#Myinfo.update({\"Name\":[\"Asd\",\"Bnm\"]})\n",
        "#print(Myinfo)\n",
        "#Myinfo.update({\"Cars\":[\"BMW\",\"Audi\"]})\n",
        "#print(Myinfo)\n",
        "\n",
        "# get\n",
        "print(Myinfo.get(\"Name\"))\n",
        "\n",
        "# del\n",
        "\n",
        "# clear\n",
        "#Myinfo.clear()\n",
        "#print(Myinfo)\n",
        "# pop\n",
        "#Myinfo.pop(\"Name\")\n",
        "#print(Myinfo)\n",
        "\n",
        "# popitem\n",
        "#Myinfo.popitem()\n",
        "#print(Myinfo)\n",
        "\n",
        "# keys\n",
        "print(Myinfo.keys())\n",
        "# items\n",
        "print(Myinfo.items())\n",
        "# values\n",
        "print(Myinfo.values())\n",
        "\n",
        "\n"
      ],
      "metadata": {
        "colab": {
          "base_uri": "https://localhost:8080/"
        },
        "id": "Y_ftE8XAJtr5",
        "outputId": "a1464e34-ec11-4fad-8535-6c4d6a51fd56"
      },
      "execution_count": null,
      "outputs": [
        {
          "output_type": "stream",
          "name": "stdout",
          "text": [
            "{'Name': ['A', 'B', 'C'], 'Num': [1, 2, 8, 7], 'Play': [2, 3, 4]}\n",
            "['A', 'B', 'C']\n",
            "dict_keys(['Name', 'Num', 'Play'])\n",
            "dict_items([('Name', ['A', 'B', 'C']), ('Num', [1, 2, 8, 7]), ('Play', [2, 3, 4])])\n",
            "dict_values([['A', 'B', 'C'], [1, 2, 8, 7], [2, 3, 4]])\n"
          ]
        }
      ]
    },
    {
      "cell_type": "markdown",
      "source": [
        "### Task Bank Recommendation System\n",
        "\n",
        "In a cell, get names of banks and rate of interest they offer and store information in dictionery\n",
        "\n",
        "In Next cell\n",
        "Get Loan amount user need\n",
        "No. of years for loan\n",
        "Calculate SI, Total Amount i.e P+SI\n",
        "\n",
        "Store whole info in a list and finally print a bank as follow with least interest\n",
        "\n",
        "Bank name, Interest offered, Loan AMount and Total amount to pay with interest\n",
        "\n",
        "\n",
        "\n"
      ],
      "metadata": {
        "id": "chT7jsFUPqFm"
      }
    },
    {
      "cell_type": "code",
      "source": [
        "# Solution\n",
        "# Cell 1\n",
        "Bank=input(\"Enter Bank Name: \").split(\",\")\n",
        "print(\"Successfully Names Entered\")\n",
        "RateOfr=list(map(float,input(\"Enter Rate of Interests: \").split(\",\")))\n",
        "print(\"Successfully Rate Of Interest Entered\")\n",
        "print(\"Entering To database\")\n",
        "print(\"Processing.........\")\n",
        "print(\"Processing.........\")\n",
        "print(\"Processing.........\")\n",
        "print(\"Processing.........\")\n",
        "\n",
        "DataInfo={\"Bank\":[],\"Rates\":[]}\n",
        "Temp=set(Bank)\n",
        "if len(Temp)==len(RateOfr):\n",
        "   DataInfo['Bank']=Bank\n",
        "   DataInfo['Rates']=RateOfr\n",
        "   print(\"Data Stored, you can proceed\")\n",
        "else:\n",
        "  print(\"Error While creating dataBase, please rerun the cell\")   "
      ],
      "metadata": {
        "id": "45wnWyBXNKNv",
        "colab": {
          "base_uri": "https://localhost:8080/"
        },
        "outputId": "88c81959-e6b8-4114-e89f-98fb58e4f801"
      },
      "execution_count": null,
      "outputs": [
        {
          "output_type": "stream",
          "name": "stdout",
          "text": [
            "Enter Bank Name: HDFC,ICICI,PNB, SBI,YCO\n",
            "Successfully Names Entered\n",
            "Enter Rate of Interests: 12,15,13.5,10,14\n",
            "Successfully Rate Of Interest Entered\n",
            "Entering To database\n",
            "Processing.........\n",
            "Processing.........\n",
            "Processing.........\n",
            "Processing.........\n",
            "Data Stored, you can proceed\n"
          ]
        }
      ]
    },
    {
      "cell_type": "code",
      "source": [
        "print(\"Welcome To Our Application\")\n",
        "Pamt=int(input(\"Enter Amount for Loan: \"))\n",
        "Pyrs=float(input(\"Enter Years for Loan: \"))\n",
        "print(\"Thanks For Entering Your requirements\")\n",
        "print(\"Please wait while we are suggesting you best bank\")\n",
        "print(\"Processing.....\")\n",
        "print(\"Processing.....\")\n",
        "print(\"Processing.....\")\n"
      ],
      "metadata": {
        "id": "FysVECCBS6ZT",
        "colab": {
          "base_uri": "https://localhost:8080/"
        },
        "outputId": "bccf43e7-3a04-417d-e661-475e9b4ee430"
      },
      "execution_count": null,
      "outputs": [
        {
          "output_type": "stream",
          "name": "stdout",
          "text": [
            "Welcome To Our Application\n",
            "Enter Amount for Loan: 100000\n",
            "Enter Years for Loan: 3\n",
            "Thanks For Entering Your requirements\n",
            "Please wait while we are suggesting you best bank\n",
            "Processing.....\n",
            "Processing.....\n",
            "Processing.....\n"
          ]
        }
      ]
    },
    {
      "cell_type": "code",
      "source": [
        "import operator\n",
        "\n",
        "# Main Calculation Starts\n",
        "Rate=DataInfo[\"Rates\"]\n",
        "print(Rate)\n",
        "print(type(Rate))\n",
        "\n",
        "\n",
        "\n",
        "Temp=[(Pamt*Pyrs)]*len(Rate)\n",
        "print(Temp)\n",
        "Temp1=list(map(operator.mul,Rate,Temp))\n",
        "print(Temp1)\n",
        "\n",
        "Temp=[100]*len(Rate)\n",
        "print(Temp)\n",
        "Temp2=list(map(operator.truediv,Temp1,Temp))\n",
        "print(Temp2)\n",
        "\n",
        "#SInt=p*r*t/100\n",
        "#Tamnt=Pamt+SInt\n",
        "#Min(Tamnt)\n",
        "#index of Min(Tamnt)\n",
        "#Dict bank, name, intrest"
      ],
      "metadata": {
        "colab": {
          "base_uri": "https://localhost:8080/"
        },
        "id": "3NTceZBSAnVM",
        "outputId": "9e388f90-78d4-4838-a631-db3e5ad75677"
      },
      "execution_count": null,
      "outputs": [
        {
          "output_type": "stream",
          "name": "stdout",
          "text": [
            "[12.0, 15.0, 13.5, 10.0, 14.0]\n",
            "<class 'list'>\n",
            "[300000.0, 300000.0, 300000.0, 300000.0, 300000.0]\n",
            "[3600000.0, 4500000.0, 4050000.0, 3000000.0, 4200000.0]\n",
            "[100, 100, 100, 100, 100]\n",
            "[36000.0, 45000.0, 40500.0, 30000.0, 42000.0]\n"
          ]
        }
      ]
    }
  ]
}