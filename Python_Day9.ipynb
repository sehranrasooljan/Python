{
  "nbformat": 4,
  "nbformat_minor": 0,
  "metadata": {
    "colab": {
      "name": "Python_Code_Day9.ipynb",
      "provenance": [],
      "collapsed_sections": []
    },
    "kernelspec": {
      "name": "python3",
      "display_name": "Python 3"
    },
    "language_info": {
      "name": "python"
    }
  },
  "cells": [
    {
      "cell_type": "code",
      "execution_count": null,
      "metadata": {
        "colab": {
          "base_uri": "https://localhost:8080/"
        },
        "id": "SvZ-Ou6hMhSx",
        "outputId": "43adbfb5-62ca-493c-9075-eb5563296165"
      },
      "outputs": [
        {
          "output_type": "stream",
          "name": "stdout",
          "text": [
            "Deepak\n",
            "Deepak\n"
          ]
        }
      ],
      "source": [
        "# Scope of Variables\n",
        "a=10\n",
        "b=\"Deepak\"\n",
        "#print(a,b)\n",
        "\n",
        "def myinfo(x):\n",
        "  x.split()\n",
        "  print(x)\n",
        "\n",
        "# main Code\n",
        "\n",
        "x=\"Deepak\"\n",
        "myinfo(x)  \n",
        "print(x)"
      ]
    },
    {
      "cell_type": "code",
      "source": [
        "def myinfo():\n",
        "  global q\n",
        "  q=w+2\n",
        "  print(q)\n",
        "\n",
        "def myinfo1():\n",
        "  q1=q+2\n",
        "  print(q1)\n",
        "\n",
        "# main Code\n",
        "w=5\n",
        "myinfo() \n",
        "myinfo1() \n",
        "print(w)\n"
      ],
      "metadata": {
        "colab": {
          "base_uri": "https://localhost:8080/"
        },
        "id": "sJ9Y-zNRYfns",
        "outputId": "027e6216-4103-416a-e7f4-896861797b29"
      },
      "execution_count": null,
      "outputs": [
        {
          "output_type": "stream",
          "name": "stdout",
          "text": [
            "7\n",
            "9\n",
            "5\n"
          ]
        }
      ]
    },
    {
      "cell_type": "code",
      "source": [
        "# Get a input from a user having interger and \n",
        "# float values of any length\n",
        "# Define a variable in main script\n",
        "# using that variable calculate the sum of\n",
        "# all the numbers given by user in a function\n",
        "# and print the value out side the function \n",
        "# without using return statement\n",
        "\n",
        "def CalSum(*inpo):\n",
        "  global Out\n",
        "  Out=sum(inpo)\n",
        "\n",
        "Out=0\n",
        "CalSum(2,3,4,5,5.5,4.7)\n",
        "print(Out) \n"
      ],
      "metadata": {
        "id": "CKkh5ysDaed6"
      },
      "execution_count": null,
      "outputs": []
    },
    {
      "cell_type": "code",
      "source": [
        "def CalSum(*inpo):\n",
        "  Out.append(sum(inpo))\n",
        "\n",
        "Out=[]\n",
        "CalSum(2,3,4,5,5.5,4.7)\n",
        "print(Out)"
      ],
      "metadata": {
        "id": "xPtrYhi9gWwt"
      },
      "execution_count": null,
      "outputs": []
    },
    {
      "cell_type": "code",
      "source": [
        "# recursion\n",
        "def calfact(x):\n",
        "  y=0\n",
        "  if x>5:\n",
        "    y=2+calfact(x-1)\n",
        "  return y\n",
        "\n",
        "print(calfact(10))"
      ],
      "metadata": {
        "colab": {
          "base_uri": "https://localhost:8080/"
        },
        "id": "E05C_10shHJO",
        "outputId": "648451b3-aefe-4439-cf34-4a4c9889d7f8"
      },
      "execution_count": null,
      "outputs": [
        {
          "output_type": "stream",
          "name": "stdout",
          "text": [
            "10\n"
          ]
        }
      ]
    },
    {
      "cell_type": "code",
      "source": [
        "# The input will have \n",
        "# Name, Contact, Age, Work Experience, Type\n",
        "\n",
        "# input Login or Signup\n",
        "# user Login\n",
        "# name, type\n",
        "# name exist, type either user, or admin\n",
        "# if user\n",
        "# print info of the user ewx Name, Contact, Age, Work Experience\n",
        "# elseif admin\n",
        "# else\n",
        "#not registred user\n",
        "\n",
        "# Name, Contact, Age, Work Experience, Type\n",
        "MyDataset={\"Name\":['Deep','Karan','Rahul'],\n",
        "           \"Contact\":[12,23,45],\n",
        "           \"Age\":[12,16,78],\n",
        "           \"Type\":[\"U\",\"U\",\"A\"]}\n",
        "\n",
        "def Login(Nm,Tp):\n",
        "  Alnm=MyDataset['Name']\n",
        "  AlCnt=MyDataset['Contact']\n",
        "  AlAg=MyDataset['Age']\n",
        "  AlTyp=MyDataset['Type']\n",
        "  if Nm in Alnm:\n",
        "    ind=Alnm.index(Nm)\n",
        "    Ustyp=AlTyp[ind]\n",
        "    if Tp==Ustyp:\n",
        "      Out=[Alnm[ind],AlCnt[ind],AlAg[ind]]\n",
        "      print(Out)\n",
        "    else:\n",
        "      print(\"No User found\")\n",
        "  else:\n",
        "    print(\"No User found\")\n",
        "\n",
        "\n",
        "def Signup(nm,cn,ag,ty):\n",
        "  MyDataset[\"Name\"].append(nm)\n",
        "  MyDataset[\"Contact\"].append(cn)\n",
        "  MyDataset[\"Age\"].append(ag)\n",
        "  MyDataset[\"Type\"].append(ty)\n",
        "\n",
        "\n",
        "\n",
        "\n",
        "\n"
      ],
      "metadata": {
        "id": "oBEfHFRljyp7"
      },
      "execution_count": null,
      "outputs": []
    },
    {
      "cell_type": "code",
      "source": [
        "print(\"Welcome to Our Portal\")\n",
        "print(\"Enter 1 for Login\")\n",
        "print(\"Enter 2 for Signup\")\n",
        "Opt=input(\"Enter Ur Choice: \")\n",
        "if Opt=='1':\n",
        "  Nm=input(\"Enter your Name: \")\n",
        "  Tp=input(\"Enter your User Type as U/A: \")\n",
        "  Login(Nm,Tp)\n",
        "  \n",
        "else:\n",
        "  print(\"Welcome to Sign Up Page\")\n",
        "  while True:\n",
        "    nm=input(\"Enter your Name: \")\n",
        "    if nm.isalpha():\n",
        "      break\n",
        "    else:\n",
        "      print(\"Invalid Name\")  \n",
        "  while True:\n",
        "    cn=int(input(\"Enter your Contact: \"))\n",
        "    if type(cn)==int:\n",
        "      break\n",
        "    else:\n",
        "      print(\"Invalid Contact\")\n",
        "  while True:\n",
        "    ag=int(input(\"Enter your Age: \"))\n",
        "    if type(ag)==int:\n",
        "      break\n",
        "    else:\n",
        "      print(\"Invalid Contact\")    \n",
        "  while True:\n",
        "    ty=input(\"Enter your User Type as U/A: \")\n",
        "    if ty==\"U\" or ty==\"A\":\n",
        "      break\n",
        "    else:\n",
        "      print(\"Invalid user Type\")   \n",
        "  Signup(nm,cn,ag,ty)\n",
        "  print(\"Your are successfully Registered\")\n",
        "\n",
        "\n"
      ],
      "metadata": {
        "id": "p0JWw8I2qwwC"
      },
      "execution_count": null,
      "outputs": []
    },
    {
      "cell_type": "code",
      "source": [
        "Test=MyDataset.copy()\n",
        "print(Test)\n",
        "Test[\"Name\"].append(\"prince\")\n",
        "print(Test[\"Name\"])"
      ],
      "metadata": {
        "colab": {
          "base_uri": "https://localhost:8080/"
        },
        "id": "127T2OstvmGt",
        "outputId": "c74bb0a2-2865-4c69-be52-4707237b99f9"
      },
      "execution_count": null,
      "outputs": [
        {
          "output_type": "stream",
          "name": "stdout",
          "text": [
            "{'Name': ['Deep', 'Karan', 'Rahul'], 'Contact': [12, 23, 45], 'Age': [12, 16, 78], 'Type': ['U', 'U', 'A']}\n",
            "['Deep', 'Karan', 'Rahul', 'prince']\n"
          ]
        }
      ]
    }
  ]
}