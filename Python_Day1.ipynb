{
  "nbformat": 4,
  "nbformat_minor": 0,
  "metadata": {
    "colab": {
      "name": "Python_Day1.ipynb",
      "provenance": [],
      "collapsed_sections": []
    },
    "kernelspec": {
      "name": "python3",
      "display_name": "Python 3"
    },
    "language_info": {
      "name": "python"
    }
  },
  "cells": [
    {
      "cell_type": "code",
      "execution_count": null,
      "metadata": {
        "colab": {
          "base_uri": "https://localhost:8080/"
        },
        "id": "p1x4-pdaLP6G",
        "outputId": "ca1c509b-6679-4809-978c-40fa00cd92aa"
      },
      "outputs": [
        {
          "output_type": "stream",
          "name": "stdout",
          "text": [
            "deepakDeepak 5\n",
            "\"\" ' and my age is ' 45\n"
          ]
        }
      ],
      "source": [
        "# Acceptable cases of Defining A variable in Python\n",
        "ASDVAR=5\n",
        "Avar=\"deepak\"\n",
        "Asd344=\"Deepak\"\n",
        "Asd_Var=\"Deepak\"\n",
        "_var=\"Deepak\"\n",
        "print(Avar+Asd344,ASDVAR)\n",
        "\n",
        "Name=\"Deepak\"\n",
        "Age=45\n",
        "print('\"My name Is '+ Name,'\"' ,\"' and my age is '\", Age)"
      ]
    },
    {
      "cell_type": "code",
      "source": [
        "# Non Acceptable cases of Defining A variable in Python\n",
        "2ASFD=5\n",
        "2Avar=\"deepak\"\n",
        "Asd@344=\"Deepak\"\n",
        "print()"
      ],
      "metadata": {
        "id": "N9HU65czRJWm"
      },
      "execution_count": null,
      "outputs": []
    },
    {
      "cell_type": "markdown",
      "source": [
        "Different Data Type in Python\n",
        "-------------------------------\n",
        "Binary Type: memoryview, binary\n",
        "Booloean Type: bool\n",
        "Set Type: sets\n",
        "Sequence Type: list, tuple\n",
        "Numeric Type: int, float, complex\n",
        "Text Type : str\n",
        "Mapping Type: dict\n",
        "\n",
        "List, tuple: it is class of data structure that can have homogeneous datatypes or heterogenous"
      ],
      "metadata": {
        "id": "-UAx8PvVU3cO"
      }
    },
    {
      "cell_type": "code",
      "source": [
        "# Operators In Python\n",
        "# Logical (and , &&, or ||) Used in case when conditions are to check\n",
        "# Bitwise (&, |, !)   Used in case When binary operation is to apply\n",
        "# Relational/Comparison (>=, ==,<=, ) to find relation between 2 entries\n",
        "# Arithmatic (+,-,*,/)  mathematical operations\n",
        "# Assignment (=, +=, -=, *=, /=) assigning values to a variable\n",
        "# identity (is, is not) checking typoe of object same of not\n",
        "# membership (in, not in) checking that value lie in a sequence\n"
      ],
      "metadata": {
        "id": "90byN6fCZvtl"
      },
      "execution_count": null,
      "outputs": []
    },
    {
      "cell_type": "code",
      "source": [
        "A=input(\"Please Enter Your Name: \")\n",
        "print(type(A))\n",
        "#print(A+2)\n",
        "A=int(A)\n",
        "print(type(A))\n",
        "print(A+2)"
      ],
      "metadata": {
        "id": "VSyygzKjeoWN"
      },
      "execution_count": null,
      "outputs": []
    },
    {
      "cell_type": "code",
      "source": [
        "#Type Casting\n",
        "A=5        # Integer type\n",
        "B=5.65     # Float type\n",
        "C=\"Deepak\" # String type\n",
        "D=\"D\"      # String \n",
        "E=\"5\"      # String\n",
        "\n",
        "# Int to Float\n",
        "print(\"Int to float\")\n",
        "print(type(A))\n",
        "COut=float(A)\n",
        "print(type(COut))\n",
        "\n",
        "# Float To Int\n",
        "print(\"float to int\")\n",
        "print(type(B))\n",
        "COut=int(B)\n",
        "print(type(COut))\n",
        "\n",
        "# Int to str\n",
        "print(\"Int to str\")\n",
        "print(type(A))\n",
        "COut=str(A)\n",
        "print(type(COut))\n",
        "\n",
        "# Float to str\n",
        "print(\"float to str\")\n",
        "print(type(B))\n",
        "COut=str(B)\n",
        "print(type(COut))\n"
      ],
      "metadata": {
        "colab": {
          "base_uri": "https://localhost:8080/"
        },
        "id": "oCtx-YeEhJ_Q",
        "outputId": "01bd4705-dbe8-42d9-f5b9-f0ec0b264a21"
      },
      "execution_count": null,
      "outputs": [
        {
          "output_type": "stream",
          "name": "stdout",
          "text": [
            "Int to float\n",
            "<class 'int'>\n",
            "<class 'float'>\n",
            "float to int\n",
            "<class 'float'>\n",
            "<class 'int'>\n",
            "Int to str\n",
            "<class 'int'>\n",
            "<class 'str'>\n",
            "float to str\n",
            "<class 'float'>\n",
            "<class 'str'>\n"
          ]
        }
      ]
    },
    {
      "cell_type": "code",
      "source": [
        "#############################\n",
        "# Str to INt from a word\n",
        "print(type(C))\n",
        "COut=int(C)\n",
        "print(type(COut))\n",
        "# Str to Float\n",
        "print(type(C))\n",
        "COut=float(C)\n",
        "print(type(COut))\n",
        "#############################\n"
      ],
      "metadata": {
        "colab": {
          "base_uri": "https://localhost:8080/",
          "height": 252
        },
        "id": "FCqkBVXKjxDg",
        "outputId": "643ad97d-7bc6-4fe3-ca8e-a52b0c129f80"
      },
      "execution_count": null,
      "outputs": [
        {
          "output_type": "stream",
          "name": "stdout",
          "text": [
            "<class 'str'>\n"
          ]
        },
        {
          "output_type": "error",
          "ename": "ValueError",
          "evalue": "ignored",
          "traceback": [
            "\u001b[0;31m---------------------------------------------------------------------------\u001b[0m",
            "\u001b[0;31mValueError\u001b[0m                                Traceback (most recent call last)",
            "\u001b[0;32m<ipython-input-27-a5085bfa94ce>\u001b[0m in \u001b[0;36m<module>\u001b[0;34m()\u001b[0m\n\u001b[1;32m      2\u001b[0m \u001b[0;31m# Str to INt from a word\u001b[0m\u001b[0;34m\u001b[0m\u001b[0;34m\u001b[0m\u001b[0;34m\u001b[0m\u001b[0m\n\u001b[1;32m      3\u001b[0m \u001b[0mprint\u001b[0m\u001b[0;34m(\u001b[0m\u001b[0mtype\u001b[0m\u001b[0;34m(\u001b[0m\u001b[0mC\u001b[0m\u001b[0;34m)\u001b[0m\u001b[0;34m)\u001b[0m\u001b[0;34m\u001b[0m\u001b[0;34m\u001b[0m\u001b[0m\n\u001b[0;32m----> 4\u001b[0;31m \u001b[0mCOut\u001b[0m\u001b[0;34m=\u001b[0m\u001b[0mint\u001b[0m\u001b[0;34m(\u001b[0m\u001b[0mC\u001b[0m\u001b[0;34m)\u001b[0m\u001b[0;34m\u001b[0m\u001b[0;34m\u001b[0m\u001b[0m\n\u001b[0m\u001b[1;32m      5\u001b[0m \u001b[0mprint\u001b[0m\u001b[0;34m(\u001b[0m\u001b[0mtype\u001b[0m\u001b[0;34m(\u001b[0m\u001b[0mCOut\u001b[0m\u001b[0;34m)\u001b[0m\u001b[0;34m)\u001b[0m\u001b[0;34m\u001b[0m\u001b[0;34m\u001b[0m\u001b[0m\n\u001b[1;32m      6\u001b[0m \u001b[0;31m# Str to Float\u001b[0m\u001b[0;34m\u001b[0m\u001b[0;34m\u001b[0m\u001b[0;34m\u001b[0m\u001b[0m\n",
            "\u001b[0;31mValueError\u001b[0m: invalid literal for int() with base 10: 'Deepak'"
          ]
        }
      ]
    },
    {
      "cell_type": "code",
      "source": [
        "#############################\n",
        "# Str to INt from a letter\n",
        "print(type(D))\n",
        "COut=int(D)\n",
        "print(type(COut))\n",
        "# Str to Float\n",
        "print(type(D))\n",
        "COut=float(D)\n",
        "print(type(COut))\n",
        "#############################\n"
      ],
      "metadata": {
        "colab": {
          "base_uri": "https://localhost:8080/",
          "height": 252
        },
        "id": "moDP3wbTjzJZ",
        "outputId": "7ae3ddc3-89bd-4157-b1f5-63768d5dfbcb"
      },
      "execution_count": null,
      "outputs": [
        {
          "output_type": "stream",
          "name": "stdout",
          "text": [
            "<class 'str'>\n"
          ]
        },
        {
          "output_type": "error",
          "ename": "ValueError",
          "evalue": "ignored",
          "traceback": [
            "\u001b[0;31m---------------------------------------------------------------------------\u001b[0m",
            "\u001b[0;31mValueError\u001b[0m                                Traceback (most recent call last)",
            "\u001b[0;32m<ipython-input-28-a09b35439076>\u001b[0m in \u001b[0;36m<module>\u001b[0;34m()\u001b[0m\n\u001b[1;32m      2\u001b[0m \u001b[0;31m# Str to INt from a letter\u001b[0m\u001b[0;34m\u001b[0m\u001b[0;34m\u001b[0m\u001b[0;34m\u001b[0m\u001b[0m\n\u001b[1;32m      3\u001b[0m \u001b[0mprint\u001b[0m\u001b[0;34m(\u001b[0m\u001b[0mtype\u001b[0m\u001b[0;34m(\u001b[0m\u001b[0mD\u001b[0m\u001b[0;34m)\u001b[0m\u001b[0;34m)\u001b[0m\u001b[0;34m\u001b[0m\u001b[0;34m\u001b[0m\u001b[0m\n\u001b[0;32m----> 4\u001b[0;31m \u001b[0mCOut\u001b[0m\u001b[0;34m=\u001b[0m\u001b[0mint\u001b[0m\u001b[0;34m(\u001b[0m\u001b[0mD\u001b[0m\u001b[0;34m)\u001b[0m\u001b[0;34m\u001b[0m\u001b[0;34m\u001b[0m\u001b[0m\n\u001b[0m\u001b[1;32m      5\u001b[0m \u001b[0mprint\u001b[0m\u001b[0;34m(\u001b[0m\u001b[0mtype\u001b[0m\u001b[0;34m(\u001b[0m\u001b[0mCOut\u001b[0m\u001b[0;34m)\u001b[0m\u001b[0;34m)\u001b[0m\u001b[0;34m\u001b[0m\u001b[0;34m\u001b[0m\u001b[0m\n\u001b[1;32m      6\u001b[0m \u001b[0;31m# Str to Float\u001b[0m\u001b[0;34m\u001b[0m\u001b[0;34m\u001b[0m\u001b[0;34m\u001b[0m\u001b[0m\n",
            "\u001b[0;31mValueError\u001b[0m: invalid literal for int() with base 10: 'D'"
          ]
        }
      ]
    },
    {
      "cell_type": "code",
      "source": [
        "#############################\n",
        "# Str to INt from a numeric string\n",
        "print(type(E))\n",
        "COut=int(E)\n",
        "print(type(COut))\n",
        "# Str to Float\n",
        "print(type(E))\n",
        "COut=float(E)\n",
        "print(type(COut))\n",
        "#############################\n"
      ],
      "metadata": {
        "colab": {
          "base_uri": "https://localhost:8080/"
        },
        "id": "iM-YmNy3j3Wr",
        "outputId": "025df42c-d1c4-4bd5-d14d-fc112a00f0ce"
      },
      "execution_count": null,
      "outputs": [
        {
          "output_type": "stream",
          "name": "stdout",
          "text": [
            "<class 'str'>\n",
            "<class 'int'>\n",
            "<class 'str'>\n",
            "<class 'float'>\n"
          ]
        }
      ]
    }
  ]
}