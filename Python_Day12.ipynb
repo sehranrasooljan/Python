{
  "nbformat": 4,
  "nbformat_minor": 0,
  "metadata": {
    "colab": {
      "name": "Python12_Code.ipynb",
      "provenance": [],
      "collapsed_sections": []
    },
    "kernelspec": {
      "name": "python3",
      "display_name": "Python 3"
    },
    "language_info": {
      "name": "python"
    }
  },
  "cells": [
    {
      "cell_type": "code",
      "execution_count": null,
      "metadata": {
        "id": "FnFgdUwy306d"
      },
      "outputs": [],
      "source": [
        "import numpy as np\n",
        "\n",
        "A=np.random.randint(5,100,(5,5))\n",
        "print(A)\n",
        "print(A[1:4,1:4])"
      ]
    },
    {
      "cell_type": "code",
      "source": [
        "A=np.random.randn(5)\n",
        "print(A)\n"
      ],
      "metadata": {
        "id": "jerhQe2T7UZI"
      },
      "execution_count": null,
      "outputs": []
    },
    {
      "cell_type": "code",
      "source": [
        "A=np.random.randint(5,100,(5,5))\n",
        "print(A)\n",
        "print(A.max())\n",
        "print(A.max(axis=1))\n",
        "print(A.max(axis=0))"
      ],
      "metadata": {
        "id": "jGsfzCBX77hq"
      },
      "execution_count": null,
      "outputs": []
    },
    {
      "cell_type": "code",
      "source": [
        "print(A)\n",
        "print(A.sum())\n",
        "print(A.sum(axis=1))\n",
        "print(A.sum(axis=0))\n"
      ],
      "metadata": {
        "id": "d_WTJdlA9Mc0"
      },
      "execution_count": null,
      "outputs": []
    },
    {
      "cell_type": "code",
      "source": [
        "# Mathematical Operations in Array\n",
        "A=np.random.randint(1,5,(2,2))\n",
        "B=np.random.randint(1,5,(2,2))\n",
        "print(A)\n",
        "print(B)\n",
        "#print(A+B)\n",
        "#print(A-B)\n",
        "#print(A*B)\n",
        "print(A.dot(B))"
      ],
      "metadata": {
        "id": "Ra0M77t69uGF"
      },
      "execution_count": null,
      "outputs": []
    },
    {
      "cell_type": "code",
      "source": [
        "# Wap To generate 2 arrays of length 5x5\n",
        "# The elements of first array must be float and in range of\n",
        "# 5 to 50\n",
        "# The second array have negative and positive elements\n",
        "# As a output print the summation of both arrays\n",
        "# print summation array in row wise sorted form\n",
        "\n",
        "# Solution:\n",
        "A1=np.random.randint(5,50,(5,5))*0.4\n",
        "A2=np.random.randn(5,5)\n",
        "print(A1)\n",
        "print(A2)\n",
        "A3=A1+A2\n",
        "print(A3)\n",
        "print(np.sort(A3,axis=1))\n",
        "print(A3)"
      ],
      "metadata": {
        "id": "if2z5dgi_a8x"
      },
      "execution_count": null,
      "outputs": []
    },
    {
      "cell_type": "code",
      "source": [
        "print(A3)\n",
        "A3.sort(axis=1)\n",
        "print(A3)"
      ],
      "metadata": {
        "id": "E75RkLweDLlb"
      },
      "execution_count": null,
      "outputs": []
    },
    {
      "cell_type": "code",
      "source": [
        "A1=np.random.randint(1,5,(3,3))\n",
        "A2=np.random.randint(1,5,(3,3))\n",
        "print(A1)\n",
        "print(A2)\n",
        "# Joining\n",
        "A3=np.array(list(A1)+list(A2))\n",
        "print(A3)"
      ],
      "metadata": {
        "id": "JxEHZ2HeDyqY"
      },
      "execution_count": null,
      "outputs": []
    },
    {
      "cell_type": "code",
      "source": [
        "print(A1)\n",
        "print(A2)\n",
        "A3=np.zeros((6,3))\n",
        "A3[0:3,0:3]=A1\n",
        "A3[3:6,0:3]=A2\n",
        "print(A3)\n",
        "\n",
        "A3=np.zeros((3,6))\n",
        "A3[0:3,0:3]=A1\n",
        "A3[0:3,3:6]=A2\n",
        "print(A3)\n"
      ],
      "metadata": {
        "id": "AjzjS34DGV9b"
      },
      "execution_count": null,
      "outputs": []
    },
    {
      "cell_type": "code",
      "source": [
        "A3=np.concatenate((A1,A2),axis=1)\n",
        "print(A3)\n",
        "A3=np.concatenate((A1,A2),axis=0)\n",
        "print(A3)"
      ],
      "metadata": {
        "id": "W2KgOMcMHDoN"
      },
      "execution_count": null,
      "outputs": []
    },
    {
      "cell_type": "markdown",
      "source": [
        "# WAP to collect data of 2 diferent companies\n",
        "- Count of employees\n",
        "Both the companies employess should enter following information\n",
        "- Age\n",
        "- Salary\n",
        "- Incentives\n",
        "- Years of experience\n",
        "\n",
        "# Once both companies info is collected\n",
        "Perform following Task\n",
        "- Create an array having colective information of employee having salary greater than 10000, and print the array\n",
        "-Update the Company 1 array with only entries having age <50\n",
        "\n",
        "\n",
        "\n"
      ],
      "metadata": {
        "id": "WSiX4gDzIdWR"
      }
    },
    {
      "cell_type": "code",
      "source": [
        "# Company 1\n",
        "Cnt1=int(input(\"No of EMp in Comp1: \"))\n",
        "CMP1Aray=np.zeros((Cnt1,4),dtype=int)\n",
        "for i in range(Cnt1):\n",
        "  tempo=list(map(int,input(\"Enter Details of Emp\"+str(i+1)).split(\",\")))\n",
        "  info=np.array(tempo)\n",
        "  CMP1Aray[i,:]=info\n",
        "print(CMP1Aray)\n",
        "\n",
        "# Company 2\n",
        "Cnt2=int(input(\"No of EMp in Comp2: \"))\n",
        "CMP2Aray=np.zeros((Cnt2,4),dtype=int)\n",
        "for i in range(Cnt1):\n",
        "  tempo=list(map(int,input(\"Enter Details of Emp\"+str(i+1)).split(\",\")))\n",
        "  info=np.array(tempo)\n",
        "  CMP2Aray[i,:]=info\n",
        "print(CMP2Aray)"
      ],
      "metadata": {
        "colab": {
          "base_uri": "https://localhost:8080/"
        },
        "id": "u7-aprcFMTaa",
        "outputId": "9278ee33-536a-487d-f245-4fc27768c593"
      },
      "execution_count": null,
      "outputs": [
        {
          "output_type": "stream",
          "name": "stdout",
          "text": [
            "No of EMp in Comp1: 3\n",
            "Enter Details of Emp145,15000,1000,2\n",
            "Enter Details of Emp212,13000,500,3\n",
            "Enter Details of Emp319,8500,1000,2\n",
            "[[   45 15000  1000     2]\n",
            " [   12 13000   500     3]\n",
            " [   19  8500  1000     2]]\n",
            "No of EMp in Comp2: 3\n",
            "Enter Details of Emp137,8500,500,1\n",
            "Enter Details of Emp212,4500,500,3\n",
            "Enter Details of Emp345,15000,2000,5\n",
            "[[   37  8500   500     1]\n",
            " [   12  4500   500     3]\n",
            " [   45 15000  2000     5]]\n"
          ]
        }
      ]
    },
    {
      "cell_type": "code",
      "source": [
        "Myinfo=np.concatenate((CMP1Aray,CMP2Aray),axis=0)\n",
        "print(Myinfo)\n",
        "tmp=Myinfo[:,1]<10000\n",
        "print(tmp)\n",
        "print(Myinfo[tmp,:])"
      ],
      "metadata": {
        "id": "JfbkY4RSNVt1"
      },
      "execution_count": null,
      "outputs": []
    },
    {
      "cell_type": "code",
      "source": [
        "for i in range(len(Myinfo)):\n",
        "  tmp=Myinfo[i,1]\n",
        "  if tmp<10000:\n",
        "    print(Myinfo[i,:])"
      ],
      "metadata": {
        "id": "Zpx1wN-YQUP-"
      },
      "execution_count": null,
      "outputs": []
    },
    {
      "cell_type": "code",
      "source": [
        "# Update the Company 1 array with only entries having age <50\n",
        "print(CMP1Aray)\n",
        "CMP1Aray=CMP1Aray[CMP1Aray[:,0]<50,:]\n",
        "print(CMP1Aray)\n",
        "\n",
        "# Error Case\n",
        "# CMP1Aray=CMP1Aray[(20<CMP1Aray[:,0]<50),:]\n",
        "# print(CMP1Aray)\n"
      ],
      "metadata": {
        "id": "7H1JjsZJVKiB"
      },
      "execution_count": null,
      "outputs": []
    },
    {
      "cell_type": "code",
      "source": [
        "A=np.array([2,4,5,7,8,5])\n",
        "print(A)\n",
        "A=np.delete(A,3)\n",
        "print(A)"
      ],
      "metadata": {
        "id": "CVQ4X6voWmbx"
      },
      "execution_count": null,
      "outputs": []
    },
    {
      "cell_type": "code",
      "source": [
        "A=np.append(A,45)\n",
        "print(A)"
      ],
      "metadata": {
        "id": "tXsNsio5Xdje"
      },
      "execution_count": null,
      "outputs": []
    },
    {
      "cell_type": "code",
      "source": [
        "A=np.insert(A,2,45)\n",
        "print(A)"
      ],
      "metadata": {
        "id": "No2qTHmUXomQ"
      },
      "execution_count": null,
      "outputs": []
    },
    {
      "cell_type": "code",
      "source": [
        "# Solution\n",
        "A=np.array([1,2,3,4,5,6,7,8,9,10])\n",
        "print(A)\n",
        "print(\"Press 1 for Delete\")\n",
        "print(\"Press 2 for Append\")\n",
        "print(\"Press 3 for Insert\")\n",
        "print(\"Press 4 for Exit\")\n",
        "Opt=input(\"Enter Your Option: \")\n",
        "if Opt=='1':\n",
        "  ind=int(input(\"Enter index To delete: \"))\n",
        "  A=np.delete(A,ind)\n",
        "  print(A)\n",
        "elif Opt=='2':\n",
        "  Val=int(input(\"Enter Value To Append: \"))\n",
        "  A=np.append(A,Val)\n",
        "  print(A)\n",
        "elif Opt=='3':\n",
        "  ind=int(input(\"Enter index where to insert: \"))\n",
        "  Val=int(input(\"Enter value To insert: \"))\n",
        "  A=np.insert(A,ind,Val)\n",
        "  print(A)\n",
        "elif Opt=='4':\n",
        "  print(\"Thanks For Using Our SoftwaRE\")\n",
        "else:\n",
        "  print(\"Option Not Available\")\n",
        "\n",
        "\n"
      ],
      "metadata": {
        "id": "M6sccZp0XweX"
      },
      "execution_count": null,
      "outputs": []
    },
    {
      "cell_type": "code",
      "source": [
        "# for joining Arrays\n",
        "# stack\n",
        "# vstack\n",
        "# hstack\n",
        "# dstack\n",
        "# Search (search, sortsearch)\n",
        "# Splitting (array_split)"
      ],
      "metadata": {
        "id": "cD4K0lyNbMXl"
      },
      "execution_count": null,
      "outputs": []
    },
    {
      "cell_type": "code",
      "source": [
        "# Boolean Indexing Questions\n",
        "# create an array of length 5x5\n",
        "# using boolean indexing \n",
        "# print all values greater than 50\n",
        "# print all values of row one those are divsible by 5\n",
        "# add and print all values of array those are even\n"
      ],
      "metadata": {
        "id": "FNuI7RtxcTKb"
      },
      "execution_count": null,
      "outputs": []
    }
  ]
}