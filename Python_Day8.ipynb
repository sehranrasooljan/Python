{
  "nbformat": 4,
  "nbformat_minor": 0,
  "metadata": {
    "colab": {
      "name": "Python_Code_Day8.ipynb",
      "provenance": [],
      "collapsed_sections": []
    },
    "kernelspec": {
      "name": "python3",
      "display_name": "Python 3"
    },
    "language_info": {
      "name": "python"
    }
  },
  "cells": [
    {
      "cell_type": "code",
      "execution_count": null,
      "metadata": {
        "id": "ZOpDcWtfEdRF"
      },
      "outputs": [],
      "source": [
        "#functions\n",
        "def Myprinting():\n",
        "  print(\"Helo I Am Here to Guide you\") "
      ]
    },
    {
      "cell_type": "code",
      "source": [
        "Myprinting()"
      ],
      "metadata": {
        "colab": {
          "base_uri": "https://localhost:8080/"
        },
        "id": "Jxml9oCJMWzo",
        "outputId": "ae0ad3ee-966e-46d8-ea6f-9feb87168562"
      },
      "execution_count": null,
      "outputs": [
        {
          "output_type": "stream",
          "name": "stdout",
          "text": [
            "Helo I Am Here to Guide you\n"
          ]
        }
      ]
    },
    {
      "cell_type": "code",
      "source": [
        "def Myprinting(name):\n",
        "  print(\"Hello My Name is \"+name)  \n"
      ],
      "metadata": {
        "id": "13pfEeKGNJS4"
      },
      "execution_count": null,
      "outputs": []
    },
    {
      "cell_type": "code",
      "source": [
        "Myprinting(\"Deepak\")"
      ],
      "metadata": {
        "colab": {
          "base_uri": "https://localhost:8080/"
        },
        "id": "33r5POYMNewB",
        "outputId": "ca4c1fc1-ad27-427a-a867-ec4751572acf"
      },
      "execution_count": null,
      "outputs": [
        {
          "output_type": "stream",
          "name": "stdout",
          "text": [
            "Hello My Name is Deepak\n"
          ]
        }
      ]
    },
    {
      "cell_type": "code",
      "source": [
        "def DeepUpperCheck(Inp):\n",
        "  Tmp='ABCDEFGHIJKLMNOPQRSTUVWXYZ'\n",
        "  for i in Inp:\n",
        "    if i in Tmp:\n",
        "      print(i)"
      ],
      "metadata": {
        "id": "Rpd3iI0uN-eQ"
      },
      "execution_count": null,
      "outputs": []
    },
    {
      "cell_type": "code",
      "source": [
        "DeepUpperCheck(\"DeeP\")"
      ],
      "metadata": {
        "id": "n-S68NjHOcdX"
      },
      "execution_count": null,
      "outputs": []
    },
    {
      "cell_type": "code",
      "source": [
        "def ChkNumeric(Inp):\n",
        "  Tmp='0123456789'\n",
        "  for i in Inp:\n",
        "    if i in Tmp:\n",
        "      print(i)"
      ],
      "metadata": {
        "id": "KXTXbOldOz_S"
      },
      "execution_count": null,
      "outputs": []
    },
    {
      "cell_type": "code",
      "source": [
        "ChkNumeric(\"My Mes 23\")"
      ],
      "metadata": {
        "colab": {
          "base_uri": "https://localhost:8080/"
        },
        "id": "CUSdB5BSPuM_",
        "outputId": "f1457137-8574-49ea-ce45-b5ce63bf6d6f"
      },
      "execution_count": null,
      "outputs": [
        {
          "output_type": "stream",
          "name": "stdout",
          "text": [
            "2\n",
            "3\n"
          ]
        }
      ]
    },
    {
      "cell_type": "code",
      "source": [
        "def RobotId(name,Id):\n",
        "  print(\"Hello My Name is \"+name+\" My Assigned Id Is \"+Id)  "
      ],
      "metadata": {
        "id": "6Uafum77QMpP"
      },
      "execution_count": null,
      "outputs": []
    },
    {
      "cell_type": "code",
      "source": [
        "RobotId(\"Satish\",'454654')"
      ],
      "metadata": {
        "colab": {
          "base_uri": "https://localhost:8080/"
        },
        "id": "F_jpf06PQX5Z",
        "outputId": "7379f512-80f9-4675-a9ad-9b1c8e3d49fa"
      },
      "execution_count": null,
      "outputs": [
        {
          "output_type": "stream",
          "name": "stdout",
          "text": [
            "Hello My Name is Satish My Assigned Id Is 454654\n"
          ]
        }
      ]
    },
    {
      "cell_type": "code",
      "source": [
        "def ChkNumeric(Inp):\n",
        "  A=[]\n",
        "  Tmp='0123456789'\n",
        "  for i in Inp:\n",
        "    if i in Tmp:\n",
        "      A.append(i)\n",
        "  return A"
      ],
      "metadata": {
        "id": "QeA6ZvQoQk3P"
      },
      "execution_count": null,
      "outputs": []
    },
    {
      "cell_type": "code",
      "source": [
        "Out=ChkNumeric(\"Maruti800\")\n",
        "print(Out)\n",
        "Out.append(\"45\")\n",
        "print(Out)\n"
      ],
      "metadata": {
        "id": "UlfBfYpSRQ5X"
      },
      "execution_count": null,
      "outputs": []
    },
    {
      "cell_type": "code",
      "source": [
        "# Define a fun. to calculate SI, \n",
        "# Inputs of the function will be P,R,T\n",
        "# In Main Body, get count of users,\n",
        "# For each user get His/Her Name\n",
        "# P,R and T\n",
        "# The output should print \n",
        "# \"Name\" has to pay \"SI\"\n",
        "\n",
        "def CalSI(p,r,t):\n",
        "  SI=(p*r*t)/100\n",
        "  return SI"
      ],
      "metadata": {
        "id": "Itun98MrSE2V"
      },
      "execution_count": null,
      "outputs": []
    },
    {
      "cell_type": "code",
      "source": [
        "Count=int(input(\"Enter Count: \"))\n",
        "for j in range(Count):\n",
        "  UsrNm=input(\"Name: \")\n",
        "  Prnc=int(input(\"P Value: \"))\n",
        "  Rate=float(input(\"R Value: \"))\n",
        "  Time=int(input(\"T Value: \"))\n",
        "  MySi=CalSI(Prnc,Rate,Time)\n",
        "  print(UsrNm+\" have to pay SI of \",MySi)"
      ],
      "metadata": {
        "id": "I-MDOyD2UQsY"
      },
      "execution_count": null,
      "outputs": []
    },
    {
      "cell_type": "code",
      "source": [
        "def RobotId1(name,Id):\n",
        "  print(\"Hello My Name is \"+name+\" My Assigned Id Is \"+Id) \n",
        "\n",
        "def RobotId2(name,Id):\n",
        "  print(\"Hello My Name is \"+name) \n",
        "\n",
        "def RobotId3(name,Id=\"456\"):\n",
        "  print(\"Hello My Name is \"+name+\" My Assigned Id Is \"+Id)\n",
        "\n",
        "def RobotId4(name,Age,Id=\"456\"):\n",
        "  print(\"Name is \"+name+\" My Id Is \"+Id+\" My Age: \",Age)  "
      ],
      "metadata": {
        "id": "dMZRWAN0Wf3x"
      },
      "execution_count": null,
      "outputs": []
    },
    {
      "cell_type": "code",
      "source": [
        "RobotId4(\"Deepak\",'45','123')"
      ],
      "metadata": {
        "id": "UGzLUsIEWmrz"
      },
      "execution_count": null,
      "outputs": []
    },
    {
      "cell_type": "code",
      "source": [
        "# Get a list in terms of weather of last 5 months\n",
        "# Create a function having 2 inputs\n",
        "# 1st as list of having weather values, 2nd as type of \n",
        "# calculation\n",
        "# if type is 1 return mean of list values, \n",
        "# if type is 2 return minimum of list values,\n",
        "# if type is 3 return maximum of list values,\n",
        "# else return mean of list values,\n",
        "# if no input of type is given default case as mean\n",
        "\n",
        "# in main script print the following message\n",
        "# the weather of next month will be (Output of function)\n",
        "\n",
        "def CalFuture(oldwe,Ctype=1):\n",
        "  if Ctype==1:\n",
        "    Out=sum(oldwe)/len(oldwe)\n",
        "  elif Ctype==2:\n",
        "    Out=min(oldwe)\n",
        "  elif Ctype==3:\n",
        "    Out=max(oldwe)\n",
        "  else:\n",
        "    Out=sum(oldwe)/len(oldwe)\n",
        "  return Out\n",
        "\n",
        "# Main Code\n",
        "Whtr=list(map(int,input(\"Enter Last 5 Mont Weather , seperated\").split(\",\")))\n",
        "Output=CalFuture(Whtr,-8)\n",
        "print(\"the weather of next month will be \",Output)\n",
        "\n"
      ],
      "metadata": {
        "colab": {
          "base_uri": "https://localhost:8080/"
        },
        "id": "FzwM9HPPbiWa",
        "outputId": "d99106f3-9928-4f95-b1fa-c6f549e880b2"
      },
      "execution_count": null,
      "outputs": [
        {
          "output_type": "stream",
          "name": "stdout",
          "text": [
            "Enter Last 5 Mont Weather , seperated1,2,3,4,5\n",
            "the weather of next month will be  3.0\n"
          ]
        }
      ]
    },
    {
      "cell_type": "code",
      "source": [
        "# variable length of argument passing\n",
        "def calavg(*a):\n",
        "  for i in a:\n",
        "    print(i)\n",
        "\n",
        "# Calling\n",
        "calavg(\"3,4,5,6,7,8,9\",\"qw\",234)"
      ],
      "metadata": {
        "colab": {
          "base_uri": "https://localhost:8080/"
        },
        "id": "RBcVN41Dh0GP",
        "outputId": "c15f7ddd-a9d8-40bc-b8ee-31d19ea957f7"
      },
      "execution_count": null,
      "outputs": [
        {
          "output_type": "stream",
          "name": "stdout",
          "text": [
            "3,4,5,6,7,8,9\n",
            "qw\n",
            "234\n",
            "10\n"
          ]
        }
      ]
    },
    {
      "cell_type": "code",
      "source": [
        "def MyCal(*a):\n",
        "  Sm=sum(a)\n",
        "  Mx=min(a)\n",
        "  mn=max(a)\n",
        "  av=sum(a)/len(a)\n",
        "  Out=[Sm,Mx,mn,av]\n",
        "  return Out\n",
        "\n",
        "\n",
        "Output=MyCal(1,2,3,4,8,5,4)\n",
        "print(Output)"
      ],
      "metadata": {
        "colab": {
          "base_uri": "https://localhost:8080/"
        },
        "id": "NzcJB16IllH_",
        "outputId": "312a31e4-10e6-404b-b0bd-e7099fbf1050"
      },
      "execution_count": null,
      "outputs": [
        {
          "output_type": "stream",
          "name": "stdout",
          "text": [
            "[27, 1, 8, 3.857142857142857]\n"
          ]
        }
      ]
    },
    {
      "cell_type": "code",
      "source": [
        "def RobotId1(name,Id):\n",
        "  print(\"Hello My Name is \"+name+\" My Assigned Id Is \"+Id) \n",
        "\n",
        "\n",
        "\n",
        "RobotId1(Id='456',name=\"Karan\")"
      ],
      "metadata": {
        "colab": {
          "base_uri": "https://localhost:8080/"
        },
        "id": "-PeXyQv-mxZl",
        "outputId": "b2cd0145-ca7f-4b9d-bafe-c904c716d85b"
      },
      "execution_count": null,
      "outputs": [
        {
          "output_type": "stream",
          "name": "stdout",
          "text": [
            "Hello My Name is Karan My Assigned Id Is 456\n"
          ]
        }
      ]
    },
    {
      "cell_type": "code",
      "source": [
        "# Keyword based argument passing\n",
        "def calavg(**a):\n",
        "  print(type(a))\n",
        "  print(a)\n",
        "\n",
        "# Calling\n",
        "calavg(name=\"Deepak\",age=25,work=\"Engineer\")\n"
      ],
      "metadata": {
        "colab": {
          "base_uri": "https://localhost:8080/"
        },
        "id": "eP-r6yPmnlMm",
        "outputId": "6f4b750b-62dd-4cc3-ba05-b67675dc2066"
      },
      "execution_count": null,
      "outputs": [
        {
          "output_type": "stream",
          "name": "stdout",
          "text": [
            "<class 'dict'>\n",
            "{'name': 'Deepak', 'age': 25, 'work': 'Engineer'}\n"
          ]
        }
      ]
    },
    {
      "cell_type": "code",
      "source": [
        "def Checkage(**a):\n",
        "  if \"age\" in a:\n",
        "    print('True')\n",
        "  else:\n",
        "    print('False')\n",
        "\n",
        "Checkage(Name=\"deepak\",age=45,work=\"Dont Know\")"
      ],
      "metadata": {
        "colab": {
          "base_uri": "https://localhost:8080/"
        },
        "id": "4SBzHO86rQ9w",
        "outputId": "d1773472-45b0-408b-dc5d-1d865c325cc1"
      },
      "execution_count": null,
      "outputs": [
        {
          "output_type": "stream",
          "name": "stdout",
          "text": [
            "True\n"
          ]
        }
      ]
    },
    {
      "cell_type": "code",
      "source": [
        "A=[1,2,3,4,5]\n",
        "B=(4,5,7,8,9)\n",
        "C={'A':45,\"B\":78}\n",
        "D=\"asdfghj\"\n",
        "print(45 in C.values())"
      ],
      "metadata": {
        "colab": {
          "base_uri": "https://localhost:8080/"
        },
        "id": "J3DUTw-1reHA",
        "outputId": "45f77a78-1ab6-4b0a-86d3-bd022b574209"
      },
      "execution_count": null,
      "outputs": [
        {
          "output_type": "stream",
          "name": "stdout",
          "text": [
            "True\n"
          ]
        }
      ]
    }
  ]
}