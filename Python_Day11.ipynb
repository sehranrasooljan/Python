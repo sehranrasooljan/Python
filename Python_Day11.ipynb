{
  "nbformat": 4,
  "nbformat_minor": 0,
  "metadata": {
    "colab": {
      "name": "Python11_Code.ipynb",
      "provenance": [],
      "collapsed_sections": []
    },
    "kernelspec": {
      "name": "python3",
      "display_name": "Python 3"
    },
    "language_info": {
      "name": "python"
    }
  },
  "cells": [
    {
      "cell_type": "code",
      "execution_count": null,
      "metadata": {
        "colab": {
          "base_uri": "https://localhost:8080/"
        },
        "id": "wEIhLaEGteKk",
        "outputId": "48dad156-d56a-4b66-cc1b-ec0e195380c2"
      },
      "outputs": [
        {
          "output_type": "stream",
          "name": "stdout",
          "text": [
            "['1' '2' '3' '4']\n",
            "<class 'numpy.ndarray'>\n",
            "<U1\n"
          ]
        }
      ],
      "source": [
        "import numpy as np\n",
        "A=np.array([1,2,3,4],dtype=str)\n",
        "print(A)\n",
        "print(type(A))\n",
        "print(A.dtype)"
      ]
    },
    {
      "cell_type": "code",
      "source": [
        "# Numpy Functions\n",
        "A=np.zeros((2,2))\n",
        "print(A)\n",
        "\n",
        "A1=np.random.rand(12) # count of element, 0-1\n",
        "print(A1)\n",
        "\n",
        "A2=np.random.random((3,3)) # size of array , 0-1\n",
        "print(A2)\n"
      ],
      "metadata": {
        "id": "E0TIjXw1v7H-"
      },
      "execution_count": null,
      "outputs": []
    },
    {
      "cell_type": "code",
      "source": [
        "A3=np.ones((2,2))\n",
        "print(A3)"
      ],
      "metadata": {
        "colab": {
          "base_uri": "https://localhost:8080/"
        },
        "id": "IgAEKScky5yy",
        "outputId": "92915beb-c15d-48a7-a111-e958204919dd"
      },
      "execution_count": null,
      "outputs": [
        {
          "output_type": "stream",
          "name": "stdout",
          "text": [
            "[[1. 1.]\n",
            " [1. 1.]]\n"
          ]
        }
      ]
    },
    {
      "cell_type": "markdown",
      "source": [
        "# WAP having a function with input arguments as \n",
        "- Type\n",
        "- No of rows \n",
        "- No of colmns\n",
        "it will have the following cases to fulfil\n",
        "- If type =1\n",
        "  - It should generate a random array of given length\n",
        "- if type =2 \n",
        "  - it should generate a array of given length and ask a number from user \n",
        "  the output of type 2 will be as follow\n",
        "  Ex. If size given is 2,3 ands no given by user is 5 than the output array must be \n",
        "   [5 5 5\n",
        "    5 5 5]\n"
      ],
      "metadata": {
        "id": "nluWKDlezMQL"
      }
    },
    {
      "cell_type": "code",
      "source": [
        "def MyFun(typ,rws,cols):\n",
        "  if typ==1:\n",
        "    Out=np.random.random((rws,cols))\n",
        "  elif typ==2:\n",
        "    num=int(input(\"Enter A number: \"))\n",
        "    Out=np.ones((rws,cols))*num\n",
        "  return Out"
      ],
      "metadata": {
        "id": "kHJD5V0xzLoe"
      },
      "execution_count": null,
      "outputs": []
    },
    {
      "cell_type": "code",
      "source": [
        "Out=MyFun(1,3,4)\n",
        "print(Out)"
      ],
      "metadata": {
        "id": "tpCjPUdd3OjB"
      },
      "execution_count": null,
      "outputs": []
    },
    {
      "cell_type": "code",
      "source": [
        "Out=MyFun(2,3,4)\n",
        "print(Out)"
      ],
      "metadata": {
        "id": "MIUbpcUk31eB"
      },
      "execution_count": null,
      "outputs": []
    },
    {
      "cell_type": "code",
      "source": [
        "# Other Functions\n",
        "A=np.full((3,4),45)\n",
        "print(A)\n",
        "# generating a sequence of given input\n",
        "A=np.arange(5)  # end point from 0\n",
        "print(A)\n",
        "A=np.arange(5,15)  # start and end point\n",
        "print(A)\n",
        "A=np.arange(5,15,2) # start end and step \n",
        "print(A)"
      ],
      "metadata": {
        "id": "9FE6aBJV34QV"
      },
      "execution_count": null,
      "outputs": []
    },
    {
      "cell_type": "code",
      "source": [
        "A=np.linspace(11,20,11)\n",
        "print(A)"
      ],
      "metadata": {
        "colab": {
          "base_uri": "https://localhost:8080/"
        },
        "id": "Cwqrq7t56n6P",
        "outputId": "5ca44d0a-3e66-404b-88e4-8ec447241c5c"
      },
      "execution_count": null,
      "outputs": [
        {
          "output_type": "stream",
          "name": "stdout",
          "text": [
            "[11.  11.9 12.8 13.7 14.6 15.5 16.4 17.3 18.2 19.1 20. ]\n"
          ]
        }
      ]
    },
    {
      "cell_type": "code",
      "source": [
        "A=np.linspace(11,20,11,endpoint=False)\n",
        "print(A)"
      ],
      "metadata": {
        "colab": {
          "base_uri": "https://localhost:8080/"
        },
        "id": "pDkt1oAc9Go-",
        "outputId": "79c58107-0463-46c3-f897-6f10587c0c0a"
      },
      "execution_count": null,
      "outputs": [
        {
          "output_type": "stream",
          "name": "stdout",
          "text": [
            "[11.         11.81818182 12.63636364 13.45454545 14.27272727 15.09090909\n",
            " 15.90909091 16.72727273 17.54545455 18.36363636 19.18181818]\n"
          ]
        }
      ]
    },
    {
      "cell_type": "code",
      "source": [
        "# wap to generate a sequence of Desired length with in range\n",
        "Strt=11\n",
        "Stop=20\n",
        "Reqpoint=50\n",
        "Stpsiz=(Stop-Strt)/Reqpoint\n",
        "for i in range(Reqpoint):\n",
        "  Strt=Strt+Stpsiz\n",
        "  print(Strt)"
      ],
      "metadata": {
        "id": "7TGDkqzc50-B"
      },
      "execution_count": null,
      "outputs": []
    },
    {
      "cell_type": "code",
      "source": [
        "A=np.eye(5)\n",
        "print(A)"
      ],
      "metadata": {
        "colab": {
          "base_uri": "https://localhost:8080/"
        },
        "id": "KpoNcDLJ76nW",
        "outputId": "de6c3f7d-03db-497a-c7f6-32bc26ccee08"
      },
      "execution_count": null,
      "outputs": [
        {
          "output_type": "stream",
          "name": "stdout",
          "text": [
            "[[1. 0. 0. 0. 0.]\n",
            " [0. 1. 0. 0. 0.]\n",
            " [0. 0. 1. 0. 0.]\n",
            " [0. 0. 0. 1. 0.]\n",
            " [0. 0. 0. 0. 1.]]\n"
          ]
        }
      ]
    },
    {
      "cell_type": "code",
      "source": [
        "A=np.diag([10,20,30,40,50])\n",
        "print(A)"
      ],
      "metadata": {
        "colab": {
          "base_uri": "https://localhost:8080/"
        },
        "id": "PEorK3pQ90fG",
        "outputId": "be2084f0-c31e-46a5-9420-694f60ad7536"
      },
      "execution_count": null,
      "outputs": [
        {
          "output_type": "stream",
          "name": "stdout",
          "text": [
            "[[10  0  0  0  0]\n",
            " [ 0 20  0  0  0]\n",
            " [ 0  0 30  0  0]\n",
            " [ 0  0  0 40  0]\n",
            " [ 0  0  0  0 50]]\n"
          ]
        }
      ]
    },
    {
      "cell_type": "code",
      "source": [
        "# Get input from user in terms of expenses of last 5 months\n",
        "# Calculate mean, max, min, max-min, max-mean, mean-min\n",
        "# Generate a 2 dimentional array having information as follow\n",
        "# info=[Em1, Em2, Em3,Em4,Em5\n",
        "#      mean, max, min, max-min, max-mean, mean-min]\n",
        "# Hint:\n",
        "# Em1=5\n",
        "# Em2=8\n",
        "# Em3=4\n",
        "# Em4=8\n",
        "# Em5=9\n",
        "# info=[5,8,4,8,9\n",
        "#      mean, max, min, max-min, max-mean, mean-min]\n",
        "\n",
        "TmpEx=[]\n",
        "for i in range(6):\n",
        "  TmpEx.append(int(input(\"Enter Expense of Month \"+str(i+1)+': ')))\n",
        "print(TmpEx)\n",
        "\n",
        "Inf=[np.mean(TmpEx),np.max(TmpEx),np.min(TmpEx),\n",
        "     np.max(TmpEx)-np.min(TmpEx),np.max(TmpEx)-np.mean(TmpEx),\n",
        "     np.mean(TmpEx)-np.min(TmpEx)]\n",
        "print(Inf)\n",
        "\n",
        "MyArray=np.array([TmpEx,Inf])\n",
        "print(MyArray)\n",
        "\n",
        "# print the expnses in diagonal form by using \n",
        "# slicing from above array info\n",
        "# using diagonal array\n",
        "# Hint:\n",
        "# slice value of expense from info array\n",
        "# and print using diagonal function of numpy\n",
        "\n",
        "# syntax: A[rows,colmns]\n",
        "print(np.diag(MyArray[0,:]))\n",
        "\n",
        "\n",
        "# Generate an array showning values as from slicing it from INfo array\n",
        "#[mean,mean,mean,mean,mean\n",
        "# max,max,max,max,max\n",
        "# min,min,min,min,min\n",
        "# max-min,max-min,max-min,max-min,max-min\n",
        "# max-mean,max-mean,max-mean,max-mean,max-mean\n",
        "# mean-min, mean-min, mean-min, mean-min, mean-min]\n",
        "\n",
        "# hint\n",
        "# use loops or np.full, or np.ones to get output\n",
        "Ary=np.ones((6,5))\n",
        "Tmp=MyArray[1,:]\n",
        "for i in range(6):  # rows\n",
        "  for j in range(5):  # colmns\n",
        "    Ary[i,j]*=Tmp[i]\n",
        "print(Ary) "
      ],
      "metadata": {
        "id": "11qof_o5_P2G"
      },
      "execution_count": null,
      "outputs": []
    },
    {
      "cell_type": "code",
      "source": [
        "Ary=np.ones((6,5))\n",
        "Tmp=MyArray[1,:]\n",
        "for i in range(6):  # rows\n",
        "    Ary[i,:]*=Tmp[i]\n",
        "print(Ary) "
      ],
      "metadata": {
        "id": "RwQbjswzILMW"
      },
      "execution_count": null,
      "outputs": []
    },
    {
      "cell_type": "code",
      "source": [
        "Ary=np.ones((6,5))\n",
        "Tmp=MyArray[1,:]\n",
        "for i in range(6):  # rows\n",
        "    Ary[i,:]=np.full((1,5),Tmp[i])\n",
        "print(Ary) \n"
      ],
      "metadata": {
        "id": "I8znNpcIOXYS"
      },
      "execution_count": null,
      "outputs": []
    },
    {
      "cell_type": "code",
      "source": [
        "# Numpy reshape\n",
        "A=np.array([[4,5,7,8],[9,5,4,5]])\n",
        "print(A)\n",
        "B=np.reshape(A,(4,2))\n",
        "print(B)\n",
        "\n",
        "print(A.flatten())"
      ],
      "metadata": {
        "colab": {
          "base_uri": "https://localhost:8080/"
        },
        "id": "QDU84preOsWP",
        "outputId": "673f3175-45ad-4865-c5ab-6c313596dc98"
      },
      "execution_count": null,
      "outputs": [
        {
          "output_type": "stream",
          "name": "stdout",
          "text": [
            "[[4 5 7 8]\n",
            " [9 5 4 5]]\n",
            "[[4 5]\n",
            " [7 8]\n",
            " [9 5]\n",
            " [4 5]]\n",
            "[4 5 7 8 9 5 4 5]\n"
          ]
        }
      ]
    },
    {
      "cell_type": "code",
      "source": [
        "# generate a 2 d array of static length \n",
        "# random array values must be between 0-1\n",
        "# from user get input as \n",
        "# do you want to change array shape or not\n",
        "# if user enter 1\n",
        "# get new rows and new cols\n",
        "# check if new rows and new colmns are suitable for rehaping or not\n",
        "# if suitable reshape the initial array and print\n",
        "# else get new rows and new colmns again untill\n",
        "# correct input not given\n",
        "\n",
        "Row=4\n",
        "Col=5\n",
        "Initaray=np.random.random((Row,Col))\n",
        "Opt=input(\"Enter Y for Change shape and N for Not Changing Shape: \")\n",
        "if Opt==\"Y\":\n",
        "  nrw=int(input(\"Enter New Rows: \"))\n",
        "  ncl=int(input(\"Enter New Colmns: \"))\n",
        "\n",
        "\n",
        "\n",
        "\n",
        "else:\n",
        "  print(Initaray)\n",
        "\n",
        "\n",
        "\n",
        "\n",
        "\n",
        "\n"
      ],
      "metadata": {
        "id": "T-caJ3ATQ2_B"
      },
      "execution_count": null,
      "outputs": []
    },
    {
      "cell_type": "code",
      "source": [
        "a=np.random.random((5,5))\n",
        "print(a)"
      ],
      "metadata": {
        "colab": {
          "base_uri": "https://localhost:8080/"
        },
        "id": "c9l4gZA9Tcf5",
        "outputId": "5fafb769-7547-4b25-ddbe-b98285ff155f"
      },
      "execution_count": null,
      "outputs": [
        {
          "output_type": "stream",
          "name": "stdout",
          "text": [
            "[[0.54900304 0.69269685 0.88768617 0.40813735 0.91608688]\n",
            " [0.3998149  0.37847655 0.88299359 0.42128088 0.14736817]\n",
            " [0.55943384 0.07178193 0.57824126 0.15261713 0.29694756]\n",
            " [0.71508026 0.2156411  0.39326597 0.64380618 0.9149645 ]\n",
            " [0.63665365 0.47438209 0.81231797 0.62945015 0.62199528]]\n"
          ]
        }
      ]
    }
  ]
}