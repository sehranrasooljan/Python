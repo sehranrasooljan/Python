{
  "nbformat": 4,
  "nbformat_minor": 0,
  "metadata": {
    "colab": {
      "name": "Python_14_Code.ipynb",
      "provenance": []
    },
    "kernelspec": {
      "name": "python3",
      "display_name": "Python 3"
    },
    "language_info": {
      "name": "python"
    }
  },
  "cells": [
    {
      "cell_type": "code",
      "execution_count": null,
      "metadata": {
        "id": "AFiTlPLpLL4H"
      },
      "outputs": [],
      "source": [
        "import pandas as pd\n",
        "import numpy as np\n",
        "\n",
        "A=pd.Series([1,2,4,5,6,5])\n",
        "print(A)"
      ]
    },
    {
      "cell_type": "code",
      "source": [
        "A.drop(2,inplace=True)"
      ],
      "metadata": {
        "id": "kwqDc7L9NNHq"
      },
      "execution_count": null,
      "outputs": []
    },
    {
      "cell_type": "code",
      "source": [
        "print(A)"
      ],
      "metadata": {
        "id": "44HWpQXgNRH0"
      },
      "execution_count": null,
      "outputs": []
    },
    {
      "cell_type": "code",
      "source": [
        "# WAP to get info fo 5 students\n",
        "# Name, Age, Area of interest, Placed, Graduated or not\n",
        "Info=pd.Series(dtype=str)\n",
        "for i in range(5):\n",
        "  Nm=input(\"Enter Name OF Student \"+str(i+1)+\": \")\n",
        "  Age=input(\"Enter Age OF Student \"+str(i+1)+\": \")\n",
        "  Ain=input(\"Enter Intrst OF Student \"+str(i+1)+\": \")\n",
        "  PlcS=input(\"Enter Plcmnt Status OF Student \"+str(i+1)+\": \")\n",
        "  EdS=input(\"Enter Edu Status OF Student \"+str(i+1)+\": \")\n",
        "  Info[Nm]=[Nm,Age,Ain,PlcS,EdS]\n",
        "print(Info)"
      ],
      "metadata": {
        "id": "EPFFkVT2OxNq"
      },
      "execution_count": null,
      "outputs": []
    },
    {
      "cell_type": "code",
      "source": [
        "print(Info)"
      ],
      "metadata": {
        "colab": {
          "base_uri": "https://localhost:8080/"
        },
        "id": "kc0sUXHoStp_",
        "outputId": "4b94f236-9422-4ffc-ef73-4c0cb64bc423"
      },
      "execution_count": null,
      "outputs": [
        {
          "output_type": "stream",
          "name": "stdout",
          "text": [
            "Deepak      [Deepak, 12, Python, P, G]\n",
            "Arash        [Arash, 23, Java, NP, NG]\n",
            "Ranjit    [Ranjit, 25, Android, P, NG]\n",
            "asdf        [asdf, asd, asd, asd, asd]\n",
            "asf          [asf, asf, asf, asf, asf]\n",
            "dtype: object\n"
          ]
        }
      ]
    },
    {
      "cell_type": "code",
      "source": [
        "for i in Info.index:\n",
        "  Temp=Info[i]\n",
        "  if Temp[4]==\"NG\":\n",
        "    print(\"Delete Me I am NG\")\n",
        "    Info.drop(i,inplace=True)\n",
        "  elif Temp[4]==\"G\":\n",
        "    if Temp[3]==\"P\":\n",
        "      print(\"Delete Me I am P\")\n",
        "      Info.drop(i,inplace=True)\n",
        "print(Info)\n"
      ],
      "metadata": {
        "id": "nXHH21x3WA1T"
      },
      "execution_count": null,
      "outputs": []
    },
    {
      "cell_type": "code",
      "source": [
        "As=pd.Series([4,1,5,7,8,5],index=[\"C\",'D',\"E\",\"F\",\"G\",\"H\"])\n",
        "print(As)\n",
        "for i in As.index:\n",
        "  if i==\"D\" or i==\"E\" or i==\"H\":\n",
        "    As.drop(i,inplace=True)\n",
        "print(As)    "
      ],
      "metadata": {
        "id": "opqwf_TeYuUy"
      },
      "execution_count": null,
      "outputs": []
    },
    {
      "cell_type": "code",
      "source": [
        "# Dataframes\n",
        "A=pd.DataFrame([1,2,3,4,5,6])\n",
        "print(type(A))\n",
        "print(A)\n"
      ],
      "metadata": {
        "id": "A0aJiYnVcYlO"
      },
      "execution_count": null,
      "outputs": []
    },
    {
      "cell_type": "code",
      "source": [
        "A=pd.DataFrame([[1,2,3,4,5,6],[1,2,3,4,5,6]])\n",
        "print(type(A))\n",
        "print(A)"
      ],
      "metadata": {
        "colab": {
          "base_uri": "https://localhost:8080/"
        },
        "id": "07zX2qRjdyM-",
        "outputId": "39a8720e-84cc-4a1a-bb10-8c39e95d48e9"
      },
      "execution_count": null,
      "outputs": [
        {
          "output_type": "stream",
          "name": "stdout",
          "text": [
            "<class 'pandas.core.frame.DataFrame'>\n",
            "   0  1  2  3  4  5\n",
            "0  1  2  3  4  5  6\n",
            "1  1  2  3  4  5  6\n"
          ]
        }
      ]
    },
    {
      "cell_type": "code",
      "source": [
        "print(([[1,2,3,4,5,6],[1,2,3,4,5,6]]))"
      ],
      "metadata": {
        "id": "Y9elVWq2eOrO"
      },
      "execution_count": null,
      "outputs": []
    },
    {
      "cell_type": "code",
      "source": [
        "# Dataframes\n",
        "Dct={\"A\":[\"D\",2],\"B\":[\"E\",15]}\n",
        "A=pd.DataFrame(Dct)\n",
        "print(type(A))\n",
        "print(A)\n"
      ],
      "metadata": {
        "id": "sykRkXlfc6cH"
      },
      "execution_count": null,
      "outputs": []
    },
    {
      "cell_type": "code",
      "source": [
        "A={\"Deep\":pd.Series([1,2,3,4],index=['A',\"B\",\"C\",\"D\"]),\n",
        "   \"Karan\":pd.Series([1,2,3,4],index=['A',\"B\",\"C\",\"D\"])}\n",
        "C=pd.DataFrame(A)\n",
        "print(C)"
      ],
      "metadata": {
        "id": "XnGmCM-LeqOp"
      },
      "execution_count": null,
      "outputs": []
    },
    {
      "cell_type": "code",
      "source": [
        "A={\"Deep\":pd.Series([1,2,3],index=['A',\"C\",\"D\"]),\n",
        "   \"Karan\":pd.Series([1,2,3],index=['A',\"B\",\"C\"])}\n",
        "C=pd.DataFrame(A)\n",
        "print(C)"
      ],
      "metadata": {
        "id": "EOASFigXfQBU"
      },
      "execution_count": null,
      "outputs": []
    },
    {
      "cell_type": "code",
      "source": [
        "A=pd.DataFrame([1,2,3,4],index=[\"A\",\"as\",\"ass\",\"asss\"])\n",
        "print(type(A))\n",
        "print(A)"
      ],
      "metadata": {
        "id": "1wQN-YeriMtJ"
      },
      "execution_count": null,
      "outputs": []
    },
    {
      "cell_type": "code",
      "source": [
        "A.index=[\"A\",\"B\",\"C\",\"D\"]\n",
        "print(A)"
      ],
      "metadata": {
        "colab": {
          "base_uri": "https://localhost:8080/"
        },
        "id": "Ke_DTVqCiXSV",
        "outputId": "fa54733e-0a52-43b3-a59e-2a3107dc67cb"
      },
      "execution_count": null,
      "outputs": [
        {
          "output_type": "stream",
          "name": "stdout",
          "text": [
            "   Ist\n",
            "A    1\n",
            "B    2\n",
            "C    3\n",
            "D    4\n"
          ]
        }
      ]
    },
    {
      "cell_type": "code",
      "source": [
        "A=pd.DataFrame([[1,2,3,4],[4,5,7,8]],index=[\"A\",\"B\"],\n",
        "               columns=[\"C1\",\"C2\",\"C3\",\"C4\"])\n",
        "print(type(A))\n",
        "print(A)"
      ],
      "metadata": {
        "id": "g0TCPzeiim_4"
      },
      "execution_count": null,
      "outputs": []
    },
    {
      "cell_type": "code",
      "source": [
        "print(A.values)"
      ],
      "metadata": {
        "colab": {
          "base_uri": "https://localhost:8080/"
        },
        "id": "C4eYbTrbkKSZ",
        "outputId": "62deb723-9e33-4d4c-89ff-1134f5ffb120"
      },
      "execution_count": null,
      "outputs": [
        {
          "output_type": "stream",
          "name": "stdout",
          "text": [
            "[[1 2 3 4]\n",
            " [4 5 7 8]]\n"
          ]
        }
      ]
    },
    {
      "cell_type": "code",
      "source": [
        "A.columns=[\"Ist\",\"2nd\",\"3rd\",\"4th\"]\n",
        "print(A)\n",
        "print(A.shape)\n",
        "print(A.index)\n",
        "print(A.columns)\n",
        "print(A.size)\n",
        "print(A.ndim)"
      ],
      "metadata": {
        "id": "AXnZbXT-iv3p"
      },
      "execution_count": null,
      "outputs": []
    },
    {
      "cell_type": "code",
      "source": [
        "A={\"Int\":[1,2,3],\"Float\":[1.2,1.5,1.6]}\n",
        "Df=pd.DataFrame(A)\n",
        "print(Df)"
      ],
      "metadata": {
        "id": "0VGeB63Tm0Ih"
      },
      "execution_count": null,
      "outputs": []
    },
    {
      "cell_type": "code",
      "source": [
        "A={\"Int\":[1,2,3],\"Float\":[1.2,1.5,1.6]}\n",
        "B={\"Int\":[1,2,3],\"Float\":[1.2,1.5,1.6]}\n",
        "C=[A,B]\n",
        "Df=pd.DataFrame(C)\n",
        "print(Df)\n",
        "\n",
        "A={\"Int\":[1,2,3],\"Float\":[1.2,1.5,1.6]}\n",
        "B={\"Int1\":[1,2,3],\"Float\":[1.2,1.5,1.6]}\n",
        "C=[A,B]\n",
        "Df=pd.DataFrame(C)\n",
        "print(Df)"
      ],
      "metadata": {
        "id": "21BXudWMojej"
      },
      "execution_count": null,
      "outputs": []
    },
    {
      "cell_type": "code",
      "source": [
        "# WAP to collect data of students in form of \n",
        "# dataframe having index as names given by user\n",
        "# and columns as attrributes as follow:\n",
        "# Age, Contact, Email, Semester, Average Marks till now, \n",
        "# Branch, PLacement status\n",
        "\n",
        "# Count of Students\n",
        "#      Age, Contact, Email, Sem, AMarks, Branch, Pstatus\n",
        "# Deep 12   45646    sa@gml  5    455     ece       P\n",
        "# Aksh 45    44546   sa@da   6    444     cse       Np\n"
      ],
      "metadata": {
        "id": "9puI1dNwo9uq"
      },
      "execution_count": null,
      "outputs": []
    },
    {
      "cell_type": "code",
      "source": [
        "from IPython.core.display import set_matplotlib_close\n",
        "Cnt=int(input(\"Count: \"))\n",
        "for num in range(Cnt):\n",
        "  Det=list(map(str,\n",
        "  input(\"Enter Details of Student \"+str(num)+\": \")))\n",
        "  "
      ],
      "metadata": {
        "id": "xHIcVvjtpV5p"
      },
      "execution_count": null,
      "outputs": []
    }
  ]
}