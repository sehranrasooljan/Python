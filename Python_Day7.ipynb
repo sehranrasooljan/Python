{
  "nbformat": 4,
  "nbformat_minor": 0,
  "metadata": {
    "colab": {
      "name": "Python_Day7.ipynb",
      "provenance": [],
      "collapsed_sections": []
    },
    "kernelspec": {
      "name": "python3",
      "display_name": "Python 3"
    },
    "language_info": {
      "name": "python"
    }
  },
  "cells": [
    {
      "cell_type": "markdown",
      "source": [
        "### Practice session"
      ],
      "metadata": {
        "id": "sL8xQbDBB9V8"
      }
    },
    {
      "cell_type": "code",
      "source": [
        "# Question 1\n",
        "#\tCreate a list having elements 5 to 250, \n",
        "\n",
        "# get input from user that how many numbers you want to add to a list\n",
        "# than run a loop for that much count\n",
        "# get inputs from user and check if it is in range of 5 and 250, if yes append to list\n",
        "\n",
        "# extra case: the overall list must have number equal to count input by user in first step\n",
        "\n",
        "Count=int(input(\"Enter Size of List: \"))\n",
        "Info=[]\n",
        "for i in range(Count):\n",
        "  Inp=int(input(\"Enter list element: \"))\n",
        "  if Inp>=5 and Inp<=250:\n",
        "    Info.append(Inp)\n",
        "\n",
        "print(Info)\n",
        "\n",
        "# find the numbers divisible by 5 and print, if value found is greater than 150 break the loop\n",
        "for i in range(len(Info)):\n",
        "  if Info[i]>150:\n",
        "    break\n",
        "  else:\n",
        "    if  Info[i]%5==0:\n",
        "      print(str(Info[i])+\" is divisible by 5\")\n",
        "    else:\n",
        "      print(str(Info[i])+\" is Not divisible by 5\")\n",
        "\n",
        "# 2nd way by direct elements in loop\n",
        "for i in Info:\n",
        "  if i>150:\n",
        "    break\n",
        "  else:\n",
        "    if  i%5==0:\n",
        "      print(str(i)+\" is divisible by 5\")\n",
        "    else:\n",
        "      print(str(i)+\" is Not divisible by 5\")\n"
      ],
      "metadata": {
        "colab": {
          "base_uri": "https://localhost:8080/"
        },
        "id": "c4Fm8AMbCA-7",
        "outputId": "f8247b11-b15c-4b11-a34c-fdb4557be555"
      },
      "execution_count": null,
      "outputs": [
        {
          "output_type": "stream",
          "name": "stdout",
          "text": [
            "Enter Size of List: 5\n",
            "Enter list element: 6\n",
            "Enter list element: 10\n",
            "Enter list element: 15\n",
            "Enter list element: 125\n",
            "Enter list element: 78\n",
            "[6, 10, 15, 125, 78]\n",
            "6 is Not divisible by 5\n",
            "10 is divisible by 5\n",
            "15 is divisible by 5\n",
            "125 is divisible by 5\n",
            "78 is Not divisible by 5\n",
            "6 is Not divisible by 5\n",
            "10 is divisible by 5\n",
            "15 is divisible by 5\n",
            "125 is divisible by 5\n",
            "78 is Not divisible by 5\n"
          ]
        }
      ]
    },
    {
      "cell_type": "code",
      "source": [
        "# Question 2\n",
        "# Input a string from user having letters in upper and lower case both, \n",
        "# print such a way that all lower case letters should come first than upper case letters\n",
        "# Example:\n",
        "# Input= abDeeG\n",
        "# Output= abeeDG\n",
        "Inp=input(\"Enter A String of lowr and uper case letters: \")\n",
        "Al=''\n",
        "Au=''\n",
        "for i in Inp:\n",
        "  if i.islower():\n",
        "    Al=Al+i\n",
        "  else:\n",
        "    Au=Au+i\n",
        "print(Al+Au)\n",
        "\n"
      ],
      "metadata": {
        "colab": {
          "base_uri": "https://localhost:8080/"
        },
        "id": "cTlBZWUmClNT",
        "outputId": "66a9b9e5-b7a5-41ce-d92e-6b659ddeb51f"
      },
      "execution_count": null,
      "outputs": [
        {
          "output_type": "stream",
          "name": "stdout",
          "text": [
            "Enter A String of lowr and uper case letters: aDeeP\n",
            "aeeDP\n"
          ]
        }
      ]
    },
    {
      "cell_type": "code",
      "source": [
        "# Question 3\n",
        "# Create a string made of the first char of String 1 then the last char of String 2, \n",
        "# Next,the second char of String 1 and second last char of String 2, and so on. Any left over chars go at the end of the result.\n",
        "# For example:\n",
        "# s1 = \"Abc\"\n",
        "# s2 = \"Xyz\"\n",
        "# Expected Output:AzbycX\n",
        "Inp1=input(\"Enter String 1: \")\n",
        "Inp2=input(\"Enter String 2: \")\n",
        "Inp2=Inp2[::-1]\n",
        "Out=''\n",
        "for i in range(len(Inp1)):\n",
        "  Out=Out+(Inp1[i]+Inp2[i])\n",
        "print(Out)\n"
      ],
      "metadata": {
        "colab": {
          "base_uri": "https://localhost:8080/"
        },
        "id": "FYbX9gJ0CyIA",
        "outputId": "f53f5a4b-0a46-494e-96d1-a084e0d98886"
      },
      "execution_count": null,
      "outputs": [
        {
          "output_type": "stream",
          "name": "stdout",
          "text": [
            "Enter String 1: abc\n",
            "Enter String 2: qwe\n",
            "aebwcq\n"
          ]
        }
      ]
    },
    {
      "cell_type": "code",
      "source": [
        "# Question 4\n",
        "# Write a program that will have input from user in terms of total marks and \n",
        "# obtained marks.Calculate its percentage \n",
        "# By using if else ladder and logical operators to print and check following conditions\n",
        "# total is percentage\n",
        "\n",
        "#\tIf total<=100 and total>90, student will be distinction\n",
        "#\tIf total<=90 and total>80 ,student will get honors\n",
        "#\tIf total<=80 and total is greater than 70% of total marks) , \n",
        "#    student will get 1st division\n",
        "#\tIf total<=70 and total>50,student will get 2nd position\n",
        "#\tElse student will be failed\n",
        "\n",
        "TotMark=int(input(\"Enter Total Marks: \"))\n",
        "ObtMark=int(input(\"Enter Obtained Marks: \"))\n",
        "Myper=(ObtMark/TotMark)*100\n",
        "if 90<Myper<=100:\n",
        "  print('Distinction')\n",
        "elif 80<Myper<=90:\n",
        "  print('Honors')\n",
        "elif 80<Myper<=((70/100)*TotMark):\n",
        "  print('First Division')\n",
        "\n"
      ],
      "metadata": {
        "id": "N0oH6Ec9C5VL"
      },
      "execution_count": null,
      "outputs": []
    },
    {
      "cell_type": "code",
      "source": [
        "# Question 5\n",
        "#\tA university has the following rules for a student to qualify for a degree with \n",
        "# A as the main subject and B as the subsidiary subject:\n",
        "\n",
        "# Eligibility\n",
        "# a)\tHe should get 55% or more in A and 45% or more in B\n",
        "# b)\tif he gets less than 55% in A he should get 55% or more in B. \n",
        "#     However he should get at least 45% in A.\n",
        "\n",
        "# if (A>=55 and B>=45)  or  (45<=A<55 and B>55)\n",
        "# eligible\n",
        "\n",
        "# Reapear\n",
        "# c)\tif he gets less than 45% in B and 65% or more in A \n",
        "#     he allowed to reappear in an examination in B to qualify.\n",
        "\n",
        "# if B<45 and A>=65\n",
        "# Reapear \n",
        "\n",
        "# Not Eligible\n",
        "# d)\tIn all other cases he is declared to have failed.\n",
        "\n",
        "# else\n",
        "\n",
        "# Write a program to receive marks in A and B \n",
        "# and output whether the student has passed, \n",
        "# failed or is allowed to reappear in B.\n",
        "\n",
        "\n",
        "TotMark=100\n",
        "RcvMarkA=int(input(\"Enter Received Marks in Subject A (0-100): \"))\n",
        "RcvMarkB=int(input(\"Enter Received Marks in Subject B (0-100): \"))\n",
        "A=(RcvMarkA/TotMark)*100\n",
        "B=(RcvMarkB/TotMark)*100\n",
        "\n",
        "# Case 1\n",
        "if (A>=55 and B>=45)  or  (45<=A<55 and B>55):\n",
        "  print(\"YOu Are Eligible\")\n",
        "elif B<45 and A>=65:\n",
        "  print('Reapear in B')\n",
        "else:\n",
        "  print(\"Not eligible \")\n"
      ],
      "metadata": {
        "id": "8bfkcTE0DRA7"
      },
      "execution_count": null,
      "outputs": []
    },
    {
      "cell_type": "code",
      "source": [
        "# Question 6\n",
        "# Write a program to enter the number till the user wants \n",
        "# and at the end it should display the count of positive, negative and zeros.\n",
        "\n"
      ],
      "metadata": {
        "id": "sF7bqJ5mDqEz"
      },
      "execution_count": null,
      "outputs": []
    }
  ]
}