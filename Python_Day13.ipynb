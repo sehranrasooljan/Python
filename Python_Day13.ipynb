{
  "nbformat": 4,
  "nbformat_minor": 0,
  "metadata": {
    "colab": {
      "name": "Python13_Code.ipynb",
      "provenance": [],
      "collapsed_sections": []
    },
    "kernelspec": {
      "name": "python3",
      "display_name": "Python 3"
    },
    "language_info": {
      "name": "python"
    }
  },
  "cells": [
    {
      "cell_type": "code",
      "source": [
        "# Data structures\n",
        "import pandas as pd\n",
        "As=pd.Series([15.25,222,32,141])\n",
        "print(type(As))\n",
        "print(As)\n"
      ],
      "metadata": {
        "id": "hIWl550pt34Y"
      },
      "execution_count": null,
      "outputs": []
    },
    {
      "cell_type": "code",
      "source": [
        "As=pd.Series([15.25,222,32,141],index=[100,101,102,103])\n",
        "print(type(As))\n",
        "print(As)"
      ],
      "metadata": {
        "id": "l42YacLEJSq_"
      },
      "execution_count": null,
      "outputs": []
    },
    {
      "cell_type": "code",
      "source": [
        "As=pd.Series([15.25,222,32,141],index=['Age','Work',\"Id\",\"Sal\"])\n",
        "print(type(As))\n",
        "print(As)"
      ],
      "metadata": {
        "id": "2mMN2iAAJlmm"
      },
      "execution_count": null,
      "outputs": []
    },
    {
      "cell_type": "code",
      "source": [
        "As=pd.Series([15.25,222,32,141],index=['Age','Work',\"Id\",\"Sal\"],\n",
        "             dtype=str)\n",
        "print(type(As))\n",
        "print(As)"
      ],
      "metadata": {
        "id": "WAqNwkGNJ3_T"
      },
      "execution_count": null,
      "outputs": []
    },
    {
      "cell_type": "code",
      "source": [
        "# Error Case\n",
        "As=pd.Series([15.25,222,32,141],index=['Age','Work',\"Id\"],\n",
        "             dtype=str)\n",
        "print(type(As))\n",
        "print(As)"
      ],
      "metadata": {
        "id": "6FbWGcdYKJfX"
      },
      "execution_count": null,
      "outputs": []
    },
    {
      "cell_type": "code",
      "source": [
        "import numpy as np\n",
        "MyAry=np.array([10,20,30,40])\n",
        "As=pd.Series(MyAry)\n",
        "print(type(As))\n",
        "print(As)"
      ],
      "metadata": {
        "id": "QvEveToFLaNA"
      },
      "execution_count": null,
      "outputs": []
    },
    {
      "cell_type": "code",
      "source": [
        "MyDic={\"Day1\":45,\"Day2\":450,\"Day3\":5,\"Day4\":78}\n",
        "As=pd.Series(MyDic)\n",
        "print(type(As))\n",
        "print(As)"
      ],
      "metadata": {
        "id": "7J8JF3NxKpYl"
      },
      "execution_count": null,
      "outputs": []
    },
    {
      "cell_type": "code",
      "source": [
        "MyDic={\"Day1\":45,\"Day2\":450,\"Day3\":5,\"Day4\":78}\n",
        "As=pd.Series(MyDic,index=[\"A\",\"B\",\"C\",\"D\"])\n",
        "print(type(As))\n",
        "print(As)\n",
        "As=pd.Series(MyDic,index=[\"Day1\",\"B\",\"C\",\"D\"])\n",
        "print(type(As))\n",
        "print(As)\n",
        "As=pd.Series(MyDic,index=[\"Day1\",\"Day2\",\"Day3\"])\n",
        "print(type(As))\n",
        "print(As)\n",
        "MyDic={\"Day1\":[45,45],\"Day2\":450,\"Day3\":5,\"Day4\":78}\n",
        "As=pd.Series(MyDic,index=[\"Day1\",\"Day2\",\"Day3\",\"Day4\"])\n",
        "print(type(As))\n",
        "print(As)"
      ],
      "metadata": {
        "id": "_YTIkK9eLour"
      },
      "execution_count": null,
      "outputs": []
    },
    {
      "cell_type": "code",
      "source": [
        "# WAP to get inputs from user in terms of \n",
        "# Count of Employees\n",
        "# Basic Salary, Emp Id, Years of Experience\n",
        "\n",
        "# Create a series having indexes similar to inputs\n",
        "# in addition to this a new index will be there represents \n",
        "# new salary which will be calculated by following formula\n",
        "# New sal=Basic Salry+ Basic salary*50% of years of experience\n",
        "\n",
        "# Expected Output:\n",
        "# Series\n",
        "#  Bsal   [150,200,300] \n",
        "#  Empid  [2,3,4]\n",
        "#  Exp    [7,2,3]\n",
        "#  Nsal   [250,350,650]\n",
        "\n",
        "Cnt=int(input(\"Enter Number of Employees: \"))\n",
        "BsSal=[]\n",
        "Eid=[]\n",
        "Exp=[]\n",
        "Newsal=[]\n",
        "for i in range(Cnt):\n",
        "  BsSal.append(int(input(\"Enter Basic Salary of Emp \"+str(i+1)+\": \")))\n",
        "  Eid.append(int(input(\"Enter Id of Emp \"+str(i+1)+\": \")))\n",
        "  Exp.append(int(input(\"Enter Experience of Emp \"+str(i+1)+\": \")))\n",
        "  Newsal.append(BsSal[i]+(BsSal[i]*(Exp[i]*50/100)))\n",
        "\n",
        "MyInfo={\"Bsal\":BsSal,\"Emp Id\":Eid,\"Expr\":Exp,\"New Sal\":Newsal}\n",
        "FinalInfo=pd.Series(MyInfo)\n",
        "print(FinalInfo)\n"
      ],
      "metadata": {
        "id": "8pv0vAvMMdpq"
      },
      "execution_count": null,
      "outputs": []
    },
    {
      "cell_type": "code",
      "source": [
        "As=pd.Series([2,45,16,19],index=[\"A\",\"B\",\"C\",\"D\"])\n",
        "print(type(As))\n",
        "print(As)\n",
        "print(As.shape)\n",
        "print(As.index)\n",
        "print(As.values)\n",
        "print(As.size)\n",
        "print(np.max(As))\n",
        "print(np.min(As))\n",
        "print(As.ndim)"
      ],
      "metadata": {
        "id": "ub_ENqOHUvTG"
      },
      "execution_count": null,
      "outputs": []
    },
    {
      "cell_type": "code",
      "source": [
        "As=pd.Series([2,45,16,19],index=[\"A\",\"B\",\"C\",\"D\"])\n",
        "print(As)\n",
        "B=As.values\n",
        "print(type(B))\n",
        "for i in range(len(B)):\n",
        "  if i%2==0:\n",
        "    print(B[i])"
      ],
      "metadata": {
        "id": "mCozySYEVPnt"
      },
      "execution_count": null,
      "outputs": []
    },
    {
      "cell_type": "code",
      "source": [
        "As=pd.Series([2,45,16,19,25],index=[\"A\",\"B\",\"C\",\"D\",\"D\"])\n",
        "print(As[0:5:2])\n",
        "\n",
        "print(As[[0,2,4]])\n",
        "\n",
        "print(As[0],As[2],As[4])\n",
        "\n",
        "print(As[\"B\"],As[\"D\"])\n",
        "\n",
        "print(As[\"B\":\"D\"])\n",
        "\n",
        "print(As[[\"B\",\"D\"]])\n"
      ],
      "metadata": {
        "id": "9VX7pcxrYBy0"
      },
      "execution_count": null,
      "outputs": []
    },
    {
      "cell_type": "code",
      "source": [
        "# WAP for creating a series of length 26, and values between\n",
        "# 20 to 160, al the index of series should start from a to z\n",
        "# finaly print value at index = vowels (a,e,i,o,u)\n",
        "# without for loop\n"
      ],
      "metadata": {
        "id": "4SOk3McOcs5v"
      },
      "execution_count": null,
      "outputs": []
    },
    {
      "cell_type": "code",
      "source": [
        "#import string\n",
        "#for i in string.ascii_lowercase:\n",
        "#  print(i)\n",
        "\n",
        "Ind=[]\n",
        "for i in range(97,123):\n",
        "  Ind.append(chr(i))\n",
        "\n",
        "val=np.random.randint(20,160,26)\n",
        "Out=pd.Series(val,index=Ind)\n",
        "#print(Out)\n",
        "\n",
        "print(Out[[\"a\",\"e\",\"i\",\"o\",\"u\"]])"
      ],
      "metadata": {
        "id": "IIwu18bKc_EX"
      },
      "execution_count": null,
      "outputs": []
    },
    {
      "cell_type": "code",
      "source": [
        "As=pd.Series([2,45,16,19,25],index=[\"A\",\"B\",\"C\",\"D\",\"D\"])\n",
        "As[\"D\"]=125\n",
        "print(As)\n",
        "      "
      ],
      "metadata": {
        "id": "ineTNxZcgJL-"
      },
      "execution_count": null,
      "outputs": []
    },
    {
      "cell_type": "code",
      "source": [
        "A=pd.Series(np.zeros(26,dtype=int),index=Ind)\n",
        "A[[\"a\",\"e\",\"i\",\"o\",\"u\"]]=Out[[\"a\",\"e\",\"i\",\"o\",\"u\"]]\n",
        "print(A)"
      ],
      "metadata": {
        "id": "3T2PTDG4hxLf"
      },
      "execution_count": null,
      "outputs": []
    },
    {
      "cell_type": "code",
      "source": [
        "Indd=Out.index\n",
        "for i in Indd:\n",
        "  if i not in [\"a\",\"e\",\"i\",\"o\",\"u\"]:\n",
        "    Out[i]=0\n",
        "print(Out)    "
      ],
      "metadata": {
        "id": "lDHqrhZLjkTt"
      },
      "execution_count": null,
      "outputs": []
    },
    {
      "cell_type": "code",
      "source": [
        "As=pd.Series([4,7,2,1,8])\n",
        "print(As)"
      ],
      "metadata": {
        "colab": {
          "base_uri": "https://localhost:8080/"
        },
        "id": "OLrSmfgxkN0R",
        "outputId": "62c27a8f-3878-41bc-9bc6-728a98e2dcb6"
      },
      "execution_count": null,
      "outputs": [
        {
          "output_type": "stream",
          "name": "stdout",
          "text": [
            "0    4\n",
            "1    7\n",
            "2    2\n",
            "3    1\n",
            "4    8\n",
            "dtype: int64\n"
          ]
        }
      ]
    },
    {
      "cell_type": "code",
      "source": [
        "# Error Case\n",
        "# As=As.drop(3)\n",
        "As.drop(3)"
      ],
      "metadata": {
        "colab": {
          "base_uri": "https://localhost:8080/"
        },
        "id": "vJSphqDUkhSY",
        "outputId": "6c7180ff-fd57-46b0-c7a4-74fc8d061e79"
      },
      "execution_count": null,
      "outputs": [
        {
          "output_type": "execute_result",
          "data": {
            "text/plain": [
              "0    4\n",
              "1    7\n",
              "2    2\n",
              "4    8\n",
              "dtype: int64"
            ]
          },
          "metadata": {},
          "execution_count": 80
        }
      ]
    },
    {
      "cell_type": "code",
      "source": [
        "print(As[3])\n",
        "print(As)"
      ],
      "metadata": {
        "colab": {
          "base_uri": "https://localhost:8080/"
        },
        "id": "ycFc7TeTkxcC",
        "outputId": "5a85ab09-84da-4938-923f-ba3e80a9c2ef"
      },
      "execution_count": null,
      "outputs": [
        {
          "output_type": "stream",
          "name": "stdout",
          "text": [
            "1\n",
            "0    4\n",
            "1    7\n",
            "2    2\n",
            "3    1\n",
            "4    8\n",
            "dtype: int64\n"
          ]
        }
      ]
    },
    {
      "cell_type": "code",
      "source": [
        "# Error Case\n",
        "As=pd.Series([4,7,2,1,8],index=[0,1,2,4,5])\n",
        "print(As)\n",
        "print(As[3])"
      ],
      "metadata": {
        "colab": {
          "base_uri": "https://localhost:8080/",
          "height": 691
        },
        "id": "G_PMKnFClJ5U",
        "outputId": "2420675c-3918-4ca8-a385-0cd8bc6fcede"
      },
      "execution_count": null,
      "outputs": [
        {
          "output_type": "stream",
          "name": "stdout",
          "text": [
            "0    4\n",
            "1    7\n",
            "2    2\n",
            "4    1\n",
            "5    8\n",
            "dtype: int64\n"
          ]
        },
        {
          "output_type": "error",
          "ename": "KeyError",
          "evalue": "ignored",
          "traceback": [
            "\u001b[0;31m---------------------------------------------------------------------------\u001b[0m",
            "\u001b[0;31mKeyError\u001b[0m                                  Traceback (most recent call last)",
            "\u001b[0;32m/usr/local/lib/python3.7/dist-packages/pandas/core/indexes/base.py\u001b[0m in \u001b[0;36mget_loc\u001b[0;34m(self, key, method, tolerance)\u001b[0m\n\u001b[1;32m   3360\u001b[0m             \u001b[0;32mtry\u001b[0m\u001b[0;34m:\u001b[0m\u001b[0;34m\u001b[0m\u001b[0;34m\u001b[0m\u001b[0m\n\u001b[0;32m-> 3361\u001b[0;31m                 \u001b[0;32mreturn\u001b[0m \u001b[0mself\u001b[0m\u001b[0;34m.\u001b[0m\u001b[0m_engine\u001b[0m\u001b[0;34m.\u001b[0m\u001b[0mget_loc\u001b[0m\u001b[0;34m(\u001b[0m\u001b[0mcasted_key\u001b[0m\u001b[0;34m)\u001b[0m\u001b[0;34m\u001b[0m\u001b[0;34m\u001b[0m\u001b[0m\n\u001b[0m\u001b[1;32m   3362\u001b[0m             \u001b[0;32mexcept\u001b[0m \u001b[0mKeyError\u001b[0m \u001b[0;32mas\u001b[0m \u001b[0merr\u001b[0m\u001b[0;34m:\u001b[0m\u001b[0;34m\u001b[0m\u001b[0;34m\u001b[0m\u001b[0m\n",
            "\u001b[0;32m/usr/local/lib/python3.7/dist-packages/pandas/_libs/index.pyx\u001b[0m in \u001b[0;36mpandas._libs.index.IndexEngine.get_loc\u001b[0;34m()\u001b[0m\n",
            "\u001b[0;32m/usr/local/lib/python3.7/dist-packages/pandas/_libs/index.pyx\u001b[0m in \u001b[0;36mpandas._libs.index.IndexEngine.get_loc\u001b[0;34m()\u001b[0m\n",
            "\u001b[0;32mpandas/_libs/hashtable_class_helper.pxi\u001b[0m in \u001b[0;36mpandas._libs.hashtable.Int64HashTable.get_item\u001b[0;34m()\u001b[0m\n",
            "\u001b[0;32mpandas/_libs/hashtable_class_helper.pxi\u001b[0m in \u001b[0;36mpandas._libs.hashtable.Int64HashTable.get_item\u001b[0;34m()\u001b[0m\n",
            "\u001b[0;31mKeyError\u001b[0m: 3",
            "\nThe above exception was the direct cause of the following exception:\n",
            "\u001b[0;31mKeyError\u001b[0m                                  Traceback (most recent call last)",
            "\u001b[0;32m<ipython-input-76-337938ba9d54>\u001b[0m in \u001b[0;36m<module>\u001b[0;34m()\u001b[0m\n\u001b[1;32m      1\u001b[0m \u001b[0mAs\u001b[0m\u001b[0;34m=\u001b[0m\u001b[0mpd\u001b[0m\u001b[0;34m.\u001b[0m\u001b[0mSeries\u001b[0m\u001b[0;34m(\u001b[0m\u001b[0;34m[\u001b[0m\u001b[0;36m4\u001b[0m\u001b[0;34m,\u001b[0m\u001b[0;36m7\u001b[0m\u001b[0;34m,\u001b[0m\u001b[0;36m2\u001b[0m\u001b[0;34m,\u001b[0m\u001b[0;36m1\u001b[0m\u001b[0;34m,\u001b[0m\u001b[0;36m8\u001b[0m\u001b[0;34m]\u001b[0m\u001b[0;34m,\u001b[0m\u001b[0mindex\u001b[0m\u001b[0;34m=\u001b[0m\u001b[0;34m[\u001b[0m\u001b[0;36m0\u001b[0m\u001b[0;34m,\u001b[0m\u001b[0;36m1\u001b[0m\u001b[0;34m,\u001b[0m\u001b[0;36m2\u001b[0m\u001b[0;34m,\u001b[0m\u001b[0;36m4\u001b[0m\u001b[0;34m,\u001b[0m\u001b[0;36m5\u001b[0m\u001b[0;34m]\u001b[0m\u001b[0;34m)\u001b[0m\u001b[0;34m\u001b[0m\u001b[0;34m\u001b[0m\u001b[0m\n\u001b[1;32m      2\u001b[0m \u001b[0mprint\u001b[0m\u001b[0;34m(\u001b[0m\u001b[0mAs\u001b[0m\u001b[0;34m)\u001b[0m\u001b[0;34m\u001b[0m\u001b[0;34m\u001b[0m\u001b[0m\n\u001b[0;32m----> 3\u001b[0;31m \u001b[0mprint\u001b[0m\u001b[0;34m(\u001b[0m\u001b[0mAs\u001b[0m\u001b[0;34m[\u001b[0m\u001b[0;36m3\u001b[0m\u001b[0;34m]\u001b[0m\u001b[0;34m)\u001b[0m\u001b[0;34m\u001b[0m\u001b[0;34m\u001b[0m\u001b[0m\n\u001b[0m",
            "\u001b[0;32m/usr/local/lib/python3.7/dist-packages/pandas/core/series.py\u001b[0m in \u001b[0;36m__getitem__\u001b[0;34m(self, key)\u001b[0m\n\u001b[1;32m    940\u001b[0m \u001b[0;34m\u001b[0m\u001b[0m\n\u001b[1;32m    941\u001b[0m         \u001b[0;32melif\u001b[0m \u001b[0mkey_is_scalar\u001b[0m\u001b[0;34m:\u001b[0m\u001b[0;34m\u001b[0m\u001b[0;34m\u001b[0m\u001b[0m\n\u001b[0;32m--> 942\u001b[0;31m             \u001b[0;32mreturn\u001b[0m \u001b[0mself\u001b[0m\u001b[0;34m.\u001b[0m\u001b[0m_get_value\u001b[0m\u001b[0;34m(\u001b[0m\u001b[0mkey\u001b[0m\u001b[0;34m)\u001b[0m\u001b[0;34m\u001b[0m\u001b[0;34m\u001b[0m\u001b[0m\n\u001b[0m\u001b[1;32m    943\u001b[0m \u001b[0;34m\u001b[0m\u001b[0m\n\u001b[1;32m    944\u001b[0m         \u001b[0;32mif\u001b[0m \u001b[0mis_hashable\u001b[0m\u001b[0;34m(\u001b[0m\u001b[0mkey\u001b[0m\u001b[0;34m)\u001b[0m\u001b[0;34m:\u001b[0m\u001b[0;34m\u001b[0m\u001b[0;34m\u001b[0m\u001b[0m\n",
            "\u001b[0;32m/usr/local/lib/python3.7/dist-packages/pandas/core/series.py\u001b[0m in \u001b[0;36m_get_value\u001b[0;34m(self, label, takeable)\u001b[0m\n\u001b[1;32m   1049\u001b[0m \u001b[0;34m\u001b[0m\u001b[0m\n\u001b[1;32m   1050\u001b[0m         \u001b[0;31m# Similar to Index.get_value, but we do not fall back to positional\u001b[0m\u001b[0;34m\u001b[0m\u001b[0;34m\u001b[0m\u001b[0;34m\u001b[0m\u001b[0m\n\u001b[0;32m-> 1051\u001b[0;31m         \u001b[0mloc\u001b[0m \u001b[0;34m=\u001b[0m \u001b[0mself\u001b[0m\u001b[0;34m.\u001b[0m\u001b[0mindex\u001b[0m\u001b[0;34m.\u001b[0m\u001b[0mget_loc\u001b[0m\u001b[0;34m(\u001b[0m\u001b[0mlabel\u001b[0m\u001b[0;34m)\u001b[0m\u001b[0;34m\u001b[0m\u001b[0;34m\u001b[0m\u001b[0m\n\u001b[0m\u001b[1;32m   1052\u001b[0m         \u001b[0;32mreturn\u001b[0m \u001b[0mself\u001b[0m\u001b[0;34m.\u001b[0m\u001b[0mindex\u001b[0m\u001b[0;34m.\u001b[0m\u001b[0m_get_values_for_loc\u001b[0m\u001b[0;34m(\u001b[0m\u001b[0mself\u001b[0m\u001b[0;34m,\u001b[0m \u001b[0mloc\u001b[0m\u001b[0;34m,\u001b[0m \u001b[0mlabel\u001b[0m\u001b[0;34m)\u001b[0m\u001b[0;34m\u001b[0m\u001b[0;34m\u001b[0m\u001b[0m\n\u001b[1;32m   1053\u001b[0m \u001b[0;34m\u001b[0m\u001b[0m\n",
            "\u001b[0;32m/usr/local/lib/python3.7/dist-packages/pandas/core/indexes/base.py\u001b[0m in \u001b[0;36mget_loc\u001b[0;34m(self, key, method, tolerance)\u001b[0m\n\u001b[1;32m   3361\u001b[0m                 \u001b[0;32mreturn\u001b[0m \u001b[0mself\u001b[0m\u001b[0;34m.\u001b[0m\u001b[0m_engine\u001b[0m\u001b[0;34m.\u001b[0m\u001b[0mget_loc\u001b[0m\u001b[0;34m(\u001b[0m\u001b[0mcasted_key\u001b[0m\u001b[0;34m)\u001b[0m\u001b[0;34m\u001b[0m\u001b[0;34m\u001b[0m\u001b[0m\n\u001b[1;32m   3362\u001b[0m             \u001b[0;32mexcept\u001b[0m \u001b[0mKeyError\u001b[0m \u001b[0;32mas\u001b[0m \u001b[0merr\u001b[0m\u001b[0;34m:\u001b[0m\u001b[0;34m\u001b[0m\u001b[0;34m\u001b[0m\u001b[0m\n\u001b[0;32m-> 3363\u001b[0;31m                 \u001b[0;32mraise\u001b[0m \u001b[0mKeyError\u001b[0m\u001b[0;34m(\u001b[0m\u001b[0mkey\u001b[0m\u001b[0;34m)\u001b[0m \u001b[0;32mfrom\u001b[0m \u001b[0merr\u001b[0m\u001b[0;34m\u001b[0m\u001b[0;34m\u001b[0m\u001b[0m\n\u001b[0m\u001b[1;32m   3364\u001b[0m \u001b[0;34m\u001b[0m\u001b[0m\n\u001b[1;32m   3365\u001b[0m         \u001b[0;32mif\u001b[0m \u001b[0mis_scalar\u001b[0m\u001b[0;34m(\u001b[0m\u001b[0mkey\u001b[0m\u001b[0;34m)\u001b[0m \u001b[0;32mand\u001b[0m \u001b[0misna\u001b[0m\u001b[0;34m(\u001b[0m\u001b[0mkey\u001b[0m\u001b[0;34m)\u001b[0m \u001b[0;32mand\u001b[0m \u001b[0;32mnot\u001b[0m \u001b[0mself\u001b[0m\u001b[0;34m.\u001b[0m\u001b[0mhasnans\u001b[0m\u001b[0;34m:\u001b[0m\u001b[0;34m\u001b[0m\u001b[0;34m\u001b[0m\u001b[0m\n",
            "\u001b[0;31mKeyError\u001b[0m: 3"
          ]
        }
      ]
    }
  ]
}