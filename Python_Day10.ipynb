{
  "nbformat": 4,
  "nbformat_minor": 0,
  "metadata": {
    "colab": {
      "name": "Python10.ipynb",
      "provenance": [],
      "collapsed_sections": []
    },
    "kernelspec": {
      "name": "python3",
      "display_name": "Python 3"
    },
    "language_info": {
      "name": "python"
    }
  },
  "cells": [
    {
      "cell_type": "code",
      "execution_count": null,
      "metadata": {
        "id": "15RVKaNQjzaX"
      },
      "outputs": [],
      "source": [
        "import time\n",
        "import numpy as np\n",
        "\n",
        "x=np.random.rand(10000000)\n",
        "print(len(x))\n",
        "print(x)\n",
        "\n",
        "strt=time.time()\n",
        "Nrmlmean=sum(x)/len(x)\n",
        "print(time.time()-strt)\n",
        "\n",
        "strt1=time.time()\n",
        "Npmean=np.mean(x)\n",
        "print(time.time()-strt1)\n",
        "\n",
        "print(Nrmlmean)\n",
        "print(Npmean)"
      ]
    },
    {
      "cell_type": "code",
      "source": [
        "A=[2,3,4,5.0,'s',[7,8,9,7]]\n",
        "print(A)\n",
        "print(type(A))\n",
        "\n",
        "A=np.array([[2,3,4],[7,8,9]])\n",
        "print(A)\n",
        "print(type(A))\n",
        "\n",
        "A=np.array([2,3,4])\n",
        "print(A)\n",
        "print(type(A))"
      ],
      "metadata": {
        "colab": {
          "base_uri": "https://localhost:8080/"
        },
        "id": "l0Y2SQnvsOTU",
        "outputId": "d2a530c0-c1c0-41cc-fd6a-3436dcc5fa4a"
      },
      "execution_count": null,
      "outputs": [
        {
          "output_type": "stream",
          "name": "stdout",
          "text": [
            "[2, 3, 4, 5.0, 's', [7, 8, 9, 7]]\n",
            "<class 'list'>\n",
            "[[2 3 4]\n",
            " [7 8 9]]\n",
            "<class 'numpy.ndarray'>\n",
            "[2 3 4]\n",
            "<class 'numpy.ndarray'>\n"
          ]
        }
      ]
    },
    {
      "cell_type": "code",
      "source": [
        "print(A[0])"
      ],
      "metadata": {
        "colab": {
          "base_uri": "https://localhost:8080/"
        },
        "id": "9r9BVjcNu82G",
        "outputId": "098b4b23-5570-44ef-f090-c45bbf145a9f"
      },
      "execution_count": null,
      "outputs": [
        {
          "output_type": "stream",
          "name": "stdout",
          "text": [
            "2\n"
          ]
        }
      ]
    },
    {
      "cell_type": "code",
      "source": [
        "A=np.array([4,5,1,2,5,7,8,5])\n",
        "for i in range(len(A)):\n",
        "  if i%2==0:\n",
        "    print(A[i])\n"
      ],
      "metadata": {
        "id": "VvE0BgkvwErt"
      },
      "execution_count": null,
      "outputs": []
    },
    {
      "cell_type": "code",
      "source": [
        "print(A.shape)\n",
        "A1=np.array([[2,3,4],[7,8,9]])\n",
        "print(A1.shape)\n",
        "print(type(A1))\n",
        "print(A1.dtype)"
      ],
      "metadata": {
        "colab": {
          "base_uri": "https://localhost:8080/"
        },
        "id": "RqWKWQ9VwZqU",
        "outputId": "00d4008a-77d5-44ba-b5f2-40c3a9b81520"
      },
      "execution_count": null,
      "outputs": [
        {
          "output_type": "stream",
          "name": "stdout",
          "text": [
            "(8,)\n",
            "(2, 3)\n",
            "<class 'numpy.ndarray'>\n",
            "int64\n"
          ]
        }
      ]
    },
    {
      "cell_type": "code",
      "source": [
        "A1=np.array([[2,3,4,7,7],[7,8,9]])\n",
        "print(A1)\n",
        "print(A1[0])"
      ],
      "metadata": {
        "id": "5Xb3QfMzw3LF",
        "colab": {
          "base_uri": "https://localhost:8080/"
        },
        "outputId": "69fe8ad9-147e-407e-b627-325cde7afb43"
      },
      "execution_count": null,
      "outputs": [
        {
          "output_type": "stream",
          "name": "stdout",
          "text": [
            "[list([2, 3, 4, 7, 7]) list([7, 8, 9])]\n",
            "[2, 3, 4, 7, 7]\n"
          ]
        },
        {
          "output_type": "stream",
          "name": "stderr",
          "text": [
            "/usr/local/lib/python3.7/dist-packages/ipykernel_launcher.py:1: VisibleDeprecationWarning: Creating an ndarray from ragged nested sequences (which is a list-or-tuple of lists-or-tuples-or ndarrays with different lengths or shapes) is deprecated. If you meant to do this, you must specify 'dtype=object' when creating the ndarray\n",
            "  \"\"\"Entry point for launching an IPython kernel.\n"
          ]
        }
      ]
    },
    {
      "cell_type": "code",
      "source": [
        "A1=np.array([[2,3,4,7],[1,2,7,8],[4,5,7,1],[0,1,2,3]])\n",
        "print(A1)\n",
        "#print(A1[0,1])\n",
        "\n",
        "for i in range(len(A1)):\n",
        "  for j in range(len(A1)):\n",
        "    if i==j:\n",
        "      print(A1[i,j])\n"
      ],
      "metadata": {
        "colab": {
          "base_uri": "https://localhost:8080/"
        },
        "id": "nmf-MYHDx_7-",
        "outputId": "94c2e6e4-1f57-4d62-f404-20759ba82255"
      },
      "execution_count": null,
      "outputs": [
        {
          "output_type": "stream",
          "name": "stdout",
          "text": [
            "[[2 3 4 7]\n",
            " [1 2 7 8]\n",
            " [4 5 7 1]\n",
            " [0 1 2 3]]\n",
            "2\n",
            "2\n",
            "7\n",
            "3\n"
          ]
        }
      ]
    },
    {
      "cell_type": "code",
      "source": [
        "for i in range(len(A1)):\n",
        "  for j in range(len(A1)):\n",
        "    if i+j==len(A1)-1:\n",
        "      print(A1[i,j])"
      ],
      "metadata": {
        "id": "XRR0tWyE041H"
      },
      "execution_count": null,
      "outputs": []
    },
    {
      "cell_type": "code",
      "source": [
        "A1=np.array(1)\n",
        "A2=np.array([1,2,4,5])\n",
        "A3=np.array([[1,2,4,5],[2,3,4,5]])\n",
        "A4=np.array([[[1,2,4,5],[2,3,4,5]],[[1,2,4,5],[2,3,4,5]]])\n",
        "print(len(A1.shape))\n",
        "print(len(A2.shape))\n",
        "print(len(A3.shape))\n",
        "print(len(A4.shape))\n",
        "print(A4.ndim)\n"
      ],
      "metadata": {
        "colab": {
          "base_uri": "https://localhost:8080/"
        },
        "id": "yvwZrbso3tW1",
        "outputId": "03ea9747-0e15-4c6b-c046-b4e11b535dd7"
      },
      "execution_count": null,
      "outputs": [
        {
          "output_type": "stream",
          "name": "stdout",
          "text": [
            "0\n",
            "1\n",
            "2\n",
            "3\n",
            "3\n"
          ]
        }
      ]
    },
    {
      "cell_type": "code",
      "source": [
        "A=[1,4,5,7]\n",
        "B=(1,2,4,5)\n",
        "D={3,4,5,6}\n",
        "C='123'\n",
        "Out=np.array(A,ndmin=3)\n",
        "print(Out)\n",
        "print(Out.ndim)"
      ],
      "metadata": {
        "colab": {
          "base_uri": "https://localhost:8080/"
        },
        "id": "dCmuxZmG4Z7H",
        "outputId": "ca7fdf2b-9b51-4415-e6a5-372aa054eef8"
      },
      "execution_count": null,
      "outputs": [
        {
          "output_type": "stream",
          "name": "stdout",
          "text": [
            "[[[1 4 5 7]]]\n",
            "3\n"
          ]
        }
      ]
    },
    {
      "cell_type": "code",
      "source": [
        "A=[1,2,1.2,2.2,'2']\n",
        "Out=np.array(A)\n",
        "print(Out)\n",
        "print(Out.dtype)\n"
      ],
      "metadata": {
        "id": "cVx6Q-KK5Rgp"
      },
      "execution_count": null,
      "outputs": []
    },
    {
      "cell_type": "markdown",
      "source": [
        "### Get number of employee from user for each user collect folowing information\n",
        "- Id\n",
        "- Salary\n",
        "- Pin Code\n",
        "- Dept. Id\n",
        "# Store the information collected in 2 dimentional array and print Number of employee having salary greater than 30000 with their Id Number\n"
      ],
      "metadata": {
        "id": "8f8jSkLR6t9z"
      }
    },
    {
      "cell_type": "code",
      "source": [
        "from numpy.core.multiarray import empty_like\n",
        "Num=int(input(\"Enter Count Of Emps: \"))\n",
        "Empid=[]\n",
        "EmpSal=[]\n",
        "Emppin=[]\n",
        "EmpDid=[]\n",
        "for i in range(Num):\n",
        "  Empid.append(int(input(\"Emp id of Emp No. \"+str(i))))\n",
        "  EmpSal.append(int(input(\"Salary of Emp No. \"+str(i))))\n",
        "  Emppin.append(int(input(\"Pin Number of Emp No. \"+str(i))))\n",
        "  EmpDid.append(int(input(\"Dept. id of Emp No. \"+str(i))))\n",
        "  \n",
        "print(Empid)\n",
        "print(EmpSal)\n",
        "print(Emppin)\n",
        "print(EmpDid)\n"
      ],
      "metadata": {
        "id": "SxnFeq2W6QIC"
      },
      "execution_count": null,
      "outputs": []
    },
    {
      "cell_type": "code",
      "source": [
        "Info=np.array([Empid,EmpSal,Emppin,EmpDid])\n",
        "print(Info.shape)\n",
        "print(Info.ndim)\n",
        "print(Info)"
      ],
      "metadata": {
        "colab": {
          "base_uri": "https://localhost:8080/"
        },
        "id": "gHTOcQ4585Zp",
        "outputId": "56e26b4e-4c5d-4a66-9e0e-82e5205b9d11"
      },
      "execution_count": null,
      "outputs": [
        {
          "output_type": "stream",
          "name": "stdout",
          "text": [
            "(4, 3)\n",
            "2\n",
            "[[    45      8    112]\n",
            " [ 10000  45454 465465]\n",
            " [112244 112123 122244]\n",
            " [     5      4    232]]\n"
          ]
        }
      ]
    },
    {
      "cell_type": "code",
      "source": [
        "Temp=Info[1,:] # salary row number \n",
        "cnt=0\n",
        "for i in range(len(Temp)):\n",
        "  if Temp[i]>30000:\n",
        "    cnt+=1\n",
        "    print(Info[0,i])\n",
        "print(\"Total Count of Emp above 30k are \",cnt)    "
      ],
      "metadata": {
        "colab": {
          "base_uri": "https://localhost:8080/"
        },
        "id": "X9G4c0-RDdJq",
        "outputId": "d6391198-cd27-4ab8-e7ea-7b84e4d9dee1"
      },
      "execution_count": null,
      "outputs": [
        {
          "output_type": "stream",
          "name": "stdout",
          "text": [
            "8\n",
            "112\n",
            "Total Count of Emp above 30k are  2\n"
          ]
        }
      ]
    },
    {
      "cell_type": "code",
      "source": [
        "Temp=Info[1,:]\n",
        "cnt=0\n",
        "Inf=[]\n",
        "for i in range(len(Temp)):\n",
        "  if Temp[i]>30000:\n",
        "    cnt+=1\n",
        "    Inf.append(i)\n",
        "\n",
        "print(\"Total Count of Emp above 30k are \",cnt) \n",
        "for i in Inf:\n",
        "  print(Info[0,i])\n",
        "  "
      ],
      "metadata": {
        "colab": {
          "base_uri": "https://localhost:8080/"
        },
        "id": "Vq4IKcsyFOls",
        "outputId": "c0fdff85-af9b-48dc-f0b4-df0cd2e17260"
      },
      "execution_count": null,
      "outputs": [
        {
          "output_type": "stream",
          "name": "stdout",
          "text": [
            "Total Count of Emp above 30k are  2\n",
            "8\n",
            "112\n"
          ]
        }
      ]
    },
    {
      "cell_type": "code",
      "source": [
        "Temp=Info[1,:]\n",
        "print(Temp[Temp>30000])\n",
        "print(len(Temp[Temp>30000]))\n",
        "print(Info[0,Temp>30000])\n",
        "\n"
      ],
      "metadata": {
        "colab": {
          "base_uri": "https://localhost:8080/"
        },
        "id": "1Wio3LgMGvHP",
        "outputId": "12a2f7c1-2e56-4984-d636-72c10023393f"
      },
      "execution_count": null,
      "outputs": [
        {
          "output_type": "stream",
          "name": "stdout",
          "text": [
            "[ 45454 465465]\n",
            "2\n",
            "[  8 112]\n"
          ]
        }
      ]
    },
    {
      "cell_type": "code",
      "source": [
        "print(Info)\n",
        "Temp=Info[0,:]\n",
        "print(Info[2,Temp>10])"
      ],
      "metadata": {
        "colab": {
          "base_uri": "https://localhost:8080/"
        },
        "id": "0Ri3mzkZIKPp",
        "outputId": "c0bd0ca4-17bd-4050-fa42-d700244956bd"
      },
      "execution_count": null,
      "outputs": [
        {
          "output_type": "stream",
          "name": "stdout",
          "text": [
            "[[    45      8    112]\n",
            " [ 10000  45454 465465]\n",
            " [112244 112123 122244]\n",
            " [     5      4    232]]\n",
            "[112244 122244]\n"
          ]
        }
      ]
    }
  ]
}